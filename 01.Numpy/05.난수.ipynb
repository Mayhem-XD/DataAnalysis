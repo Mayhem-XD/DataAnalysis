{
 "cells": [
  {
   "attachments": {},
   "cell_type": "markdown",
   "metadata": {},
   "source": [
    "### 5. 난수 발생과 카운팅"
   ]
  },
  {
   "cell_type": "code",
   "execution_count": 1,
   "metadata": {},
   "outputs": [],
   "source": [
    "import numpy as np"
   ]
  },
  {
   "attachments": {},
   "cell_type": "markdown",
   "metadata": {},
   "source": [
    "- Seed 설정"
   ]
  },
  {
   "cell_type": "code",
   "execution_count": 2,
   "metadata": {},
   "outputs": [
    {
     "data": {
      "text/plain": [
       "array([0.3219883 , 0.89042245, 0.58805226, 0.12659609, 0.14134122])"
      ]
     },
     "execution_count": 2,
     "metadata": {},
     "output_type": "execute_result"
    }
   ],
   "source": [
    "np.random.seed(2023)\n",
    "np.random.random(5)"
   ]
  },
  {
   "attachments": {},
   "cell_type": "markdown",
   "metadata": {},
   "source": [
    "- 데이터의 순서 바꾸기"
   ]
  },
  {
   "cell_type": "code",
   "execution_count": 3,
   "metadata": {},
   "outputs": [
    {
     "data": {
      "text/plain": [
       "array([0, 1, 2, 3, 4, 5, 6, 7, 8, 9])"
      ]
     },
     "execution_count": 3,
     "metadata": {},
     "output_type": "execute_result"
    }
   ],
   "source": [
    "x = np.arange(10)\n",
    "x"
   ]
  },
  {
   "cell_type": "code",
   "execution_count": 4,
   "metadata": {},
   "outputs": [
    {
     "data": {
      "text/plain": [
       "array([7, 4, 3, 2, 8, 9, 1, 6, 0, 5])"
      ]
     },
     "execution_count": 4,
     "metadata": {},
     "output_type": "execute_result"
    }
   ],
   "source": [
    "np.random.shuffle(x)\n",
    "x"
   ]
  },
  {
   "attachments": {},
   "cell_type": "markdown",
   "metadata": {},
   "source": [
    "- 데이터 샘플링"
   ]
  },
  {
   "cell_type": "code",
   "execution_count": 5,
   "metadata": {},
   "outputs": [
    {
     "data": {
      "text/plain": [
       "array([3, 4, 0, 2, 1])"
      ]
     },
     "execution_count": 5,
     "metadata": {},
     "output_type": "execute_result"
    }
   ],
   "source": [
    "np.random.choice(5, 5,replace=False)"
   ]
  },
  {
   "cell_type": "code",
   "execution_count": 7,
   "metadata": {},
   "outputs": [
    {
     "data": {
      "text/plain": [
       "array([71, 16, 89, 73, 48, 66, 72, 23, 54,  8])"
      ]
     },
     "execution_count": 7,
     "metadata": {},
     "output_type": "execute_result"
    }
   ],
   "source": [
    "x = np.random.randint(1,100,10)\n",
    "x"
   ]
  },
  {
   "cell_type": "code",
   "execution_count": 8,
   "metadata": {},
   "outputs": [
    {
     "data": {
      "text/plain": [
       "array([54,  8, 23, 72, 73])"
      ]
     },
     "execution_count": 8,
     "metadata": {},
     "output_type": "execute_result"
    }
   ],
   "source": [
    "np.random.choice(x,5,replace=False)"
   ]
  },
  {
   "attachments": {},
   "cell_type": "markdown",
   "metadata": {},
   "source": [
    "- 난수 생성"
   ]
  },
  {
   "cell_type": "code",
   "execution_count": 9,
   "metadata": {},
   "outputs": [
    {
     "data": {
      "text/plain": [
       "array([0.59310305, 0.9147945 , 0.25066314, 0.07173657, 0.30121014,\n",
       "       0.26788935, 0.72442186, 0.4034967 , 0.47762815, 0.21232418])"
      ]
     },
     "execution_count": 9,
     "metadata": {},
     "output_type": "execute_result"
    }
   ],
   "source": [
    "# random() - Uniform 분포, 0 ~ 1 사이의 값\n",
    "np.random.random(10)"
   ]
  },
  {
   "cell_type": "code",
   "execution_count": 10,
   "metadata": {},
   "outputs": [
    {
     "data": {
      "text/plain": [
       "array([4, 6, 2, 4, 5, 4, 6, 6, 2, 5])"
      ]
     },
     "execution_count": 10,
     "metadata": {},
     "output_type": "execute_result"
    }
   ],
   "source": [
    "# randint(low,high,N) - [low high)\n",
    "np.random.randint(1,7,10)"
   ]
  },
  {
   "cell_type": "code",
   "execution_count": 11,
   "metadata": {},
   "outputs": [
    {
     "data": {
      "text/plain": [
       "array([157.48804459, 166.55865928, 180.86199825, 172.62609705,\n",
       "       169.99914394, 177.58645897, 167.26943945, 147.39058082,\n",
       "       172.02856304, 170.06243698])"
      ]
     },
     "execution_count": 11,
     "metadata": {},
     "output_type": "execute_result"
    }
   ],
   "source": [
    "# normal(평균, 표준편차, N) - 정규분포\n",
    "np.random.normal(170,10,10)"
   ]
  },
  {
   "cell_type": "code",
   "execution_count": 12,
   "metadata": {},
   "outputs": [
    {
     "data": {
      "text/plain": [
       "array([-0.69789635,  1.3179999 , -1.3305147 ,  1.84333885,  0.07586461,\n",
       "       -0.88877486,  0.72900879,  0.17879745,  0.79162212, -0.51695485])"
      ]
     },
     "execution_count": 12,
     "metadata": {},
     "output_type": "execute_result"
    }
   ],
   "source": [
    "# randn(N) - 표준정규분포 N(0, 1)\n",
    "np.random.randn(10)"
   ]
  },
  {
   "cell_type": "code",
   "execution_count": 13,
   "metadata": {},
   "outputs": [
    {
     "data": {
      "text/plain": [
       "array([[5, 2, 4, 5, 2],\n",
       "       [6, 4, 6, 6, 4],\n",
       "       [6, 5, 7, 5, 5],\n",
       "       [5, 6, 3, 6, 7]])"
      ]
     },
     "execution_count": 13,
     "metadata": {},
     "output_type": "execute_result"
    }
   ],
   "source": [
    "# binomial (시도횟수, 평균, N) - 이항분포 B(N, p)\n",
    "np.random.binomial(10,0.5,20).reshape(4,5)"
   ]
  },
  {
   "cell_type": "code",
   "execution_count": 14,
   "metadata": {},
   "outputs": [
    {
     "data": {
      "text/plain": [
       "array([ 2.6474858 ,  0.11196557,  2.47395645, -1.38920435, -0.87036697,\n",
       "        0.37764753, -1.24874601, -0.56429419, -1.74308619, -0.00891616])"
      ]
     },
     "execution_count": 14,
     "metadata": {},
     "output_type": "execute_result"
    }
   ],
   "source": [
    "# 가설 검정: t - 검정\n",
    "# standard_t(자유도, N)\n",
    "np.random.standard_t(2,10)"
   ]
  },
  {
   "cell_type": "code",
   "execution_count": 30,
   "metadata": {},
   "outputs": [
    {
     "data": {
      "text/plain": [
       "array([1, 0, 0, 0, 0, 1, 1, 0, 1, 1])"
      ]
     },
     "execution_count": 30,
     "metadata": {},
     "output_type": "execute_result"
    }
   ],
   "source": [
    "# 3-5-1\n",
    "x_ = np.random.binomial(1,0.5,10)\n",
    "x_"
   ]
  },
  {
   "cell_type": "code",
   "execution_count": 88,
   "metadata": {},
   "outputs": [
    {
     "data": {
      "text/plain": [
       "3.68"
      ]
     },
     "execution_count": 88,
     "metadata": {},
     "output_type": "execute_result"
    }
   ],
   "source": [
    "x_1 = np.random.randint(1,7,100)\n",
    "x_1.mean()"
   ]
  },
  {
   "cell_type": "code",
   "execution_count": 101,
   "metadata": {},
   "outputs": [
    {
     "name": "stdout",
     "output_type": "stream",
     "text": [
      "10,359\n"
     ]
    }
   ],
   "source": [
    "# 3-5-2\n",
    "money = 10000\n",
    "for _ in range(250):\n",
    "    money = int(money + (money * np.random.normal(0,0.01)))\n",
    "print(f'{money:,d}')"
   ]
  },
  {
   "cell_type": "code",
   "execution_count": 112,
   "metadata": {},
   "outputs": [
    {
     "name": "stdout",
     "output_type": "stream",
     "text": [
      "10051\n",
      "10083\n",
      "9882\n",
      "9849\n",
      "10066\n",
      "10005\n",
      "9833\n",
      "10042\n",
      "10072\n",
      "10112\n",
      "10108\n",
      "9986\n",
      "10093\n",
      "10100\n",
      "10115\n",
      "9914\n",
      "9956\n",
      "9841\n",
      "10347\n",
      "9968\n",
      "9961\n",
      "10186\n",
      "9915\n",
      "10009\n",
      "10018\n",
      "9904\n",
      "9999\n",
      "9794\n",
      "10268\n",
      "9840\n",
      "9874\n",
      "9893\n",
      "9829\n",
      "9929\n",
      "10035\n",
      "10193\n",
      "10004\n",
      "9998\n",
      "10155\n",
      "9966\n",
      "9986\n",
      "9925\n",
      "10021\n",
      "10033\n",
      "10081\n",
      "9895\n",
      "9960\n",
      "9994\n",
      "9970\n",
      "9995\n",
      "9998\n",
      "9937\n",
      "9984\n",
      "9793\n",
      "10080\n",
      "10014\n",
      "10002\n",
      "9871\n",
      "9960\n",
      "10215\n",
      "10009\n",
      "10007\n",
      "9937\n",
      "9968\n",
      "9932\n",
      "10010\n",
      "9932\n",
      "10076\n",
      "9874\n",
      "10064\n",
      "9870\n",
      "10045\n",
      "10078\n",
      "10066\n",
      "9980\n",
      "10012\n",
      "9931\n",
      "10049\n",
      "10065\n",
      "10000\n",
      "10080\n",
      "10047\n",
      "10131\n",
      "10043\n",
      "9994\n",
      "10013\n",
      "10104\n",
      "10006\n",
      "9857\n",
      "10077\n",
      "9956\n",
      "10173\n",
      "10142\n",
      "9741\n",
      "9954\n",
      "10132\n",
      "9885\n",
      "10051\n",
      "10049\n",
      "9917\n"
     ]
    }
   ],
   "source": [
    "money = 10000\n",
    "for _ in range(1,101):\n",
    "    money = int(money + (money * np.random.normal(0,0.01)))\n",
    "    print(f'{money:,d}')"
   ]
  },
  {
   "cell_type": "code",
   "execution_count": 118,
   "metadata": {},
   "outputs": [],
   "source": [
    "rate = np.random.normal(0,0.01,101)\n",
    "price = 10000\n",
    "price = price + price * rate[0]"
   ]
  },
  {
   "cell_type": "code",
   "execution_count": 119,
   "metadata": {},
   "outputs": [
    {
     "name": "stdout",
     "output_type": "stream",
     "text": [
      "10041 9868 9923 9843 9863 9751 9571 9642 9493 9431 9325 9485 9392 9301 9248 9268 9367 9311 9279 9208 9251 9238 9269 9281 9407 9473 9349 9224 9080 9210 9116 9137 9184 9146 9070 9053 9046 8967 8898 8909 8829 8664 8620 8531 8627 8770 8730 8722 8741 8653 8644 8612 8564 8469 8416 8375 8289 8270 8216 8114 8133 8098 8077 8144 8033 8006 8041 8012 7946 7868 7916 8026 8082 8102 8078 8044 7924 7929 7859 7802 7675 7827 7761 7756 7709 7675 7869 7785 7768 7912 7823 7894 7873 8018 8043 8008 8013 8078 8105 8148 8243 "
     ]
    }
   ],
   "source": [
    "price = 10000\n",
    "for i in range(101):\n",
    "    price = price * (1 + rate[i])\n",
    "    price = int(np.round(price))\n",
    "    print(price,end=' ')"
   ]
  },
  {
   "cell_type": "code",
   "execution_count": 120,
   "metadata": {},
   "outputs": [
    {
     "data": {
      "text/plain": [
       "array([ 0.00711674, -0.00324485, -0.01001871,  0.00236251, -0.0010216 ])"
      ]
     },
     "execution_count": 120,
     "metadata": {},
     "output_type": "execute_result"
    }
   ],
   "source": [
    "np.random.seed(2023)\n",
    "rate = np.random.normal(0,0.01,250)\n",
    "rate[:5]"
   ]
  },
  {
   "cell_type": "code",
   "execution_count": 122,
   "metadata": {},
   "outputs": [
    {
     "data": {
      "text/plain": [
       "array([10814, 10893, 10674, 10645, 10588, 10724, 10739, 10686, 10691,\n",
       "       10497])"
      ]
     },
     "execution_count": 122,
     "metadata": {},
     "output_type": "execute_result"
    }
   ],
   "source": [
    "# 1. 리스트로 해결\n",
    "price = 10000\n",
    "price_list = []\n",
    "for i in range(250):\n",
    "    price = price * (1 + rate[i])\n",
    "    price = int(np.round(price))\n",
    "    price_list.append(price)\n",
    "price_array = np.array(price_list)\n",
    "price_array[-10:]"
   ]
  },
  {
   "cell_type": "code",
   "execution_count": 128,
   "metadata": {},
   "outputs": [
    {
     "data": {
      "text/plain": [
       "array([10814, 10893, 10674, 10645, 10588, 10724, 10739, 10686, 10691,\n",
       "       10497])"
      ]
     },
     "execution_count": 128,
     "metadata": {},
     "output_type": "execute_result"
    }
   ],
   "source": [
    "# 2. Array 로 해결\n",
    "price_array_2 = np.zeros(250, dtype=int)\n",
    "price = 10000\n",
    "for i in range(250):\n",
    "    price = price * (1 + rate[i])\n",
    "    price = int(np.round(price))\n",
    "    price_array_2[i] = price\n",
    "price_array_2[-10:]"
   ]
  },
  {
   "attachments": {},
   "cell_type": "markdown",
   "metadata": {},
   "source": [
    "- 데이터 카운팅"
   ]
  },
  {
   "cell_type": "code",
   "execution_count": 129,
   "metadata": {},
   "outputs": [
    {
     "data": {
      "text/plain": [
       "array([1, 2, 3, 4, 5, 6])"
      ]
     },
     "execution_count": 129,
     "metadata": {},
     "output_type": "execute_result"
    }
   ],
   "source": [
    "dices = np.random.randint(1,7,100)\n",
    "np.unique(dices)"
   ]
  },
  {
   "cell_type": "code",
   "execution_count": 130,
   "metadata": {},
   "outputs": [
    {
     "data": {
      "text/plain": [
       "(array([1, 2, 3, 4, 5, 6]), array([ 9, 24, 24, 13, 15, 15], dtype=int64))"
      ]
     },
     "execution_count": 130,
     "metadata": {},
     "output_type": "execute_result"
    }
   ],
   "source": [
    "np.unique(dices,return_counts=True)"
   ]
  },
  {
   "cell_type": "code",
   "execution_count": 132,
   "metadata": {},
   "outputs": [
    {
     "data": {
      "text/plain": [
       "(array([1, 2, 3, 4, 5, 6]), array([ 9, 24, 24, 13, 15, 15], dtype=int64))"
      ]
     },
     "execution_count": 132,
     "metadata": {},
     "output_type": "execute_result"
    }
   ],
   "source": [
    "indices, count = np.unique(dices,return_counts=True)\n",
    "indices, count"
   ]
  },
  {
   "cell_type": "code",
   "execution_count": 133,
   "metadata": {},
   "outputs": [
    {
     "data": {
      "text/plain": [
       "array([ 9, 48, 72, 52, 75, 90], dtype=int64)"
      ]
     },
     "execution_count": 133,
     "metadata": {},
     "output_type": "execute_result"
    }
   ],
   "source": [
    "indices*count"
   ]
  },
  {
   "cell_type": "code",
   "execution_count": 138,
   "metadata": {},
   "outputs": [
    {
     "data": {
      "text/plain": [
       "3.46"
      ]
     },
     "execution_count": 138,
     "metadata": {},
     "output_type": "execute_result"
    }
   ],
   "source": [
    "sum(indices*count)/sum(count)"
   ]
  },
  {
   "cell_type": "code",
   "execution_count": 136,
   "metadata": {},
   "outputs": [
    {
     "data": {
      "text/plain": [
       "3.46"
      ]
     },
     "execution_count": 136,
     "metadata": {},
     "output_type": "execute_result"
    }
   ],
   "source": [
    "np.mean(dices)"
   ]
  },
  {
   "cell_type": "code",
   "execution_count": 140,
   "metadata": {},
   "outputs": [
    {
     "data": {
      "text/plain": [
       "(array(['a', 'b', 'c'], dtype='<U1'), array([2, 1, 1], dtype=int64))"
      ]
     },
     "execution_count": 140,
     "metadata": {},
     "output_type": "execute_result"
    }
   ],
   "source": [
    "aa = np.array(['a', 'b', 'c', 'a'])\n",
    "index, count = np.unique(aa, return_counts=True)\n",
    "index, count"
   ]
  },
  {
   "cell_type": "code",
   "execution_count": 141,
   "metadata": {},
   "outputs": [
    {
     "data": {
      "text/plain": [
       "array([ 0,  9, 24, 24, 13, 15, 15], dtype=int64)"
      ]
     },
     "execution_count": 141,
     "metadata": {},
     "output_type": "execute_result"
    }
   ],
   "source": [
    "np.bincount(dices, minlength=6)     # 0~ 6"
   ]
  },
  {
   "cell_type": "code",
   "execution_count": null,
   "metadata": {},
   "outputs": [],
   "source": []
  }
 ],
 "metadata": {
  "kernelspec": {
   "display_name": "base",
   "language": "python",
   "name": "python3"
  },
  "language_info": {
   "codemirror_mode": {
    "name": "ipython",
    "version": 3
   },
   "file_extension": ".py",
   "mimetype": "text/x-python",
   "name": "python",
   "nbconvert_exporter": "python",
   "pygments_lexer": "ipython3",
   "version": "3.10.10"
  },
  "orig_nbformat": 4
 },
 "nbformat": 4,
 "nbformat_minor": 2
}
