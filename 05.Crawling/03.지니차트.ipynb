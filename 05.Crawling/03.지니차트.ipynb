{
 "cells": [
  {
   "cell_type": "code",
   "execution_count": 12,
   "metadata": {},
   "outputs": [],
   "source": [
    "import requests\n",
    "from urllib.parse import quote\n",
    "import pandas as pd\n",
    "from bs4 import BeautifulSoup"
   ]
  },
  {
   "cell_type": "code",
   "execution_count": 13,
   "metadata": {},
   "outputs": [
    {
     "data": {
      "text/plain": [
       "'<br>\\r\\n<br>\\r\\n<center>\\r\\n<img src=\"http://www.geniemusic.co.kr/images/common/logo_r1.png\"><br>\\r\\n<h2> <meta http-equiv=\"Content-Type\" content=\"text/html;charset=UTF-8\"> ì\\xa0\\x91ì\\x86\\x8dì\\x9a\\x94ì²\\xadì\\x9d´ ë³´ì\\x95\\x88ì\\xa0\\x95ì±\\x85ì\\x97\\x90 ì\\x9d\\x98í\\x95´ ì°¨ë\\x8b¨ë\\x90\\x98ì\\x97\\x88ì\\x8aµë\\x8b\\x88ë\\x8b¤. ë\\x8b¹ì\\x82¬ ê³\\xa0ê°\\x9dì\\x84¼í\\x84°ë¡\\x9c ë¬¸ì\\x9d\\x98í\\x95´ì£¼ì\\x8b\\xadì\\x8b\\x9cì\\x98¤.<br><br>\\r\\nThe security policy of the connection request is blocked. Contact your customer service representative.<br><br>\\r\\nì§\\x80ë\\x8b\\x88ë®¤ì§\\x81 ê³\\xa0ê°\\x9dì\\x84¼í\\x84° 1577-5337<br><br>\\r\\n</h2>\\r\\n</center>\\r\\n<br>'"
      ]
     },
     "execution_count": 13,
     "metadata": {},
     "output_type": "execute_result"
    }
   ],
   "source": [
    "# https://www.genie.co.kr/chart/top200?ditc=D&ymd=20230424&hh=13&rtm=Y&pg=1\n",
    "url = 'https://www.genie.co.kr/chart/top200'\n",
    "result = requests.get(url)\n",
    "result.text"
   ]
  },
  {
   "cell_type": "code",
   "execution_count": 14,
   "metadata": {},
   "outputs": [],
   "source": [
    "header = {'User-Agent':'Mozilla/5.0 (Windows NT 10.0; Win64; x64) AppleWebKit/537.36 (KHTML, like Gecko) Chrome/112.0.0.0 Safari/537.36'}\n",
    "result = requests.get(url, headers=header)\n",
    "soup = BeautifulSoup(result.text,'html.parser')"
   ]
  },
  {
   "cell_type": "code",
   "execution_count": 15,
   "metadata": {},
   "outputs": [
    {
     "data": {
      "text/plain": [
       "50"
      ]
     },
     "execution_count": 15,
     "metadata": {},
     "output_type": "execute_result"
    }
   ],
   "source": [
    "trs = soup.select('tr.list')\n",
    "len(trs)"
   ]
  },
  {
   "cell_type": "code",
   "execution_count": 16,
   "metadata": {},
   "outputs": [
    {
     "data": {
      "text/plain": [
       "50"
      ]
     },
     "execution_count": 16,
     "metadata": {},
     "output_type": "execute_result"
    }
   ],
   "source": [
    "# #body-content > div.newest-list > div > table > tbody > tr:nth-child(1)\n",
    "trs = soup.select('#body-content > div.newest-list > div > table > tbody > tr')\n",
    "len(trs)"
   ]
  },
  {
   "cell_type": "code",
   "execution_count": 17,
   "metadata": {},
   "outputs": [
    {
     "data": {
      "text/plain": [
       "<tr class=\"list\" songid=\"101268096\">\n",
       "<td class=\"check\"><input class=\"select-check\" title=\"I AM\" type=\"checkbox\"/></td>\n",
       "<td class=\"number\">1\n",
       "                                        \n",
       "                                    <span class=\"rank\">\n",
       "<span class=\"rank\"><span class=\"rank-none\"><span class=\"hide\">유지</span></span></span>\n",
       "</span>\n",
       "</td>\n",
       "<td><a class=\"cover\" href=\"#\" onclick=\"fnViewAlbumLayer('83665559');return false;\"><span class=\"mask\"></span><img alt=\"I've IVE\" onerror=\"this.src='//image.genie.co.kr/imageg/web/common/blank_68.gif';\" src=\"//image.genie.co.kr/Y/IMAGE/IMG_ALBUM/083/665/559/83665559_1681116738103_1_140x140.JPG/dims/resize/Q_80,0\"/></a></td>\n",
       "<td class=\"link\"><a class=\"btn-basic btn-info\" href=\"#\" onclick=\"fnViewSongInfo('101268096');return false;\">곡 제목 정보 페이지</a></td>\n",
       "<td class=\"info\">\n",
       "<a class=\"title ellipsis\" href=\"#\" onclick=\"fnPlaySong('101268096','1');return false;\" title=\"재생\">\n",
       "                                        \n",
       "                                            \n",
       "                                        \n",
       "                                        \n",
       "                                        \n",
       "                                        \n",
       "                                            \n",
       "                                                I AM</a>\n",
       "<a class=\"artist ellipsis\" href=\"#\" onclick=\"fnViewArtist('81271496');return false;\">IVE (아이브)</a>\n",
       "<div class=\"toggle-button-box\">\n",
       "<button class=\"btn artist-etc\" onclick=\"fnRelationArtistList('101268096');\" type=\"button\">외</button>\n",
       "<ul class=\"list\" id=\"RelationArtist_101268096\"></ul>\n",
       "</div>\n",
       "<i class=\"bar\">|</i>\n",
       "<a class=\"albumtitle ellipsis\" href=\"#\" onclick=\"fnViewAlbumLayer('83665559');return false;\">I've IVE</a>\n",
       "</td>\n",
       "<td class=\"btns\"><a class=\"btn-basic btn-listen\" href=\"#\" onclick=\"fnPlaySong('101268096;' ,'1'); return false;\" title=\"재생\">듣기</a></td>\n",
       "<td class=\"btns\"><a class=\"btn-basic btn-add\" href=\"#\" onclick=\"fnPlaySong('101268096;' ,'3'); return false;\" title=\"추가\">재생목록에 추가</a></td>\n",
       "<td class=\"btns\"><button class=\"btn-basic btn-album\" id=\"add_my_album_101268096\" onclick=\"fnAddMyAlbumForm('#add_my_album_101268096' , '101268096' ,10, 10);return false;\" songid=\"101268096\" type=\"button\">플레이리스트에 담기</button></td>\n",
       "<td class=\"btns\"><a class=\"btn-basic btn-down\" href=\"#\" onclick=\"fnDownSong('101268096');return false;\" title=\"다운\">다운로드</a></td>\n",
       "<td class=\"btns\">\n",
       "<div class=\"toggle-button-box lyr-mv\" id=\"list-mv_101268096\">\n",
       "<a alt=\"I AM\" class=\"btn btn-basic btn-mv\" href=\"#\" onclick=\"fnPlayMv('101268096','3'); return false;\" title=\"뮤비\">뮤직비디오 보기</a>\n",
       "</div>\n",
       "</td>\n",
       "<td class=\"more\">\n",
       "<div class=\"toggle-button-box\">\n",
       "<button class=\"btn btn-basic btn-more\" type=\"button\">더보기</button>\n",
       "<ul class=\"list\">\n",
       "<li><a class=\"item\" href=\"#\" onclick=\"shareDo('101268096');return false;\" title=\"공유\">공유하기/음악나누기</a></li>\n",
       "<li><a class=\"item\" href=\"#\" onclick=\"fnGiftSong('101268096');return false;\" title=\"선물\">선물하기</a></li>\n",
       "</ul>\n",
       "</div>\n",
       "</td>\n",
       "</tr>"
      ]
     },
     "execution_count": 17,
     "metadata": {},
     "output_type": "execute_result"
    }
   ],
   "source": [
    "# rank,img_url,title,artist,album\n",
    "tr = trs[0]\n",
    "tr"
   ]
  },
  {
   "cell_type": "code",
   "execution_count": 24,
   "metadata": {},
   "outputs": [
    {
     "data": {
      "text/plain": [
       "'1'"
      ]
     },
     "execution_count": 24,
     "metadata": {},
     "output_type": "execute_result"
    }
   ],
   "source": [
    "# rank\n",
    "tr.select_one('.number').get_text().split('\\n')[0]"
   ]
  },
  {
   "cell_type": "code",
   "execution_count": 26,
   "metadata": {},
   "outputs": [
    {
     "data": {
      "text/plain": [
       "'1'"
      ]
     },
     "execution_count": 26,
     "metadata": {},
     "output_type": "execute_result"
    }
   ],
   "source": [
    "rank = tr.select_one('.number').get_text().split('\\n')[0].strip()\n",
    "rank"
   ]
  },
  {
   "cell_type": "code",
   "execution_count": 32,
   "metadata": {},
   "outputs": [
    {
     "data": {
      "text/plain": [
       "'//image.genie.co.kr/Y/IMAGE/IMG_ALBUM/083/665/559/83665559_1681116738103_1_140x140.JPG/dims/resize/Q_80,0'"
      ]
     },
     "execution_count": 32,
     "metadata": {},
     "output_type": "execute_result"
    }
   ],
   "source": [
    "# img_url\n",
    "tr.select_one('.cover > img')['src']"
   ]
  },
  {
   "cell_type": "code",
   "execution_count": 34,
   "metadata": {},
   "outputs": [
    {
     "data": {
      "text/plain": [
       "'https://image.genie.co.kr/Y/IMAGE/IMG_ALBUM/083/665/559/83665559_1681116738103_1_140x140.JPG/dims/resize/Q_80,0'"
      ]
     },
     "execution_count": 34,
     "metadata": {},
     "output_type": "execute_result"
    }
   ],
   "source": [
    "img = 'https:' + tr.select_one('.cover > img')['src']\n",
    "img"
   ]
  },
  {
   "cell_type": "code",
   "execution_count": 36,
   "metadata": {},
   "outputs": [
    {
     "data": {
      "text/plain": [
       "'I AM'"
      ]
     },
     "execution_count": 36,
     "metadata": {},
     "output_type": "execute_result"
    }
   ],
   "source": [
    "# 19금 노래 제목\n",
    "tr.select_one('.title.ellipsis').get_text().split('\\n')[-1].strip()"
   ]
  },
  {
   "cell_type": "code",
   "execution_count": 37,
   "metadata": {},
   "outputs": [
    {
     "data": {
      "text/plain": [
       "'I AM'"
      ]
     },
     "execution_count": 37,
     "metadata": {},
     "output_type": "execute_result"
    }
   ],
   "source": [
    "# title\n",
    "tr.select_one('.title.ellipsis').get_text().strip()"
   ]
  },
  {
   "cell_type": "code",
   "execution_count": 38,
   "metadata": {},
   "outputs": [],
   "source": [
    "# 위 두 코드를 합치면\n",
    "# 1)\n",
    "title = tr.select_one('.title.ellipsis').get_text().split('\\n')[-1].strip()\n",
    "# 2)\n",
    "try:\n",
    "    title = tr.select_one('.title.ellipsis').get_text().strip()\n",
    "except:\n",
    "    title = tr.select_one('.title.ellipsis').get_text().split('\\n')[-1].strip()"
   ]
  },
  {
   "cell_type": "code",
   "execution_count": 39,
   "metadata": {},
   "outputs": [
    {
     "data": {
      "text/plain": [
       "'IVE (아이브)'"
      ]
     },
     "execution_count": 39,
     "metadata": {},
     "output_type": "execute_result"
    }
   ],
   "source": [
    "# artist\n",
    "# tr.select_one('.artist.ellipsis').string.strip()\n",
    "tr.select_one('.artist.ellipsis').get_text().strip()"
   ]
  },
  {
   "cell_type": "code",
   "execution_count": 40,
   "metadata": {},
   "outputs": [
    {
     "data": {
      "text/plain": [
       "'IVE (아이브)'"
      ]
     },
     "execution_count": 40,
     "metadata": {},
     "output_type": "execute_result"
    }
   ],
   "source": [
    "artist = tr.select_one('.artist.ellipsis').string.strip()\n",
    "artist"
   ]
  },
  {
   "cell_type": "code",
   "execution_count": 41,
   "metadata": {},
   "outputs": [
    {
     "data": {
      "text/plain": [
       "\"I've IVE\""
      ]
     },
     "execution_count": 41,
     "metadata": {},
     "output_type": "execute_result"
    }
   ],
   "source": [
    "# album\n",
    "album = tr.select_one('.albumtitle.ellipsis').text.strip()\n",
    "album"
   ]
  },
  {
   "attachments": {},
   "cell_type": "markdown",
   "metadata": {},
   "source": [
    "- 한페이내에 있는 정보"
   ]
  },
  {
   "cell_type": "code",
   "execution_count": 43,
   "metadata": {},
   "outputs": [
    {
     "data": {
      "text/html": [
       "<div>\n",
       "<style scoped>\n",
       "    .dataframe tbody tr th:only-of-type {\n",
       "        vertical-align: middle;\n",
       "    }\n",
       "\n",
       "    .dataframe tbody tr th {\n",
       "        vertical-align: top;\n",
       "    }\n",
       "\n",
       "    .dataframe thead th {\n",
       "        text-align: right;\n",
       "    }\n",
       "</style>\n",
       "<table border=\"1\" class=\"dataframe\">\n",
       "  <thead>\n",
       "    <tr style=\"text-align: right;\">\n",
       "      <th></th>\n",
       "      <th>rank</th>\n",
       "      <th>img</th>\n",
       "      <th>title</th>\n",
       "      <th>artist</th>\n",
       "      <th>album</th>\n",
       "    </tr>\n",
       "  </thead>\n",
       "  <tbody>\n",
       "    <tr>\n",
       "      <th>0</th>\n",
       "      <td>1</td>\n",
       "      <td>https://image.genie.co.kr/Y/IMAGE/IMG_ALBUM/08...</td>\n",
       "      <td>I AM</td>\n",
       "      <td>IVE (아이브)</td>\n",
       "      <td>I've IVE</td>\n",
       "    </tr>\n",
       "    <tr>\n",
       "      <th>1</th>\n",
       "      <td>2</td>\n",
       "      <td>https://image.genie.co.kr/Y/IMAGE/IMG_ALBUM/08...</td>\n",
       "      <td>Kitsch</td>\n",
       "      <td>IVE (아이브)</td>\n",
       "      <td>I've IVE</td>\n",
       "    </tr>\n",
       "    <tr>\n",
       "      <th>2</th>\n",
       "      <td>3</td>\n",
       "      <td>https://image.genie.co.kr/Y/IMAGE/IMG_ALBUM/08...</td>\n",
       "      <td>꽃</td>\n",
       "      <td>지수 (JISOO)</td>\n",
       "      <td>ME</td>\n",
       "    </tr>\n",
       "  </tbody>\n",
       "</table>\n",
       "</div>"
      ],
      "text/plain": [
       "  rank                                                img   title      artist   \n",
       "0    1  https://image.genie.co.kr/Y/IMAGE/IMG_ALBUM/08...    I AM   IVE (아이브)  \\\n",
       "1    2  https://image.genie.co.kr/Y/IMAGE/IMG_ALBUM/08...  Kitsch   IVE (아이브)   \n",
       "2    3  https://image.genie.co.kr/Y/IMAGE/IMG_ALBUM/08...       꽃  지수 (JISOO)   \n",
       "\n",
       "      album  \n",
       "0  I've IVE  \n",
       "1  I've IVE  \n",
       "2        ME  "
      ]
     },
     "execution_count": 43,
     "metadata": {},
     "output_type": "execute_result"
    }
   ],
   "source": [
    "# 방법1. 딕셔너리의 리스트로 가져오기\n",
    "line = []\n",
    "for tr in trs:\n",
    "    rank = tr.select_one('.number').get_text().split('\\n')[0].strip()\n",
    "    img = 'https:' + tr.select_one('.cover > img')['src']\n",
    "    try:\n",
    "        title = tr.select_one('.title.ellipsis').get_text().strip()\n",
    "    except:\n",
    "        title = tr.select_one('.title.ellipsis').get_text().split('\\n')[-1].strip()\n",
    "    artist = tr.select_one('.artist.ellipsis').string.strip()\n",
    "    album = tr.select_one('.albumtitle.ellipsis').text.strip()\n",
    "    line.append({'rank':rank,'img':img,'title':title,'artist':artist,'album':album})\n",
    "df = pd.DataFrame(line)\n",
    "df.head(3)"
   ]
  },
  {
   "cell_type": "code",
   "execution_count": 44,
   "metadata": {},
   "outputs": [],
   "source": [
    "# 방법2. 개별 리스트로 가져오기\n",
    "rank_list, img_list, title_list, artist_list, album_list = [],[],[],[],[]\n",
    "for tr in trs:\n",
    "    rank_list.append(tr.select_one('.number').get_text().split('\\n')[0].strip())\n",
    "    img_list.append('https:' + tr.select_one('.cover > img')['src'])\n",
    "    try:\n",
    "        title_list.append(tr.select_one('.title.ellipsis').get_text().strip())\n",
    "    except:\n",
    "        title_list.append(tr.select_one('.title.ellipsis').get_text().split('\\n')[-1].strip())\n",
    "    artist_list.append(tr.select_one('.artist.ellipsis').string.strip())\n",
    "    album_list.append(tr.select_one('.albumtitle.ellipsis').text.strip())"
   ]
  },
  {
   "cell_type": "code",
   "execution_count": 45,
   "metadata": {},
   "outputs": [
    {
     "data": {
      "text/html": [
       "<div>\n",
       "<style scoped>\n",
       "    .dataframe tbody tr th:only-of-type {\n",
       "        vertical-align: middle;\n",
       "    }\n",
       "\n",
       "    .dataframe tbody tr th {\n",
       "        vertical-align: top;\n",
       "    }\n",
       "\n",
       "    .dataframe thead th {\n",
       "        text-align: right;\n",
       "    }\n",
       "</style>\n",
       "<table border=\"1\" class=\"dataframe\">\n",
       "  <thead>\n",
       "    <tr style=\"text-align: right;\">\n",
       "      <th></th>\n",
       "      <th>rank</th>\n",
       "      <th>img</th>\n",
       "      <th>title</th>\n",
       "      <th>artist</th>\n",
       "      <th>album</th>\n",
       "    </tr>\n",
       "  </thead>\n",
       "  <tbody>\n",
       "    <tr>\n",
       "      <th>0</th>\n",
       "      <td>1</td>\n",
       "      <td>https://image.genie.co.kr/Y/IMAGE/IMG_ALBUM/08...</td>\n",
       "      <td>I AM</td>\n",
       "      <td>IVE (아이브)</td>\n",
       "      <td>I've IVE</td>\n",
       "    </tr>\n",
       "    <tr>\n",
       "      <th>1</th>\n",
       "      <td>2</td>\n",
       "      <td>https://image.genie.co.kr/Y/IMAGE/IMG_ALBUM/08...</td>\n",
       "      <td>Kitsch</td>\n",
       "      <td>IVE (아이브)</td>\n",
       "      <td>I've IVE</td>\n",
       "    </tr>\n",
       "    <tr>\n",
       "      <th>2</th>\n",
       "      <td>3</td>\n",
       "      <td>https://image.genie.co.kr/Y/IMAGE/IMG_ALBUM/08...</td>\n",
       "      <td>꽃</td>\n",
       "      <td>지수 (JISOO)</td>\n",
       "      <td>ME</td>\n",
       "    </tr>\n",
       "  </tbody>\n",
       "</table>\n",
       "</div>"
      ],
      "text/plain": [
       "  rank                                                img   title      artist   \n",
       "0    1  https://image.genie.co.kr/Y/IMAGE/IMG_ALBUM/08...    I AM   IVE (아이브)  \\\n",
       "1    2  https://image.genie.co.kr/Y/IMAGE/IMG_ALBUM/08...  Kitsch   IVE (아이브)   \n",
       "2    3  https://image.genie.co.kr/Y/IMAGE/IMG_ALBUM/08...       꽃  지수 (JISOO)   \n",
       "\n",
       "      album  \n",
       "0  I've IVE  \n",
       "1  I've IVE  \n",
       "2        ME  "
      ]
     },
     "execution_count": 45,
     "metadata": {},
     "output_type": "execute_result"
    }
   ],
   "source": [
    "df2 = pd.DataFrame({\n",
    "        'rank': rank_list,\n",
    "        'img' : img_list,\n",
    "        'title' : title_list,\n",
    "        'artist' : artist_list,\n",
    "        'album' : album_list\n",
    "})\n",
    "df2.head(3)"
   ]
  },
  {
   "attachments": {},
   "cell_type": "markdown",
   "metadata": {},
   "source": [
    "- 에러 처리"
   ]
  },
  {
   "attachments": {},
   "cell_type": "markdown",
   "metadata": {},
   "source": [
    "- 모든 페이지에 대해서 처리"
   ]
  },
  {
   "cell_type": "code",
   "execution_count": 46,
   "metadata": {},
   "outputs": [
    {
     "data": {
      "text/plain": [
       "datetime.datetime(2023, 4, 24, 15, 4, 11, 869404)"
      ]
     },
     "execution_count": 46,
     "metadata": {},
     "output_type": "execute_result"
    }
   ],
   "source": [
    "# https://www.genie.co.kr/chart/top200?ditc=D&ymd=20230424&hh=14&rtm=Y&pg=2\n",
    "from datetime import datetime\n",
    "now = datetime.now()\n",
    "now"
   ]
  },
  {
   "cell_type": "code",
   "execution_count": 48,
   "metadata": {},
   "outputs": [
    {
     "data": {
      "text/plain": [
       "('20230424', '15')"
      ]
     },
     "execution_count": 48,
     "metadata": {},
     "output_type": "execute_result"
    }
   ],
   "source": [
    "ymd = now.strftime('%Y%m%d') \n",
    "hh = now.strftime('%H') # hh = f'{now.hour:02d}\n",
    "ymd, hh"
   ]
  },
  {
   "cell_type": "code",
   "execution_count": 51,
   "metadata": {},
   "outputs": [
    {
     "name": "stderr",
     "output_type": "stream",
     "text": [
      "100%|██████████| 4/4 [00:02<00:00,  1.38it/s]\n"
     ]
    }
   ],
   "source": [
    "from tqdm import tqdm\n",
    "lines = []\n",
    "base_url = 'https://www.genie.co.kr/chart/top200?ditc=D&rtm=Y'\n",
    "for page in tqdm(range(1,5)):\n",
    "    url = f'{base_url}&ymd={ymd}&hh={hh}&pg={page}'\n",
    "    result = requests.get(url, headers=header)\n",
    "    soup = BeautifulSoup(result.text,'html.parser')\n",
    "    trs = soup.select('#body-content > div.newest-list > div > table > tbody > tr')\n",
    "    for tr in trs:\n",
    "        rank = tr.select_one('.number').get_text().split('\\n')[0].strip()\n",
    "        img = 'https:' + tr.select_one('.cover > img')['src']\n",
    "        try:\n",
    "            title = tr.select_one('.title.ellipsis').get_text().strip()\n",
    "        except:\n",
    "            title = tr.select_one('.title.ellipsis').get_text().split('\\n')[-1].strip()\n",
    "        artist = tr.select_one('.artist.ellipsis').string.strip()\n",
    "        album = tr.select_one('.albumtitle.ellipsis').text.strip()\n",
    "        lines.append({'rank':rank,'img':img,'title':title,'artist':artist,'album':album})\n",
    "        "
   ]
  },
  {
   "cell_type": "code",
   "execution_count": 52,
   "metadata": {},
   "outputs": [
    {
     "data": {
      "text/html": [
       "<div>\n",
       "<style scoped>\n",
       "    .dataframe tbody tr th:only-of-type {\n",
       "        vertical-align: middle;\n",
       "    }\n",
       "\n",
       "    .dataframe tbody tr th {\n",
       "        vertical-align: top;\n",
       "    }\n",
       "\n",
       "    .dataframe thead th {\n",
       "        text-align: right;\n",
       "    }\n",
       "</style>\n",
       "<table border=\"1\" class=\"dataframe\">\n",
       "  <thead>\n",
       "    <tr style=\"text-align: right;\">\n",
       "      <th></th>\n",
       "      <th>rank</th>\n",
       "      <th>img</th>\n",
       "      <th>title</th>\n",
       "      <th>artist</th>\n",
       "      <th>album</th>\n",
       "    </tr>\n",
       "  </thead>\n",
       "  <tbody>\n",
       "    <tr>\n",
       "      <th>195</th>\n",
       "      <td>196</td>\n",
       "      <td>https://image.genie.co.kr/Y/IMAGE/IMG_ALBUM/08...</td>\n",
       "      <td>Dive</td>\n",
       "      <td>NCT 도재정</td>\n",
       "      <td>Perfume - The 1st Mini Album</td>\n",
       "    </tr>\n",
       "    <tr>\n",
       "      <th>196</th>\n",
       "      <td>197</td>\n",
       "      <td>https://image.genie.co.kr/Y/IMAGE/IMG_ALBUM/08...</td>\n",
       "      <td>너를 생각해</td>\n",
       "      <td>주시크 (Joosiq)</td>\n",
       "      <td>너를 생각해</td>\n",
       "    </tr>\n",
       "    <tr>\n",
       "      <th>197</th>\n",
       "      <td>198</td>\n",
       "      <td>https://image.genie.co.kr/Y/IMAGE/IMG_ALBUM/08...</td>\n",
       "      <td>언제나 사랑해</td>\n",
       "      <td>케이시 (Kassy)</td>\n",
       "      <td>조영수 리메이크 프로젝트 Part.2</td>\n",
       "    </tr>\n",
       "    <tr>\n",
       "      <th>198</th>\n",
       "      <td>199</td>\n",
       "      <td>https://image.genie.co.kr/Y/IMAGE/IMG_ALBUM/08...</td>\n",
       "      <td>시작</td>\n",
       "      <td>가호 (Gaho)</td>\n",
       "      <td>이태원 클라쓰 OST Part.2 (JTBC 금토드라마)</td>\n",
       "    </tr>\n",
       "    <tr>\n",
       "      <th>199</th>\n",
       "      <td>200</td>\n",
       "      <td>https://image.genie.co.kr/Y/IMAGE/IMG_ALBUM/08...</td>\n",
       "      <td>서랍</td>\n",
       "      <td>10CM</td>\n",
       "      <td>그 해 우리는 OST Part.1</td>\n",
       "    </tr>\n",
       "  </tbody>\n",
       "</table>\n",
       "</div>"
      ],
      "text/plain": [
       "    rank                                                img    title   \n",
       "195  196  https://image.genie.co.kr/Y/IMAGE/IMG_ALBUM/08...     Dive  \\\n",
       "196  197  https://image.genie.co.kr/Y/IMAGE/IMG_ALBUM/08...   너를 생각해   \n",
       "197  198  https://image.genie.co.kr/Y/IMAGE/IMG_ALBUM/08...  언제나 사랑해   \n",
       "198  199  https://image.genie.co.kr/Y/IMAGE/IMG_ALBUM/08...       시작   \n",
       "199  200  https://image.genie.co.kr/Y/IMAGE/IMG_ALBUM/08...       서랍   \n",
       "\n",
       "           artist                            album  \n",
       "195       NCT 도재정     Perfume - The 1st Mini Album  \n",
       "196  주시크 (Joosiq)                           너를 생각해  \n",
       "197   케이시 (Kassy)             조영수 리메이크 프로젝트 Part.2  \n",
       "198     가호 (Gaho)  이태원 클라쓰 OST Part.2 (JTBC 금토드라마)  \n",
       "199          10CM               그 해 우리는 OST Part.1  "
      ]
     },
     "execution_count": 52,
     "metadata": {},
     "output_type": "execute_result"
    }
   ],
   "source": [
    "df3 = pd.DataFrame(lines)\n",
    "df3.tail()"
   ]
  },
  {
   "cell_type": "code",
   "execution_count": 60,
   "metadata": {},
   "outputs": [
    {
     "data": {
      "text/html": [
       "<div>\n",
       "<style scoped>\n",
       "    .dataframe tbody tr th:only-of-type {\n",
       "        vertical-align: middle;\n",
       "    }\n",
       "\n",
       "    .dataframe tbody tr th {\n",
       "        vertical-align: top;\n",
       "    }\n",
       "\n",
       "    .dataframe thead th {\n",
       "        text-align: right;\n",
       "    }\n",
       "</style>\n",
       "<table border=\"1\" class=\"dataframe\">\n",
       "  <thead>\n",
       "    <tr style=\"text-align: right;\">\n",
       "      <th></th>\n",
       "      <th>rank</th>\n",
       "      <th>img</th>\n",
       "      <th>title</th>\n",
       "      <th>artist</th>\n",
       "      <th>album</th>\n",
       "    </tr>\n",
       "  </thead>\n",
       "  <tbody>\n",
       "    <tr>\n",
       "      <th>0</th>\n",
       "      <td>1</td>\n",
       "      <td>https://image.genie.co.kr/Y/IMAGE/IMG_ALBUM/08...</td>\n",
       "      <td>I AM</td>\n",
       "      <td>IVE (아이브)</td>\n",
       "      <td>I've IVE</td>\n",
       "    </tr>\n",
       "    <tr>\n",
       "      <th>1</th>\n",
       "      <td>2</td>\n",
       "      <td>https://image.genie.co.kr/Y/IMAGE/IMG_ALBUM/08...</td>\n",
       "      <td>Kitsch</td>\n",
       "      <td>IVE (아이브)</td>\n",
       "      <td>I've IVE</td>\n",
       "    </tr>\n",
       "    <tr>\n",
       "      <th>2</th>\n",
       "      <td>3</td>\n",
       "      <td>https://image.genie.co.kr/Y/IMAGE/IMG_ALBUM/08...</td>\n",
       "      <td>꽃</td>\n",
       "      <td>지수 (JISOO)</td>\n",
       "      <td>ME</td>\n",
       "    </tr>\n",
       "    <tr>\n",
       "      <th>3</th>\n",
       "      <td>4</td>\n",
       "      <td>https://image.genie.co.kr/Y/IMAGE/IMG_ALBUM/08...</td>\n",
       "      <td>Ditto</td>\n",
       "      <td>NewJeans</td>\n",
       "      <td>NewJeans 'OMG'</td>\n",
       "    </tr>\n",
       "    <tr>\n",
       "      <th>4</th>\n",
       "      <td>5</td>\n",
       "      <td>https://image.genie.co.kr/Y/IMAGE/IMG_ALBUM/08...</td>\n",
       "      <td>CHRISTIAN</td>\n",
       "      <td>Zior Park</td>\n",
       "      <td>WHERE DOES SASQUATCH LIVE? PART 1</td>\n",
       "    </tr>\n",
       "  </tbody>\n",
       "</table>\n",
       "</div>"
      ],
      "text/plain": [
       "   rank                                                img      title   \n",
       "0     1  https://image.genie.co.kr/Y/IMAGE/IMG_ALBUM/08...       I AM  \\\n",
       "1     2  https://image.genie.co.kr/Y/IMAGE/IMG_ALBUM/08...     Kitsch   \n",
       "2     3  https://image.genie.co.kr/Y/IMAGE/IMG_ALBUM/08...          꽃   \n",
       "3     4  https://image.genie.co.kr/Y/IMAGE/IMG_ALBUM/08...      Ditto   \n",
       "4     5  https://image.genie.co.kr/Y/IMAGE/IMG_ALBUM/08...  CHRISTIAN   \n",
       "\n",
       "       artist                              album  \n",
       "0   IVE (아이브)                           I've IVE  \n",
       "1   IVE (아이브)                           I've IVE  \n",
       "2  지수 (JISOO)                                 ME  \n",
       "3    NewJeans                     NewJeans 'OMG'  \n",
       "4   Zior Park  WHERE DOES SASQUATCH LIVE? PART 1  "
      ]
     },
     "execution_count": 60,
     "metadata": {},
     "output_type": "execute_result"
    }
   ],
   "source": [
    "df3.to_csv(f'data/{ymd}-{hh}시지니차트.csv',index=False)\n",
    "pd.read_csv(f'data/{ymd}-{hh}시지니차트.csv').head()"
   ]
  },
  {
   "cell_type": "code",
   "execution_count": null,
   "metadata": {},
   "outputs": [],
   "source": []
  }
 ],
 "metadata": {
  "kernelspec": {
   "display_name": "base",
   "language": "python",
   "name": "python3"
  },
  "language_info": {
   "codemirror_mode": {
    "name": "ipython",
    "version": 3
   },
   "file_extension": ".py",
   "mimetype": "text/x-python",
   "name": "python",
   "nbconvert_exporter": "python",
   "pygments_lexer": "ipython3",
   "version": "3.10.10"
  },
  "orig_nbformat": 4
 },
 "nbformat": 4,
 "nbformat_minor": 2
}
