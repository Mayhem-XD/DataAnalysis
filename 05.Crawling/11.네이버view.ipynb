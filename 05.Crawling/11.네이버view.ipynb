{
 "cells": [
  {
   "cell_type": "code",
   "execution_count": 1,
   "metadata": {},
   "outputs": [],
   "source": [
    "import requests\n",
    "from urllib.parse import quote\n",
    "import pandas as pd\n",
    "from bs4 import BeautifulSoup"
   ]
  },
  {
   "attachments": {},
   "cell_type": "markdown",
   "metadata": {},
   "source": [
    "- request.get()으로 데이터를 가져온 경우"
   ]
  },
  {
   "cell_type": "code",
   "execution_count": 2,
   "metadata": {},
   "outputs": [],
   "source": [
    "# https://search.naver.com/search.naver?where=view&sm=tab_jum&query=%EC%88%98%EC%9B%90%EB%A7%9B%EC%A7%91\n",
    "url = 'https://search.naver.com/search.naver?where=view&sm=tab_jum&query=' + quote('수원맛집')\n",
    "res = requests.get(url)\n",
    "soup = BeautifulSoup(res.text)"
   ]
  },
  {
   "cell_type": "code",
   "execution_count": 3,
   "metadata": {},
   "outputs": [
    {
     "data": {
      "text/plain": [
       "30"
      ]
     },
     "execution_count": 3,
     "metadata": {},
     "output_type": "execute_result"
    }
   ],
   "source": [
    "lis = soup.select('.bx._svp_item')\n",
    "len(lis)"
   ]
  },
  {
   "attachments": {},
   "cell_type": "markdown",
   "metadata": {},
   "source": [
    "- Selenium을 이용해서 데이터 가져오기"
   ]
  },
  {
   "cell_type": "code",
   "execution_count": 4,
   "metadata": {},
   "outputs": [],
   "source": [
    "from selenium import webdriver\n",
    "from selenium.webdriver.chrome.service import Service\n",
    "\n",
    "service = Service('C:/Users/YONSAI/Downloads/chromedriver_win32/chromedriver.exe')\n",
    "driver = webdriver.Chrome(service=service)"
   ]
  },
  {
   "cell_type": "code",
   "execution_count": 5,
   "metadata": {},
   "outputs": [],
   "source": [
    "# import warnings\n",
    "# warnings.filterwarnings('ignore')"
   ]
  },
  {
   "cell_type": "code",
   "execution_count": 6,
   "metadata": {},
   "outputs": [],
   "source": [
    "# from selenium import webdriver\n",
    "# driver = webdriver.Chrome('C:/Users/YONSAI/Downloads/chromedriver_win32/chromedriver.exe')\n",
    "driver.get(url)"
   ]
  },
  {
   "cell_type": "code",
   "execution_count": 7,
   "metadata": {},
   "outputs": [],
   "source": [
    "# View page를 아래로 내려서 많은 데이터 확보\n",
    "from selenium.webdriver.common.keys import Keys\n",
    "from selenium.webdriver.common.by import By\n",
    "import time\n",
    "\n",
    "body = driver.find_element(By.TAG_NAME, 'body')\n",
    "for _ in range(30):\n",
    "    body.send_keys(Keys.PAGE_DOWN)\n",
    "    time.sleep(1)"
   ]
  },
  {
   "cell_type": "code",
   "execution_count": 8,
   "metadata": {},
   "outputs": [
    {
     "data": {
      "text/plain": [
       "110"
      ]
     },
     "execution_count": 8,
     "metadata": {},
     "output_type": "execute_result"
    }
   ],
   "source": [
    "soup = BeautifulSoup(driver.page_source)\n",
    "lis = soup.select('.bx._svp_item')\n",
    "len(lis)"
   ]
  },
  {
   "cell_type": "code",
   "execution_count": 9,
   "metadata": {},
   "outputs": [],
   "source": [
    "driver.close()"
   ]
  },
  {
   "attachments": {},
   "cell_type": "markdown",
   "metadata": {},
   "source": [
    "- 날짜, 제목, 내용 크롤링"
   ]
  },
  {
   "cell_type": "code",
   "execution_count": 10,
   "metadata": {},
   "outputs": [
    {
     "data": {
      "text/plain": [
       "'2023.04.05.'"
      ]
     },
     "execution_count": 10,
     "metadata": {},
     "output_type": "execute_result"
    }
   ],
   "source": [
    "li = lis[0]\n",
    "date = li.select_one('.sub_time.sub_txt').get_text().strip()\n",
    "date"
   ]
  },
  {
   "cell_type": "code",
   "execution_count": 11,
   "metadata": {},
   "outputs": [
    {
     "data": {
      "text/plain": [
       "'일품이던 수원맛집베스트10'"
      ]
     },
     "execution_count": 11,
     "metadata": {},
     "output_type": "execute_result"
    }
   ],
   "source": [
    "title = li.select_one('.api_txt_lines.total_tit._cross_trigger').get_text().strip()\n",
    "title"
   ]
  },
  {
   "cell_type": "code",
   "execution_count": 13,
   "metadata": {},
   "outputs": [
    {
     "data": {
      "text/plain": [
       "'하러 수원맛집베스트10에 속한다는 갈비집을 다녀왔어요. 동네 주민들 뿐만 아니라 멀리서도 많은 사람들이 찾아가는 곳이라는데 소문대로 고퀄리티의 식사를 즐길 수 있던 곳이었어요. 고반가든 서수원점 주소 : 경기...'"
      ]
     },
     "execution_count": 13,
     "metadata": {},
     "output_type": "execute_result"
    }
   ],
   "source": [
    "contents = li.select_one('.api_txt_lines.dsc_txt').get_text().strip()\n",
    "contents[:200]"
   ]
  },
  {
   "attachments": {},
   "cell_type": "markdown",
   "metadata": {},
   "source": [
    "- 날짜 처리"
   ]
  },
  {
   "cell_type": "code",
   "execution_count": 14,
   "metadata": {},
   "outputs": [
    {
     "data": {
      "text/plain": [
       "datetime.datetime(2023, 4, 25, 12, 11, 3, 980788)"
      ]
     },
     "execution_count": 14,
     "metadata": {},
     "output_type": "execute_result"
    }
   ],
   "source": [
    "from datetime import datetime, timedelta\n",
    "today = datetime.now()\n",
    "today"
   ]
  },
  {
   "cell_type": "code",
   "execution_count": 18,
   "metadata": {},
   "outputs": [
    {
     "data": {
      "text/plain": [
       "'2023.4.24'"
      ]
     },
     "execution_count": 18,
     "metadata": {},
     "output_type": "execute_result"
    }
   ],
   "source": [
    "# 어제\n",
    "date = today - timedelta(1)\n",
    "date.strftime('%Y.%m.%d')"
   ]
  },
  {
   "cell_type": "code",
   "execution_count": 22,
   "metadata": {},
   "outputs": [
    {
     "data": {
      "text/plain": [
       "'2023.04.24'"
      ]
     },
     "execution_count": 22,
     "metadata": {},
     "output_type": "execute_result"
    }
   ],
   "source": [
    "# 23시간 전\n",
    "data = today - timedelta(hours=23)\n",
    "date.strftime('%Y.%m.%d')"
   ]
  },
  {
   "cell_type": "code",
   "execution_count": 23,
   "metadata": {},
   "outputs": [
    {
     "data": {
      "text/plain": [
       "'2023.04.24'"
      ]
     },
     "execution_count": 23,
     "metadata": {},
     "output_type": "execute_result"
    }
   ],
   "source": [
    "# 2일전\n",
    "data = today - timedelta(2)\n",
    "date.strftime('%Y.%m.%d')"
   ]
  },
  {
   "cell_type": "code",
   "execution_count": 24,
   "metadata": {},
   "outputs": [
    {
     "data": {
      "text/plain": [
       "'2023.04.24'"
      ]
     },
     "execution_count": 24,
     "metadata": {},
     "output_type": "execute_result"
    }
   ],
   "source": [
    "# 45분전\n",
    "data = today - timedelta(minutes=45)\n",
    "date.strftime('%Y.%m.%d')"
   ]
  },
  {
   "cell_type": "code",
   "execution_count": 27,
   "metadata": {},
   "outputs": [],
   "source": [
    "def convert_date(s):\n",
    "    if len(s) == 11:\n",
    "        return s[:-1]\n",
    "    today = datetime.now()\n",
    "    if '어제' in s:\n",
    "        date = today - timedelta(1)\n",
    "    elif '일' in s:\n",
    "        date = today - timedelta(int(s[:-3]))\n",
    "    elif '시간' in s:\n",
    "        date = today - timedelta(hours=int(s[:-4]))\n",
    "    elif '분' in s:\n",
    "        date = today - timedelta(minutes=int(s[-3]))\n",
    "    return date.strftime('%Y.%m.%d')\n",
    "\n"
   ]
  },
  {
   "cell_type": "code",
   "execution_count": 28,
   "metadata": {},
   "outputs": [
    {
     "data": {
      "text/html": [
       "<div>\n",
       "<style scoped>\n",
       "    .dataframe tbody tr th:only-of-type {\n",
       "        vertical-align: middle;\n",
       "    }\n",
       "\n",
       "    .dataframe tbody tr th {\n",
       "        vertical-align: top;\n",
       "    }\n",
       "\n",
       "    .dataframe thead th {\n",
       "        text-align: right;\n",
       "    }\n",
       "</style>\n",
       "<table border=\"1\" class=\"dataframe\">\n",
       "  <thead>\n",
       "    <tr style=\"text-align: right;\">\n",
       "      <th></th>\n",
       "      <th>date</th>\n",
       "      <th>title</th>\n",
       "      <th>contents</th>\n",
       "    </tr>\n",
       "  </thead>\n",
       "  <tbody>\n",
       "    <tr>\n",
       "      <th>0</th>\n",
       "      <td>2023.04.05</td>\n",
       "      <td>일품이던 수원맛집베스트10</td>\n",
       "      <td>하러 수원맛집베스트10에 속한다는 갈비집을 다녀왔어요. 동네 주민들 뿐만 아니라 멀...</td>\n",
       "    </tr>\n",
       "    <tr>\n",
       "      <th>1</th>\n",
       "      <td>2022.05.02</td>\n",
       "      <td>럭셔리한 수원 맛집</td>\n",
       "      <td>후식까지 훌륭했던 수원 맛집이라 조만간 가족들과도 또 와보려고 해요. 2. 행궁빙수...</td>\n",
       "    </tr>\n",
       "    <tr>\n",
       "      <th>2</th>\n",
       "      <td>2023.04.23</td>\n",
       "      <td>수원 맛집 영통역 고기집 육풍 영통프라임점 맛있어</td>\n",
       "      <td>아이와 주말에 정말 맛있게 점심 먹었네요 ❤ 수원 맛집 육풍 영통프라임점 ✔ 경기 ...</td>\n",
       "    </tr>\n",
       "    <tr>\n",
       "      <th>3</th>\n",
       "      <td>2023.04.24</td>\n",
       "      <td>수원 맛집 신라갈비 한우생갈비의 품격</td>\n",
       "      <td>유명 #수원맛집 후기입니다. 이날 다녀온 신라갈비는 가보정과 본수원갈비와 함께 전국...</td>\n",
       "    </tr>\n",
       "    <tr>\n",
       "      <th>4</th>\n",
       "      <td>2022.05.20</td>\n",
       "      <td>호기롭던 수원 맛집</td>\n",
       "      <td>달짝지근한 아이스크림과 바디감 높은 아메리카노로 마무리까지 확실했던 수원 맛집이었어...</td>\n",
       "    </tr>\n",
       "  </tbody>\n",
       "</table>\n",
       "</div>"
      ],
      "text/plain": [
       "         date                        title   \n",
       "0  2023.04.05               일품이던 수원맛집베스트10  \\\n",
       "1  2022.05.02                   럭셔리한 수원 맛집   \n",
       "2  2023.04.23  수원 맛집 영통역 고기집 육풍 영통프라임점 맛있어   \n",
       "3  2023.04.24         수원 맛집 신라갈비 한우생갈비의 품격   \n",
       "4  2022.05.20                   호기롭던 수원 맛집   \n",
       "\n",
       "                                            contents  \n",
       "0  하러 수원맛집베스트10에 속한다는 갈비집을 다녀왔어요. 동네 주민들 뿐만 아니라 멀...  \n",
       "1  후식까지 훌륭했던 수원 맛집이라 조만간 가족들과도 또 와보려고 해요. 2. 행궁빙수...  \n",
       "2  아이와 주말에 정말 맛있게 점심 먹었네요 ❤ 수원 맛집 육풍 영통프라임점 ✔ 경기 ...  \n",
       "3  유명 #수원맛집 후기입니다. 이날 다녀온 신라갈비는 가보정과 본수원갈비와 함께 전국...  \n",
       "4  달짝지근한 아이스크림과 바디감 높은 아메리카노로 마무리까지 확실했던 수원 맛집이었어...  "
      ]
     },
     "execution_count": 28,
     "metadata": {},
     "output_type": "execute_result"
    }
   ],
   "source": [
    "lines = []\n",
    "for li in lis:\n",
    "    date = li.select_one('.sub_time.sub_txt').get_text().strip()\n",
    "    date = convert_date(date)\n",
    "    title = li.select_one('.api_txt_lines.total_tit._cross_trigger').get_text().strip()\n",
    "    contents = li.select_one('.api_txt_lines.dsc_txt').get_text().strip()\n",
    "    lines.append({'date':date,'title':title,'contents':contents})\n",
    "df = pd.DataFrame(lines)\n",
    "df.head()"
   ]
  },
  {
   "cell_type": "code",
   "execution_count": null,
   "metadata": {},
   "outputs": [],
   "source": []
  }
 ],
 "metadata": {
  "kernelspec": {
   "display_name": "base",
   "language": "python",
   "name": "python3"
  },
  "language_info": {
   "codemirror_mode": {
    "name": "ipython",
    "version": 3
   },
   "file_extension": ".py",
   "mimetype": "text/x-python",
   "name": "python",
   "nbconvert_exporter": "python",
   "pygments_lexer": "ipython3",
   "version": "3.10.10"
  },
  "orig_nbformat": 4
 },
 "nbformat": 4,
 "nbformat_minor": 2
}
