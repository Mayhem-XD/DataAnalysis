{
 "cells": [
  {
   "cell_type": "code",
   "execution_count": 3,
   "metadata": {},
   "outputs": [],
   "source": [
    "import requests, time\n",
    "from urllib.parse import quote\n",
    "import pandas as pd\n",
    "from bs4 import BeautifulSoup\n",
    "import re\n",
    "from selenium.webdriver.common.keys import Keys\n",
    "from selenium.webdriver.common.by import By"
   ]
  },
  {
   "cell_type": "code",
   "execution_count": 4,
   "metadata": {},
   "outputs": [],
   "source": [
    "from selenium import webdriver\n",
    "from selenium.webdriver.chrome.service import Service\n",
    "\n",
    "service = Service('C:/Users/YONSAI/Downloads/chromedriver_win32/chromedriver.exe')\n",
    "driver = webdriver.Chrome(service=service)"
   ]
  },
  {
   "cell_type": "code",
   "execution_count": 20,
   "metadata": {},
   "outputs": [],
   "source": [
    "url= 'https://youtube-rank.com/board/bbs/board.php?bo_table=youtube&page=1'\n",
    "driver.get(url)\n",
    "body = driver.find_element(By.TAG_NAME, 'body')\n",
    "for _ in range(22):\n",
    "    body.send_keys(Keys.PAGE_DOWN)\n",
    "    time.sleep(1)\n",
    "soup = BeautifulSoup(driver.page_source,'html.parser')"
   ]
  },
  {
   "cell_type": "code",
   "execution_count": 21,
   "metadata": {},
   "outputs": [
    {
     "data": {
      "text/plain": [
       "100"
      ]
     },
     "execution_count": 21,
     "metadata": {},
     "output_type": "execute_result"
    }
   ],
   "source": [
    "trs = soup.select('.aos-init')\n",
    "len(trs)"
   ]
  },
  {
   "cell_type": "code",
   "execution_count": 10,
   "metadata": {},
   "outputs": [],
   "source": [
    "lines = []\n",
    "for tr in trs:\n",
    "    rank = int(tr.select_one('.rank').get_text().strip())\n",
    "    category = tr.select_one('.category').get_text().strip()\n",
    "    channel = tr.select_one('.subject> h1 >a').get_text().replace('\\t\\r\\n','').strip()\n",
    "    subscriber_cnt = int(tr.select_one('.subscriber_cnt').get_text()[:-1])\n",
    "    view_cnt = tr.select_one('.view_cnt').get_text()\n",
    "    view_cnt = int(re.sub('[ㄱ-ㅎㅏ-ㅣ가-힣]','', view_cnt))\n",
    "    hit = int(tr.select_one('.hit > strong').get_text().replace(',','').strip())\n",
    "    lines.append({'순위':rank,'category':category,'channel':channel,'subscriber_cnt':subscriber_cnt,\n",
    "                    '조회수(만회)':view_cnt,'hit':hit})"
   ]
  },
  {
   "cell_type": "code",
   "execution_count": 11,
   "metadata": {},
   "outputs": [
    {
     "data": {
      "text/html": [
       "<div>\n",
       "<style scoped>\n",
       "    .dataframe tbody tr th:only-of-type {\n",
       "        vertical-align: middle;\n",
       "    }\n",
       "\n",
       "    .dataframe tbody tr th {\n",
       "        vertical-align: top;\n",
       "    }\n",
       "\n",
       "    .dataframe thead th {\n",
       "        text-align: right;\n",
       "    }\n",
       "</style>\n",
       "<table border=\"1\" class=\"dataframe\">\n",
       "  <thead>\n",
       "    <tr style=\"text-align: right;\">\n",
       "      <th></th>\n",
       "      <th>순위</th>\n",
       "      <th>category</th>\n",
       "      <th>channel</th>\n",
       "      <th>subscriber_cnt</th>\n",
       "      <th>조회수(만회)</th>\n",
       "      <th>hit</th>\n",
       "    </tr>\n",
       "  </thead>\n",
       "  <tbody>\n",
       "    <tr>\n",
       "      <th>95</th>\n",
       "      <td>95</td>\n",
       "      <td>[키즈/어린이]</td>\n",
       "      <td>뽀로로(Pororo)</td>\n",
       "      <td>486</td>\n",
       "      <td>685315</td>\n",
       "      <td>10097</td>\n",
       "    </tr>\n",
       "    <tr>\n",
       "      <th>96</th>\n",
       "      <td>97</td>\n",
       "      <td>[애완/반려동물]</td>\n",
       "      <td>SBS TV동물농장x애니멀봐</td>\n",
       "      <td>483</td>\n",
       "      <td>463810</td>\n",
       "      <td>13853</td>\n",
       "    </tr>\n",
       "    <tr>\n",
       "      <th>97</th>\n",
       "      <td>98</td>\n",
       "      <td>[키즈/어린이]</td>\n",
       "      <td>CoCosToy 꼬꼬스토이</td>\n",
       "      <td>477</td>\n",
       "      <td>298364</td>\n",
       "      <td>4394</td>\n",
       "    </tr>\n",
       "    <tr>\n",
       "      <th>98</th>\n",
       "      <td>99</td>\n",
       "      <td>[음식/요리/레시피]</td>\n",
       "      <td>Cooking tree 쿠킹트리</td>\n",
       "      <td>476</td>\n",
       "      <td>48758</td>\n",
       "      <td>6057</td>\n",
       "    </tr>\n",
       "    <tr>\n",
       "      <th>99</th>\n",
       "      <td>100</td>\n",
       "      <td>[미분류]</td>\n",
       "      <td>매일맛나 delicious day</td>\n",
       "      <td>474</td>\n",
       "      <td>48236</td>\n",
       "      <td>325</td>\n",
       "    </tr>\n",
       "  </tbody>\n",
       "</table>\n",
       "</div>"
      ],
      "text/plain": [
       "     순위     category             channel  subscriber_cnt  조회수(만회)    hit\n",
       "95   95     [키즈/어린이]         뽀로로(Pororo)             486   685315  10097\n",
       "96   97    [애완/반려동물]     SBS TV동물농장x애니멀봐             483   463810  13853\n",
       "97   98     [키즈/어린이]      CoCosToy 꼬꼬스토이             477   298364   4394\n",
       "98   99  [음식/요리/레시피]   Cooking tree 쿠킹트리             476    48758   6057\n",
       "99  100        [미분류]  매일맛나 delicious day             474    48236    325"
      ]
     },
     "execution_count": 11,
     "metadata": {},
     "output_type": "execute_result"
    }
   ],
   "source": [
    "df = pd.DataFrame(lines)\n",
    "df.tail()"
   ]
  },
  {
   "cell_type": "code",
   "execution_count": 2,
   "metadata": {},
   "outputs": [],
   "source": [
    "def convert(s):\n",
    "    s = s.replace('억','').replace('개','').replace(',','').replace('만','0000')\n",
    "    return int(s)"
   ]
  },
  {
   "cell_type": "code",
   "execution_count": 13,
   "metadata": {},
   "outputs": [
    {
     "data": {
      "text/plain": [
       "33350010000"
      ]
     },
     "execution_count": 13,
     "metadata": {},
     "output_type": "execute_result"
    }
   ],
   "source": [
    "convert('333억5001만')"
   ]
  },
  {
   "cell_type": "code",
   "execution_count": 18,
   "metadata": {},
   "outputs": [],
   "source": [
    "lines = []\n",
    "for tr in trs:\n",
    "    rank = int(tr.select_one('.rank').get_text().strip())\n",
    "    category = tr.select_one('.category').get_text().strip()[1:-1]\n",
    "    channel = tr.select_one('.subject> h1 >a').get_text().replace('\\t\\r\\n','').strip()\n",
    "    subscriber_cnt = convert(tr.select_one('.subscriber_cnt').get_text())\n",
    "    view_cnt = convert(tr.select_one('.view_cnt').get_text())\n",
    "    video_cnt = convert(tr.select_one('.video_cnt').get_text())\n",
    "    hit = convert(tr.select_one('.hit > strong').get_text().strip())\n",
    "    lines.append({'순위':rank,'category':category,'channel':channel,'subscriber_cnt':subscriber_cnt,\n",
    "                    '조회수':view_cnt,'video_cnt':video_cnt,'hit':hit})"
   ]
  },
  {
   "cell_type": "code",
   "execution_count": 19,
   "metadata": {},
   "outputs": [
    {
     "data": {
      "text/html": [
       "<div>\n",
       "<style scoped>\n",
       "    .dataframe tbody tr th:only-of-type {\n",
       "        vertical-align: middle;\n",
       "    }\n",
       "\n",
       "    .dataframe tbody tr th {\n",
       "        vertical-align: top;\n",
       "    }\n",
       "\n",
       "    .dataframe thead th {\n",
       "        text-align: right;\n",
       "    }\n",
       "</style>\n",
       "<table border=\"1\" class=\"dataframe\">\n",
       "  <thead>\n",
       "    <tr style=\"text-align: right;\">\n",
       "      <th></th>\n",
       "      <th>순위</th>\n",
       "      <th>category</th>\n",
       "      <th>channel</th>\n",
       "      <th>subscriber_cnt</th>\n",
       "      <th>조회수</th>\n",
       "      <th>hit</th>\n",
       "    </tr>\n",
       "  </thead>\n",
       "  <tbody>\n",
       "    <tr>\n",
       "      <th>95</th>\n",
       "      <td>95</td>\n",
       "      <td>키즈/어린이</td>\n",
       "      <td>뽀로로(Pororo)</td>\n",
       "      <td>4860000</td>\n",
       "      <td>6853150000</td>\n",
       "      <td>10097</td>\n",
       "    </tr>\n",
       "    <tr>\n",
       "      <th>96</th>\n",
       "      <td>97</td>\n",
       "      <td>애완/반려동물</td>\n",
       "      <td>SBS TV동물농장x애니멀봐</td>\n",
       "      <td>4830000</td>\n",
       "      <td>4638100000</td>\n",
       "      <td>13853</td>\n",
       "    </tr>\n",
       "    <tr>\n",
       "      <th>97</th>\n",
       "      <td>98</td>\n",
       "      <td>키즈/어린이</td>\n",
       "      <td>CoCosToy 꼬꼬스토이</td>\n",
       "      <td>4770000</td>\n",
       "      <td>2983640000</td>\n",
       "      <td>4394</td>\n",
       "    </tr>\n",
       "    <tr>\n",
       "      <th>98</th>\n",
       "      <td>99</td>\n",
       "      <td>음식/요리/레시피</td>\n",
       "      <td>Cooking tree 쿠킹트리</td>\n",
       "      <td>4760000</td>\n",
       "      <td>487580000</td>\n",
       "      <td>6057</td>\n",
       "    </tr>\n",
       "    <tr>\n",
       "      <th>99</th>\n",
       "      <td>100</td>\n",
       "      <td>미분류</td>\n",
       "      <td>매일맛나 delicious day</td>\n",
       "      <td>4740000</td>\n",
       "      <td>482360000</td>\n",
       "      <td>325</td>\n",
       "    </tr>\n",
       "  </tbody>\n",
       "</table>\n",
       "</div>"
      ],
      "text/plain": [
       "     순위   category             channel  subscriber_cnt         조회수    hit\n",
       "95   95     키즈/어린이         뽀로로(Pororo)         4860000  6853150000  10097\n",
       "96   97    애완/반려동물     SBS TV동물농장x애니멀봐         4830000  4638100000  13853\n",
       "97   98     키즈/어린이      CoCosToy 꼬꼬스토이         4770000  2983640000   4394\n",
       "98   99  음식/요리/레시피   Cooking tree 쿠킹트리         4760000   487580000   6057\n",
       "99  100        미분류  매일맛나 delicious day         4740000   482360000    325"
      ]
     },
     "execution_count": 19,
     "metadata": {},
     "output_type": "execute_result"
    }
   ],
   "source": [
    "df2 = pd.DataFrame(lines)\n",
    "df2.tail()"
   ]
  },
  {
   "cell_type": "code",
   "execution_count": 22,
   "metadata": {},
   "outputs": [
    {
     "data": {
      "text/plain": [
       "100"
      ]
     },
     "execution_count": 22,
     "metadata": {},
     "output_type": "execute_result"
    }
   ],
   "source": [
    "url= 'https://youtube-rank.com/board/bbs/board.php?bo_table=youtube&page='+str(2)\n",
    "driver.get(url)\n",
    "time.sleep(2)\n",
    "body = driver.find_element(By.TAG_NAME, 'body')\n",
    "soup = BeautifulSoup(driver.page_source,'html.parser')\n",
    "len(trs)"
   ]
  },
  {
   "cell_type": "code",
   "execution_count": 14,
   "metadata": {},
   "outputs": [],
   "source": [
    "import requests, time\n",
    "from urllib.parse import quote\n",
    "import pandas as pd\n",
    "from bs4 import BeautifulSoup\n",
    "import re\n",
    "from selenium.webdriver.common.keys import Keys\n",
    "from selenium.webdriver.common.by import By"
   ]
  },
  {
   "cell_type": "code",
   "execution_count": 15,
   "metadata": {},
   "outputs": [],
   "source": [
    "from selenium import webdriver\n",
    "from selenium.webdriver.chrome.service import Service\n",
    "\n",
    "service = Service('C:/Users/YONSAI/Downloads/chromedriver_win32/chromedriver.exe')\n",
    "driver = webdriver.Chrome(service=service)"
   ]
  },
  {
   "cell_type": "code",
   "execution_count": 16,
   "metadata": {},
   "outputs": [],
   "source": [
    "url= 'https://youtube-rank.com/board/bbs/board.php?bo_table=youtube&page=1'\n",
    "driver.get(url)\n",
    "body = driver.find_element(By.TAG_NAME, 'body')\n",
    "for _ in range(22):\n",
    "    body.send_keys(Keys.PAGE_DOWN)\n",
    "    time.sleep(1)\n",
    "soup = BeautifulSoup(driver.page_source,'html.parser')"
   ]
  },
  {
   "cell_type": "code",
   "execution_count": 17,
   "metadata": {},
   "outputs": [],
   "source": [
    "lines = []\n",
    "for page in range(1,11):\n",
    "    url= 'https://youtube-rank.com/board/bbs/board.php?bo_table=youtube&page='+str(page)\n",
    "    driver.get(url)\n",
    "    time.sleep(2)\n",
    "    body = driver.find_element(By.TAG_NAME, 'body')\n",
    "    soup = BeautifulSoup(driver.page_source,'html.parser')\n",
    "    trs = soup.select('aos-init')\n",
    "    for tr in trs:\n",
    "        rank = int(tr.select_one('.rank').get_text().strip())\n",
    "        category = tr.select_one('.category').get_text().strip()[1:-1]\n",
    "        channel = tr.select_one('.subject> h1 >a').get_text().replace('\\t\\r\\n','').strip()\n",
    "        subscriber_cnt = convert(tr.select_one('.subscriber_cnt').get_text())\n",
    "        view_cnt = convert(tr.select_one('.view_cnt').get_text())\n",
    "        video_cnt = convert(tr.select_one('.video_cnt').get_text())\n",
    "        hit = convert(tr.select_one('.hit > strong').get_text().strip())\n",
    "        lines.append({'순위':rank,'카테고리':category,'채널명':channel,'구독자_수':subscriber_cnt,\n",
    "                    '조회수':view_cnt,'비디오_수':video_cnt,'hit':hit})\n",
    "driver.close()"
   ]
  },
  {
   "cell_type": "code",
   "execution_count": 18,
   "metadata": {},
   "outputs": [
    {
     "data": {
      "text/html": [
       "<div>\n",
       "<style scoped>\n",
       "    .dataframe tbody tr th:only-of-type {\n",
       "        vertical-align: middle;\n",
       "    }\n",
       "\n",
       "    .dataframe tbody tr th {\n",
       "        vertical-align: top;\n",
       "    }\n",
       "\n",
       "    .dataframe thead th {\n",
       "        text-align: right;\n",
       "    }\n",
       "</style>\n",
       "<table border=\"1\" class=\"dataframe\">\n",
       "  <thead>\n",
       "    <tr style=\"text-align: right;\">\n",
       "      <th></th>\n",
       "    </tr>\n",
       "  </thead>\n",
       "  <tbody>\n",
       "  </tbody>\n",
       "</table>\n",
       "</div>"
      ],
      "text/plain": [
       "Empty DataFrame\n",
       "Columns: []\n",
       "Index: []"
      ]
     },
     "execution_count": 18,
     "metadata": {},
     "output_type": "execute_result"
    }
   ],
   "source": [
    "df3 = pd.DataFrame(lines)\n",
    "df3.tail()"
   ]
  },
  {
   "cell_type": "code",
   "execution_count": 19,
   "metadata": {},
   "outputs": [],
   "source": [
    "df3.to_csv('data/utube_rank.csv',index=False)"
   ]
  },
  {
   "cell_type": "code",
   "execution_count": null,
   "metadata": {},
   "outputs": [],
   "source": []
  }
 ],
 "metadata": {
  "kernelspec": {
   "display_name": "base",
   "language": "python",
   "name": "python3"
  },
  "language_info": {
   "codemirror_mode": {
    "name": "ipython",
    "version": 3
   },
   "file_extension": ".py",
   "mimetype": "text/x-python",
   "name": "python",
   "nbconvert_exporter": "python",
   "pygments_lexer": "ipython3",
   "version": "3.10.10"
  },
  "orig_nbformat": 4
 },
 "nbformat": 4,
 "nbformat_minor": 2
}
