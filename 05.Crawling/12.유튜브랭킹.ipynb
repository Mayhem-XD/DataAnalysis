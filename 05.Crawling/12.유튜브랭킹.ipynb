{
 "cells": [
  {
   "attachments": {},
   "cell_type": "markdown",
   "metadata": {},
   "source": [
    "- rank category channel 명 subscriber_cnt(int), view_cnt(int), video_cnt(int) hit(int)"
   ]
  },
  {
   "cell_type": "code",
   "execution_count": 60,
   "metadata": {},
   "outputs": [],
   "source": [
    "import requests, time\n",
    "from urllib.parse import quote\n",
    "import pandas as pd\n",
    "from bs4 import BeautifulSoup\n",
    "import re"
   ]
  },
  {
   "cell_type": "code",
   "execution_count": 61,
   "metadata": {},
   "outputs": [],
   "source": [
    "from selenium import webdriver\n",
    "from selenium.webdriver.chrome.service import Service\n",
    "\n",
    "service = Service('C:/Users/YONSAI/Downloads/chromedriver_win32/chromedriver.exe')\n",
    "driver = webdriver.Chrome(service=service)"
   ]
  },
  {
   "cell_type": "code",
   "execution_count": 62,
   "metadata": {},
   "outputs": [],
   "source": [
    "# https://youtube-rank.com/board/bbs/board.php?bo_table=youtube&page=1\n",
    "url= 'https://youtube-rank.com/board/bbs/board.php?bo_table=youtube&page=1'\n",
    "res = requests.get(url)\n",
    "soup = BeautifulSoup(res.text)\n",
    "driver.get(url)"
   ]
  },
  {
   "cell_type": "code",
   "execution_count": 65,
   "metadata": {},
   "outputs": [
    {
     "data": {
      "text/plain": [
       "100"
      ]
     },
     "execution_count": 65,
     "metadata": {},
     "output_type": "execute_result"
    }
   ],
   "source": [
    "lis = soup.select('form > table > tbody > tr')\n",
    "len(lis)"
   ]
  },
  {
   "cell_type": "code",
   "execution_count": 66,
   "metadata": {},
   "outputs": [],
   "source": [
    "li = lis[0]"
   ]
  },
  {
   "cell_type": "code",
   "execution_count": null,
   "metadata": {},
   "outputs": [
    {
     "data": {
      "text/plain": [
       "1"
      ]
     },
     "execution_count": 35,
     "metadata": {},
     "output_type": "execute_result"
    }
   ],
   "source": [
    "rank = int(li.select_one('.rank').get_text().strip())\n",
    "rank"
   ]
  },
  {
   "cell_type": "code",
   "execution_count": null,
   "metadata": {},
   "outputs": [
    {
     "data": {
      "text/plain": [
       "'[음악/댄스/가수]'"
      ]
     },
     "execution_count": 36,
     "metadata": {},
     "output_type": "execute_result"
    }
   ],
   "source": [
    "category = li.select_one('.category').get_text().strip()\n",
    "category"
   ]
  },
  {
   "cell_type": "code",
   "execution_count": 69,
   "metadata": {},
   "outputs": [
    {
     "data": {
      "text/plain": [
       "'BLACKPINK'"
      ]
     },
     "execution_count": 69,
     "metadata": {},
     "output_type": "execute_result"
    }
   ],
   "source": [
    "channel = li.select_one('form > table > tbody > tr > td > h1 >a').get_text().replace('\\t\\r\\n','').strip()\n",
    "channel"
   ]
  },
  {
   "cell_type": "code",
   "execution_count": null,
   "metadata": {},
   "outputs": [
    {
     "data": {
      "text/plain": [
       "'BLACKPINK'"
      ]
     },
     "execution_count": 37,
     "metadata": {},
     "output_type": "execute_result"
    }
   ],
   "source": [
    "channel = li.select_one('#list-skin > form:nth-child(4) > table > tbody > tr:nth-child(1) > td.subject > h1 > a').get_text().replace('\\t\\r\\n','').strip()\n",
    "channel"
   ]
  },
  {
   "cell_type": "code",
   "execution_count": null,
   "metadata": {},
   "outputs": [
    {
     "data": {
      "text/plain": [
       "8730"
      ]
     },
     "execution_count": 38,
     "metadata": {},
     "output_type": "execute_result"
    }
   ],
   "source": [
    "# view_cnt(int), video_cnt(int) hit(int)\n",
    "subscriber_cnt = int(li.select_one('.subscriber_cnt').get_text()[:-1])\n",
    "subscriber_cnt"
   ]
  },
  {
   "cell_type": "code",
   "execution_count": null,
   "metadata": {},
   "outputs": [
    {
     "data": {
      "text/plain": [
       "3053350"
      ]
     },
     "execution_count": 39,
     "metadata": {},
     "output_type": "execute_result"
    }
   ],
   "source": [
    "view_cnt = li.select_one('.view_cnt').get_text()\n",
    "view_cnt = int(re.sub('[ㄱ-ㅎㅏ-ㅣ가-힣]','', view_cnt))\n",
    "view_cnt"
   ]
  },
  {
   "cell_type": "code",
   "execution_count": null,
   "metadata": {},
   "outputs": [
    {
     "data": {
      "text/plain": [
       "26100"
      ]
     },
     "execution_count": 40,
     "metadata": {},
     "output_type": "execute_result"
    }
   ],
   "source": [
    "hit = int(li.select_one('.hit > strong').get_text().replace(',','').strip())\n",
    "hit"
   ]
  },
  {
   "cell_type": "code",
   "execution_count": 77,
   "metadata": {},
   "outputs": [],
   "source": [
    "lines = []\n",
    "for i in range(1,11):\n",
    "    url_base = 'https://youtube-rank.com/board/bbs/board.php?bo_table=youtube&page='\n",
    "    res = requests.get(url_base+str(i))\n",
    "    soup = BeautifulSoup(res.text)\n",
    "    for li in lis:\n",
    "        rank = int(li.select_one('.rank').get_text().strip())\n",
    "        category = li.select_one('.category').get_text().strip()\n",
    "        channel = li.select_one('form > table > tbody > tr > td > h1 >a').get_text().replace('\\t\\r\\n','').strip()\n",
    "        subscriber_cnt = int(li.select_one('.subscriber_cnt').get_text()[:-1])\n",
    "        view_cnt = li.select_one('.view_cnt').get_text()\n",
    "        view_cnt = int(re.sub('[ㄱ-ㅎㅏ-ㅣ가-힣]','', view_cnt))\n",
    "        hit = int(li.select_one('.hit > strong').get_text().replace(',','').strip())\n",
    "        lines.append({'순위':rank,'category':category,'channel':channel,'subscriber_cnt':subscriber_cnt,\n",
    "                    '조회수(만회)':view_cnt,'hit':hit})\n",
    "    "
   ]
  },
  {
   "cell_type": "code",
   "execution_count": 78,
   "metadata": {},
   "outputs": [],
   "source": [
    "df = pd.DataFrame(lines)"
   ]
  },
  {
   "cell_type": "code",
   "execution_count": 79,
   "metadata": {},
   "outputs": [
    {
     "data": {
      "text/html": [
       "<div>\n",
       "<style scoped>\n",
       "    .dataframe tbody tr th:only-of-type {\n",
       "        vertical-align: middle;\n",
       "    }\n",
       "\n",
       "    .dataframe tbody tr th {\n",
       "        vertical-align: top;\n",
       "    }\n",
       "\n",
       "    .dataframe thead th {\n",
       "        text-align: right;\n",
       "    }\n",
       "</style>\n",
       "<table border=\"1\" class=\"dataframe\">\n",
       "  <thead>\n",
       "    <tr style=\"text-align: right;\">\n",
       "      <th></th>\n",
       "      <th>순위</th>\n",
       "      <th>category</th>\n",
       "      <th>channel</th>\n",
       "      <th>subscriber_cnt</th>\n",
       "      <th>조회수(만회)</th>\n",
       "      <th>hit</th>\n",
       "    </tr>\n",
       "  </thead>\n",
       "  <tbody>\n",
       "    <tr>\n",
       "      <th>993</th>\n",
       "      <td>94</td>\n",
       "      <td>[음식/요리/레시피]</td>\n",
       "      <td>떵개떵</td>\n",
       "      <td>489</td>\n",
       "      <td>298159</td>\n",
       "      <td>8120</td>\n",
       "    </tr>\n",
       "    <tr>\n",
       "      <th>994</th>\n",
       "      <td>96</td>\n",
       "      <td>[키즈/어린이]</td>\n",
       "      <td>ToyMart TV</td>\n",
       "      <td>486</td>\n",
       "      <td>199323</td>\n",
       "      <td>4667</td>\n",
       "    </tr>\n",
       "    <tr>\n",
       "      <th>995</th>\n",
       "      <td>95</td>\n",
       "      <td>[키즈/어린이]</td>\n",
       "      <td>뽀로로(Pororo)</td>\n",
       "      <td>486</td>\n",
       "      <td>685315</td>\n",
       "      <td>10097</td>\n",
       "    </tr>\n",
       "    <tr>\n",
       "      <th>996</th>\n",
       "      <td>97</td>\n",
       "      <td>[애완/반려동물]</td>\n",
       "      <td>SBS TV동물농장x애니멀봐</td>\n",
       "      <td>483</td>\n",
       "      <td>463810</td>\n",
       "      <td>13853</td>\n",
       "    </tr>\n",
       "    <tr>\n",
       "      <th>997</th>\n",
       "      <td>98</td>\n",
       "      <td>[키즈/어린이]</td>\n",
       "      <td>CoCosToy 꼬꼬스토이</td>\n",
       "      <td>477</td>\n",
       "      <td>298364</td>\n",
       "      <td>4393</td>\n",
       "    </tr>\n",
       "    <tr>\n",
       "      <th>998</th>\n",
       "      <td>99</td>\n",
       "      <td>[음식/요리/레시피]</td>\n",
       "      <td>Cooking tree 쿠킹트리</td>\n",
       "      <td>476</td>\n",
       "      <td>48758</td>\n",
       "      <td>6057</td>\n",
       "    </tr>\n",
       "    <tr>\n",
       "      <th>999</th>\n",
       "      <td>100</td>\n",
       "      <td>[미분류]</td>\n",
       "      <td>매일맛나 delicious day</td>\n",
       "      <td>474</td>\n",
       "      <td>48236</td>\n",
       "      <td>325</td>\n",
       "    </tr>\n",
       "  </tbody>\n",
       "</table>\n",
       "</div>"
      ],
      "text/plain": [
       "      순위     category             channel  subscriber_cnt  조회수(만회)    hit\n",
       "993   94  [음식/요리/레시피]                 떵개떵             489   298159   8120\n",
       "994   96     [키즈/어린이]          ToyMart TV             486   199323   4667\n",
       "995   95     [키즈/어린이]         뽀로로(Pororo)             486   685315  10097\n",
       "996   97    [애완/반려동물]     SBS TV동물농장x애니멀봐             483   463810  13853\n",
       "997   98     [키즈/어린이]      CoCosToy 꼬꼬스토이             477   298364   4393\n",
       "998   99  [음식/요리/레시피]   Cooking tree 쿠킹트리             476    48758   6057\n",
       "999  100        [미분류]  매일맛나 delicious day             474    48236    325"
      ]
     },
     "execution_count": 79,
     "metadata": {},
     "output_type": "execute_result"
    }
   ],
   "source": [
    "\n",
    "df.tail(7)"
   ]
  },
  {
   "cell_type": "code",
   "execution_count": null,
   "metadata": {},
   "outputs": [],
   "source": []
  }
 ],
 "metadata": {
  "kernelspec": {
   "display_name": "base",
   "language": "python",
   "name": "python3"
  },
  "language_info": {
   "codemirror_mode": {
    "name": "ipython",
    "version": 3
   },
   "file_extension": ".py",
   "mimetype": "text/x-python",
   "name": "python",
   "nbconvert_exporter": "python",
   "pygments_lexer": "ipython3",
   "version": "3.10.10"
  },
  "orig_nbformat": 4
 },
 "nbformat": 4,
 "nbformat_minor": 2
}
