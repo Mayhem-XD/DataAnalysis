{
 "cells": [
  {
   "cell_type": "code",
   "execution_count": 39,
   "metadata": {},
   "outputs": [],
   "source": [
    "import requests\n",
    "from urllib.parse import quote\n",
    "import pandas as pd\n",
    "from bs4 import BeautifulSoup"
   ]
  },
  {
   "cell_type": "code",
   "execution_count": 22,
   "metadata": {},
   "outputs": [],
   "source": [
    "# https://www.hanbit.co.kr/academy/books/new_book_list.html?page=1&cate_cd=&srt=&searchKey=&keyWord=\n",
    "# https://www.hanbit.co.kr/academy/books/book_view.html?p_code=B7192437175\n",
    "# location='/academy/books/book_view.html?p_code=B7192437175'"
   ]
  },
  {
   "cell_type": "code",
   "execution_count": 40,
   "metadata": {},
   "outputs": [],
   "source": [
    "base_url = 'https://hanbit.co.kr'\n",
    "main_url = '/academy/books/new_book_list.html'\n",
    "url = f'{base_url}{main_url}?page=1'\n",
    "result = requests.get(url)\n",
    "soup = BeautifulSoup(result.text)"
   ]
  },
  {
   "cell_type": "code",
   "execution_count": 41,
   "metadata": {},
   "outputs": [
    {
     "data": {
      "text/plain": [
       "20"
      ]
     },
     "execution_count": 41,
     "metadata": {},
     "output_type": "execute_result"
    }
   ],
   "source": [
    "lis = soup.select('li.sub_book_list')\n",
    "len(lis)"
   ]
  },
  {
   "cell_type": "code",
   "execution_count": 42,
   "metadata": {},
   "outputs": [
    {
     "data": {
      "text/plain": [
       "\"location='/academy/books/book_view.html?p_code=B7192437175'\""
      ]
     },
     "execution_count": 42,
     "metadata": {},
     "output_type": "execute_result"
    }
   ],
   "source": [
    "li = lis[0]\n",
    "href = li.select_one('.pop_quick_bg')['onclick']\n",
    "href"
   ]
  },
  {
   "cell_type": "code",
   "execution_count": 43,
   "metadata": {},
   "outputs": [
    {
     "data": {
      "text/plain": [
       "'/academy/books/book_view.html?p_code=B7192437175'"
      ]
     },
     "execution_count": 43,
     "metadata": {},
     "output_type": "execute_result"
    }
   ],
   "source": [
    "href[10:-1]"
   ]
  },
  {
   "cell_type": "code",
   "execution_count": 44,
   "metadata": {},
   "outputs": [],
   "source": [
    "sub_url = f'{base_url}/{href}'\n",
    "res = requests.get(sub_url)\n",
    "book_soup = BeautifulSoup(res.text)"
   ]
  },
  {
   "cell_type": "code",
   "execution_count": 46,
   "metadata": {},
   "outputs": [
    {
     "data": {
      "text/plain": [
       "'<!DOCTYPE html>\\n<html lang=\"ko\">\\n<head>\\n  <meta charset=\"UTF-8\">\\n  <meta name=\"viewport\" content=\"width=device-width, initial-scale=1.0\">\\n  <title>404 Not Found - 한빛출판네트워크</title>\\n  <style>\\n    html {\\n      font-family: Helvetica Neue, Apple SD Gothic Neo, arial, \\'나눔고딕\\', Nanum Gothic, \\'돋움\\', Dotum, Tahoma, Geneva, sans-serif;\\n    }\\n    body {\\n      margin: 0;\\n    }\\n    ol, ul {\\n      list-style: none;\\n      padding: 0;\\n    }\\n    h1 {\\n      font-size: inherit;\\n    }\\n    a {\\n      text-decoration: none;\\n    }\\n    .PageError {\\n      text-align: center;\\n      padding: 60px 0;\\n    }\\n    .Error_Title {\\n      margin: 8px 0;\\n      font-size: 60px;\\n      color: #303538;\\n    }\\n    .Error_Description {\\n      margin: 20px 0;\\n      font-size: 18px;\\n      line-height: 1.6em;\\n      color: #525A61;\\n    }\\n    .Error_ButtonWrapper {\\n      margin-top: 36px;\\n    }\\n    .Error_ButtonGroup .Error_ButtonWrapper {\\n      display: inline-block;\\n    }\\n    .Error_Button {\\n      display: inline-block;\\n      width: 140px;\\n      padding: 14px 0;\\n      margin: 0 2px;\\n      font-size: 16px;\\n      font-weight: 700;\\n      text-align: center;\\n      cursor: pointer;\\n      transition: background .2s,color .2s;\\n      outline: 0;\\n      box-sizing: border-box;\\n      border-radius: 4px;\\n    }\\n    .WhiteButton {\\n      color: #808991;\\n      background: #fff;\\n      border: 1px solid #d1d5d9;\\n      box-shadow: 0 1px 1px 0 rgba(209, 213, 217, .3);\\n    }\\n    .GrayButton {\\n      color: #FFFFFF;\\n      background: #17AA9B;\\n      border: 1px solid #17AA9B;\\n      box-shadow: 0 1px 1px 0 rgba(209,213,217,.3);\\n    }\\n    .PageHeader {\\n      border-bottom: 1px solid #cddce5;\\n    }\\n    .Header_Logo {\\n      text-align: center;\\n      font-size: 13px;\\n      margin: 0;\\n    }\\n    .Logo_Wrapper {\\n      display: inline-block;\\n      padding: 15px 14px 12px;\\n    }\\n  </style>\\n</head>\\n<body>\\n<header class=\"PageHeader\">\\n  <h1 class=\"Header_Logo\">\\n    <a class=\"Logo_Wrapper\" href=\"/\"><img src=\"https://www.hanbit.co.kr/images/common/logo_hanbit.png\" alt=\"한빛출판네트워크\" border=\"0\"></a>\\n  </h1>\\n</header>\\n<section class=\"PageError\">\\n  <div class=\"Error_Image\">\\n    <img src=\"https://www.hanbit.co.kr/images/404-error.png\" alt=\"404 Error\" border=\"0\" width=\"300\">\\n  </div>\\n  <h2 class=\"Error_Title\">404</h2>\\n  <p class=\"Error_Description\"><strong>요청하신 페이지가 없습니다.</strong><br>입력하신 주소를 확인해 주세요.</p>\\n  <ul class=\"Error_ButtonGroup\">\\n    <li class=\"Error_ButtonWrapper\">\\n      <a class=\"Error_Button WhiteButton\" href=\"javascript:window.history.back();\">이전페이지</a>\\n    </li>\\n        <li class=\"Error_ButtonWrapper\">\\n      <a class=\"Error_Button GrayButton\" href=\"/\">홈으로 돌아가기</a>\\n    </li>\\n      </ul>\\n  </section>\\n</body>\\n</html>'"
      ]
     },
     "execution_count": 46,
     "metadata": {},
     "output_type": "execute_result"
    }
   ],
   "source": [
    "res.text"
   ]
  },
  {
   "cell_type": "code",
   "execution_count": 56,
   "metadata": {},
   "outputs": [],
   "source": [
    "lines = []\n",
    "for li in lis:\n",
    "    href = li.find('a')['href']\n",
    "    sub_req = requests.get(base_url + href)\n",
    "    sub_soup = BeautifulSoup(sub_req.text, 'html.parser')\n",
    "\n",
    "    title = sub_soup.select_one('.store_product_info_box > h3').get_text().strip()\n",
    "    info_lis = sub_soup.select('.info_list > li')\n",
    "    info_dict = {}\n",
    "    for li in info_lis:\n",
    "        key = li.find('strong').get_text().split(' ')[0]\n",
    "        val = li.find('span').get_text().strip()\n",
    "        info_dict[key] = val\n",
    "\n",
    "    author = info_dict['저자']\n",
    "    try:\n",
    "        translator = info_dict['번역']\n",
    "    except:\n",
    "        translator = '-'\n",
    "    date = info_dict['출간']\n",
    "    page = int(info_dict['페이지'].split(' ')[0].replace(',','')) \n",
    "    price = int(sub_soup.select_one('.pbr > strong').get_text().replace(',',''))\n",
    "    lines.append([title, author, translator, date, page, price])  "
   ]
  },
  {
   "cell_type": "code",
   "execution_count": 57,
   "metadata": {},
   "outputs": [
    {
     "data": {
      "text/html": [
       "<div>\n",
       "<style scoped>\n",
       "    .dataframe tbody tr th:only-of-type {\n",
       "        vertical-align: middle;\n",
       "    }\n",
       "\n",
       "    .dataframe tbody tr th {\n",
       "        vertical-align: top;\n",
       "    }\n",
       "\n",
       "    .dataframe thead th {\n",
       "        text-align: right;\n",
       "    }\n",
       "</style>\n",
       "<table border=\"1\" class=\"dataframe\">\n",
       "  <thead>\n",
       "    <tr style=\"text-align: right;\">\n",
       "      <th></th>\n",
       "      <th>제목</th>\n",
       "      <th>저자</th>\n",
       "      <th>번역</th>\n",
       "      <th>출간일</th>\n",
       "      <th>쪽수</th>\n",
       "      <th>판매가</th>\n",
       "    </tr>\n",
       "  </thead>\n",
       "  <tbody>\n",
       "    <tr>\n",
       "      <th>0</th>\n",
       "      <td>처음 배우는 매트랩</td>\n",
       "      <td>방성완</td>\n",
       "      <td>-</td>\n",
       "      <td>2023-04-10</td>\n",
       "      <td>416</td>\n",
       "      <td>30000</td>\n",
       "    </tr>\n",
       "    <tr>\n",
       "      <th>1</th>\n",
       "      <td>SAS와 메타분석을 활용한 한번에 적용하는 의학보건통계</td>\n",
       "      <td>히든그레이스 데이터분석팀</td>\n",
       "      <td>-</td>\n",
       "      <td>2023-03-09</td>\n",
       "      <td>516</td>\n",
       "      <td>34000</td>\n",
       "    </tr>\n",
       "    <tr>\n",
       "      <th>2</th>\n",
       "      <td>정보교과교육론(3판)</td>\n",
       "      <td>최현종 , 전용주</td>\n",
       "      <td>-</td>\n",
       "      <td>2023-03-01</td>\n",
       "      <td>488</td>\n",
       "      <td>30000</td>\n",
       "    </tr>\n",
       "    <tr>\n",
       "      <th>3</th>\n",
       "      <td>IT CookBook, 기초전자실험 with PSpice(3판)</td>\n",
       "      <td>홍순관</td>\n",
       "      <td>-</td>\n",
       "      <td>2023-02-28</td>\n",
       "      <td>308</td>\n",
       "      <td>22000</td>\n",
       "    </tr>\n",
       "    <tr>\n",
       "      <th>4</th>\n",
       "      <td>경제수학 강의(3판)</td>\n",
       "      <td>김성현</td>\n",
       "      <td>-</td>\n",
       "      <td>2023-02-28</td>\n",
       "      <td>464</td>\n",
       "      <td>23000</td>\n",
       "    </tr>\n",
       "  </tbody>\n",
       "</table>\n",
       "</div>"
      ],
      "text/plain": [
       "                                    제목             저자 번역         출간일   쪽수   \n",
       "0                           처음 배우는 매트랩            방성완  -  2023-04-10  416  \\\n",
       "1       SAS와 메타분석을 활용한 한번에 적용하는 의학보건통계  히든그레이스 데이터분석팀  -  2023-03-09  516   \n",
       "2                          정보교과교육론(3판)      최현종 , 전용주  -  2023-03-01  488   \n",
       "3  IT CookBook, 기초전자실험 with PSpice(3판)            홍순관  -  2023-02-28  308   \n",
       "4                          경제수학 강의(3판)            김성현  -  2023-02-28  464   \n",
       "\n",
       "     판매가  \n",
       "0  30000  \n",
       "1  34000  \n",
       "2  30000  \n",
       "3  22000  \n",
       "4  23000  "
      ]
     },
     "execution_count": 57,
     "metadata": {},
     "output_type": "execute_result"
    }
   ],
   "source": [
    "df = pd.DataFrame(lines, columns=['제목','저자','번역','출간일','쪽수','판매가'])\n",
    "df.head()"
   ]
  },
  {
   "cell_type": "code",
   "execution_count": null,
   "metadata": {},
   "outputs": [],
   "source": []
  }
 ],
 "metadata": {
  "kernelspec": {
   "display_name": "base",
   "language": "python",
   "name": "python3"
  },
  "language_info": {
   "codemirror_mode": {
    "name": "ipython",
    "version": 3
   },
   "file_extension": ".py",
   "mimetype": "text/x-python",
   "name": "python",
   "nbconvert_exporter": "python",
   "pygments_lexer": "ipython3",
   "version": "3.10.10"
  },
  "orig_nbformat": 4
 },
 "nbformat": 4,
 "nbformat_minor": 2
}
