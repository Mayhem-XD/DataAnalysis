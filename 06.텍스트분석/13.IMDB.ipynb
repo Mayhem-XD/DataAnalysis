{
 "cells": [
  {
   "cell_type": "code",
   "execution_count": 20,
   "metadata": {},
   "outputs": [],
   "source": [
    "import requests, time\n",
    "from urllib.parse import quote\n",
    "import pandas as pd\n",
    "from bs4 import BeautifulSoup\n",
    "import re\n",
    "from selenium.webdriver.common.keys import Keys\n",
    "from selenium.webdriver.common.by import By\n",
    "from tqdm import tqdm\n",
    "import folium\n",
    "import math"
   ]
  },
  {
   "cell_type": "code",
   "execution_count": 30,
   "metadata": {},
   "outputs": [],
   "source": [
    "from selenium import webdriver\n",
    "from selenium.webdriver.chrome.service import Service\n",
    "service = Service('data/chromedriver_win32/chromedriver.exe')\n",
    "driver = webdriver.Chrome(service=service)"
   ]
  },
  {
   "cell_type": "code",
   "execution_count": 31,
   "metadata": {},
   "outputs": [],
   "source": [
    "url= 'https://www.imdb.com/title/tt0111161/reviews/?ref_=tt_ql_2'\n",
    "driver.get(url)\n",
    "soup = BeautifulSoup(driver.page_source,'html.parser')\n",
    "time.sleep(2)"
   ]
  },
  {
   "cell_type": "code",
   "execution_count": 23,
   "metadata": {},
   "outputs": [],
   "source": [
    "for _ in range(40):\n",
    "    driver.find_element(By.CLASS_NAME,'ipl-load-more__button').click()\n",
    "    time.sleep(5)\n",
    "    try:            # 여기 지워도 ㄱㅊ\n",
    "        driver.find_element(By.CLASS_NAME,'ipl-expander__icon expander-icon ').click()\n",
    "    except:\n",
    "        continue\n",
    "lines= []\n",
    "divs = soup.select('.lister')\n",
    "len(divs)\n",
    "check_spoilers = driver.find_element(By.CLASS_NAME,'spoiler-warning').text\n",
    "if check_spoilers == 'Warning: Spoilers':\n",
    "    driver.find_element(By.CLASS_NAME,'spoiler-warning').click()\n",
    "soup = BeautifulSoup(driver.page_source, 'html.parser')\n",
    "divs = soup.select('.content')\n",
    "for div in divs:\n",
    "    review_str = ''\n",
    "    texts = div.select('.text.show-more__control')\n",
    "    for text in texts:\n",
    "        review_text = text.get_text().strip()\n",
    "        if review_text == ' ' or review_text == '\\u200b':         # zero width space\n",
    "            continue\n",
    "        review_str += review_text + '\\n'\n",
    "    lines.append(review_str)"
   ]
  },
  {
   "cell_type": "code",
   "execution_count": 28,
   "metadata": {},
   "outputs": [
    {
     "ename": "InvalidSessionIdException",
     "evalue": "Message: invalid session id\nStacktrace:\nBacktrace:\n\tGetHandleVerifier [0x002FDCE3+50899]\n\t(No symbol) [0x0028E111]\n\t(No symbol) [0x00195450]\n\t(No symbol) [0x001B70B8]\n\t(No symbol) [0x001DB7F6]\n\t(No symbol) [0x001D8722]\n\t(No symbol) [0x001D7ADE]\n\t(No symbol) [0x00175391]\n\t(No symbol) [0x0017598E]\n\t(No symbol) [0x00175D6A]\n\tGetHandleVerifier [0x00563EAE+2566302]\n\tGetHandleVerifier [0x005992B1+2784417]\n\tGetHandleVerifier [0x0059327C+2759788]\n\tGetHandleVerifier [0x00395740+672048]\n\t(No symbol) [0x00298872]\n\t(No symbol) [0x00174FEA]\n\t(No symbol) [0x001749EF]\n\tGetHandleVerifier [0x005BBBCC+2926012]\n\tBaseThreadInitThunk [0x75B900F9+25]\n\tRtlGetAppContainerNamedObjectPath [0x770E7BBE+286]\n\tRtlGetAppContainerNamedObjectPath [0x770E7B8E+238]\n\t(No symbol) [0x00000000]\n",
     "output_type": "error",
     "traceback": [
      "\u001b[1;31m---------------------------------------------------------------------------\u001b[0m",
      "\u001b[1;31mInvalidSessionIdException\u001b[0m                 Traceback (most recent call last)",
      "Cell \u001b[1;32mIn[28], line 1\u001b[0m\n\u001b[1;32m----> 1\u001b[0m driver\u001b[39m.\u001b[39;49mclose()\n\u001b[0;32m      2\u001b[0m \u001b[39mprint\u001b[39m(lines)\n",
      "File \u001b[1;32mc:\\Users\\jukh3\\anaconda3\\lib\\site-packages\\selenium\\webdriver\\remote\\webdriver.py:551\u001b[0m, in \u001b[0;36mWebDriver.close\u001b[1;34m(self)\u001b[0m\n\u001b[0;32m    543\u001b[0m \u001b[39mdef\u001b[39;00m \u001b[39mclose\u001b[39m(\u001b[39mself\u001b[39m) \u001b[39m-\u001b[39m\u001b[39m>\u001b[39m \u001b[39mNone\u001b[39;00m:\n\u001b[0;32m    544\u001b[0m     \u001b[39m\"\"\"Closes the current window.\u001b[39;00m\n\u001b[0;32m    545\u001b[0m \n\u001b[0;32m    546\u001b[0m \u001b[39m    :Usage:\u001b[39;00m\n\u001b[1;32m   (...)\u001b[0m\n\u001b[0;32m    549\u001b[0m \u001b[39m            driver.close()\u001b[39;00m\n\u001b[0;32m    550\u001b[0m \u001b[39m    \"\"\"\u001b[39;00m\n\u001b[1;32m--> 551\u001b[0m     \u001b[39mself\u001b[39;49m\u001b[39m.\u001b[39;49mexecute(Command\u001b[39m.\u001b[39;49mCLOSE)\n",
      "File \u001b[1;32mc:\\Users\\jukh3\\anaconda3\\lib\\site-packages\\selenium\\webdriver\\remote\\webdriver.py:440\u001b[0m, in \u001b[0;36mWebDriver.execute\u001b[1;34m(self, driver_command, params)\u001b[0m\n\u001b[0;32m    438\u001b[0m response \u001b[39m=\u001b[39m \u001b[39mself\u001b[39m\u001b[39m.\u001b[39mcommand_executor\u001b[39m.\u001b[39mexecute(driver_command, params)\n\u001b[0;32m    439\u001b[0m \u001b[39mif\u001b[39;00m response:\n\u001b[1;32m--> 440\u001b[0m     \u001b[39mself\u001b[39;49m\u001b[39m.\u001b[39;49merror_handler\u001b[39m.\u001b[39;49mcheck_response(response)\n\u001b[0;32m    441\u001b[0m     response[\u001b[39m\"\u001b[39m\u001b[39mvalue\u001b[39m\u001b[39m\"\u001b[39m] \u001b[39m=\u001b[39m \u001b[39mself\u001b[39m\u001b[39m.\u001b[39m_unwrap_value(response\u001b[39m.\u001b[39mget(\u001b[39m\"\u001b[39m\u001b[39mvalue\u001b[39m\u001b[39m\"\u001b[39m, \u001b[39mNone\u001b[39;00m))\n\u001b[0;32m    442\u001b[0m     \u001b[39mreturn\u001b[39;00m response\n",
      "File \u001b[1;32mc:\\Users\\jukh3\\anaconda3\\lib\\site-packages\\selenium\\webdriver\\remote\\errorhandler.py:245\u001b[0m, in \u001b[0;36mErrorHandler.check_response\u001b[1;34m(self, response)\u001b[0m\n\u001b[0;32m    243\u001b[0m         alert_text \u001b[39m=\u001b[39m value[\u001b[39m\"\u001b[39m\u001b[39malert\u001b[39m\u001b[39m\"\u001b[39m]\u001b[39m.\u001b[39mget(\u001b[39m\"\u001b[39m\u001b[39mtext\u001b[39m\u001b[39m\"\u001b[39m)\n\u001b[0;32m    244\u001b[0m     \u001b[39mraise\u001b[39;00m exception_class(message, screen, stacktrace, alert_text)  \u001b[39m# type: ignore[call-arg]  # mypy is not smart enough here\u001b[39;00m\n\u001b[1;32m--> 245\u001b[0m \u001b[39mraise\u001b[39;00m exception_class(message, screen, stacktrace)\n",
      "\u001b[1;31mInvalidSessionIdException\u001b[0m: Message: invalid session id\nStacktrace:\nBacktrace:\n\tGetHandleVerifier [0x002FDCE3+50899]\n\t(No symbol) [0x0028E111]\n\t(No symbol) [0x00195450]\n\t(No symbol) [0x001B70B8]\n\t(No symbol) [0x001DB7F6]\n\t(No symbol) [0x001D8722]\n\t(No symbol) [0x001D7ADE]\n\t(No symbol) [0x00175391]\n\t(No symbol) [0x0017598E]\n\t(No symbol) [0x00175D6A]\n\tGetHandleVerifier [0x00563EAE+2566302]\n\tGetHandleVerifier [0x005992B1+2784417]\n\tGetHandleVerifier [0x0059327C+2759788]\n\tGetHandleVerifier [0x00395740+672048]\n\t(No symbol) [0x00298872]\n\t(No symbol) [0x00174FEA]\n\t(No symbol) [0x001749EF]\n\tGetHandleVerifier [0x005BBBCC+2926012]\n\tBaseThreadInitThunk [0x75B900F9+25]\n\tRtlGetAppContainerNamedObjectPath [0x770E7BBE+286]\n\tRtlGetAppContainerNamedObjectPath [0x770E7B8E+238]\n\t(No symbol) [0x00000000]\n"
     ]
    }
   ],
   "source": [
    "driver.close()\n",
    "print(lines)"
   ]
  },
  {
   "cell_type": "code",
   "execution_count": 25,
   "metadata": {},
   "outputs": [],
   "source": [
    "str_line = ''.join([str(line) + '\\n' for line in lines])"
   ]
  },
  {
   "cell_type": "code",
   "execution_count": 26,
   "metadata": {},
   "outputs": [],
   "source": [
    "with open('data/test_review.txt','w',encoding='utf-8') as f:\n",
    "    f.write(str_line)"
   ]
  },
  {
   "cell_type": "code",
   "execution_count": 27,
   "metadata": {},
   "outputs": [],
   "source": [
    "# find.elements 해서 more 버튼 찾아서 눌러야함 soup전에\n"
   ]
  },
  {
   "cell_type": "code",
   "execution_count": null,
   "metadata": {},
   "outputs": [],
   "source": []
  }
 ],
 "metadata": {
  "kernelspec": {
   "display_name": "base",
   "language": "python",
   "name": "python3"
  },
  "language_info": {
   "codemirror_mode": {
    "name": "ipython",
    "version": 3
   },
   "file_extension": ".py",
   "mimetype": "text/x-python",
   "name": "python",
   "nbconvert_exporter": "python",
   "pygments_lexer": "ipython3",
   "version": "3.10.9"
  },
  "orig_nbformat": 4
 },
 "nbformat": 4,
 "nbformat_minor": 2
}
