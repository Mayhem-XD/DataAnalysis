{
 "cells": [
  {
   "cell_type": "code",
   "execution_count": 2,
   "metadata": {},
   "outputs": [],
   "source": [
    "import requests, time\n",
    "from urllib.parse import quote\n",
    "import pandas as pd\n",
    "from bs4 import BeautifulSoup\n",
    "import re\n",
    "from selenium.webdriver.common.keys import Keys\n",
    "from selenium.webdriver.common.by import By\n",
    "from tqdm import tqdm\n",
    "import folium\n",
    "import math"
   ]
  },
  {
   "cell_type": "code",
   "execution_count": 3,
   "metadata": {},
   "outputs": [],
   "source": [
    "from selenium import webdriver\n",
    "from selenium.webdriver.chrome.service import Service\n",
    "service = Service('data/chromedriver_win32/chromedriver.exe')\n",
    "driver = webdriver.Chrome(service=service)"
   ]
  },
  {
   "cell_type": "code",
   "execution_count": 4,
   "metadata": {},
   "outputs": [],
   "source": [
    "url= 'https://www.imdb.com/title/tt0111161/reviews/?ref_=tt_ql_2'\n",
    "driver.get(url)\n",
    "# soup = BeautifulSoup(driver.page_source,'html.parser')\n",
    "time.sleep(2)"
   ]
  },
  {
   "cell_type": "code",
   "execution_count": 5,
   "metadata": {},
   "outputs": [],
   "source": [
    "for _ in range(40):\n",
    "    driver.find_element(By.CLASS_NAME,'ipl-load-more__button').click()\n",
    "    time.sleep(5)\n",
    "    try:            # 여기 지워도 ㄱㅊ 쓸려면 for문 돌림\n",
    "        driver.find_element(By.CLASS_NAME,'ipl-expander__icon expander-icon ').click()\n",
    "        driver.find_element(By.CLASS_NAME,'spoiler-warning').click()\n",
    "\n",
    "    except:\n",
    "        continue\n",
    "lines= []\n",
    "soup = BeautifulSoup(driver.page_source, 'html.parser')\n",
    "divs = soup.select('.lister')\n",
    "len(divs)\n",
    "check_spoilers = driver.find_element(By.CLASS_NAME,'spoiler-warning').text\n",
    "divs = soup.select('.content')\n",
    "for div in divs:\n",
    "    review_str = ''\n",
    "    texts = div.select('.text.show-more__control')\n",
    "    for text in texts:\n",
    "        review_text = text.get_text().strip()\n",
    "        if review_text == ' ' or review_text == '\\u200b':         # zero width space\n",
    "            continue\n",
    "        review_str += review_text + '\\n'\n",
    "    lines.append(review_str)"
   ]
  },
  {
   "cell_type": "code",
   "execution_count": 6,
   "metadata": {},
   "outputs": [
    {
     "data": {
      "text/plain": [
       "1022"
      ]
     },
     "execution_count": 6,
     "metadata": {},
     "output_type": "execute_result"
    }
   ],
   "source": [
    "driver.close()\n",
    "len(lines)"
   ]
  },
  {
   "cell_type": "code",
   "execution_count": 7,
   "metadata": {},
   "outputs": [],
   "source": [
    "str_line = ''.join([str(line) + '\\n' for line in lines])"
   ]
  },
  {
   "cell_type": "code",
   "execution_count": 8,
   "metadata": {},
   "outputs": [],
   "source": [
    "with open('data/test_review.txt','w',encoding='utf-8') as f:\n",
    "    f.write(str_line)"
   ]
  },
  {
   "cell_type": "code",
   "execution_count": 9,
   "metadata": {},
   "outputs": [],
   "source": [
    "# find.elements 해서 more 버튼 찾아서 눌러야함 soup전에\n"
   ]
  },
  {
   "cell_type": "code",
   "execution_count": null,
   "metadata": {},
   "outputs": [],
   "source": []
  }
 ],
 "metadata": {
  "kernelspec": {
   "display_name": "base",
   "language": "python",
   "name": "python3"
  },
  "language_info": {
   "codemirror_mode": {
    "name": "ipython",
    "version": 3
   },
   "file_extension": ".py",
   "mimetype": "text/x-python",
   "name": "python",
   "nbconvert_exporter": "python",
   "pygments_lexer": "ipython3",
   "version": "3.10.10"
  },
  "orig_nbformat": 4
 },
 "nbformat": 4,
 "nbformat_minor": 2
}
