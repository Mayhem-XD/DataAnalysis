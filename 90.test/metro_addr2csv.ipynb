{
 "cells": [
  {
   "cell_type": "code",
   "execution_count": 35,
   "metadata": {},
   "outputs": [],
   "source": [
    "import pandas as pd\n",
    "import numpy as np\n",
    "from datetime import datetime"
   ]
  },
  {
   "cell_type": "code",
   "execution_count": 36,
   "metadata": {},
   "outputs": [],
   "source": [
    "df_st = pd.read_csv('data/St_addr_20221122.csv',encoding='euc-kr')\n",
    "df_st = df_st[['역명','도로명주소']]\n",
    "df_st['역명'] = df_st['역명'].str.replace('(', ' ',regex=False).str.split().str[0]"
   ]
  },
  {
   "cell_type": "code",
   "execution_count": 37,
   "metadata": {},
   "outputs": [],
   "source": [
    "df_sst = pd.read_csv('data/St_inseoul_addr.csv',encoding='euc-kr')\n",
    "df_sst = df_sst[['역명','도로명주소']]\n",
    "df_sst['역명'] = df_sst['역명'].str.replace('(', ' ',regex=False).str.split().str[0]"
   ]
  },
  {
   "cell_type": "code",
   "execution_count": 38,
   "metadata": {},
   "outputs": [],
   "source": [
    "df_st_r = pd.concat([df_sst, df_st], axis=0)\n",
    "df_st_r = df_st_r.reset_index(drop=True)"
   ]
  },
  {
   "cell_type": "code",
   "execution_count": 39,
   "metadata": {},
   "outputs": [],
   "source": [
    "now = datetime.now()\n",
    "f_date = now.strftime('%Y%m%d')"
   ]
  },
  {
   "cell_type": "code",
   "execution_count": 40,
   "metadata": {},
   "outputs": [],
   "source": [
    "df_st_r.to_csv(f'data/st_addr_{f_date}.csv',index=False,encoding='utf-8')"
   ]
  },
  {
   "cell_type": "code",
   "execution_count": null,
   "metadata": {},
   "outputs": [],
   "source": []
  }
 ],
 "metadata": {
  "kernelspec": {
   "display_name": "base",
   "language": "python",
   "name": "python3"
  },
  "language_info": {
   "codemirror_mode": {
    "name": "ipython",
    "version": 3
   },
   "file_extension": ".py",
   "mimetype": "text/x-python",
   "name": "python",
   "nbconvert_exporter": "python",
   "pygments_lexer": "ipython3",
   "version": "3.10.10"
  },
  "orig_nbformat": 4
 },
 "nbformat": 4,
 "nbformat_minor": 2
}
