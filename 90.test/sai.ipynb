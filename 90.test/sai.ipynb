{
 "cells": [
  {
   "cell_type": "code",
   "execution_count": 112,
   "metadata": {},
   "outputs": [],
   "source": [
    "import requests,json,datetime\n",
    "from urllib.parse import quote \n",
    "import pandas as pd\n",
    "import numpy as np"
   ]
  },
  {
   "cell_type": "code",
   "execution_count": 113,
   "metadata": {},
   "outputs": [],
   "source": [
    "with open('data/sub_arr_info_key.txt') as f:\n",
    "    info_key = f.read()"
   ]
  },
  {
   "cell_type": "code",
   "execution_count": 114,
   "metadata": {},
   "outputs": [
    {
     "data": {
      "text/plain": [
       "30"
      ]
     },
     "execution_count": 114,
     "metadata": {},
     "output_type": "execute_result"
    }
   ],
   "source": [
    "len(info_key)"
   ]
  },
  {
   "cell_type": "code",
   "execution_count": 115,
   "metadata": {},
   "outputs": [],
   "source": [
    "# now = datetime.datetime.now()\n",
    "# date = now.strftime('%Y%m%d')\n",
    "# date"
   ]
  },
  {
   "cell_type": "code",
   "execution_count": 116,
   "metadata": {},
   "outputs": [],
   "source": [
    "# url = \"http://openapi.seoul.go.kr:8088/인증키/json/realtimeStationArrival/0/5/20220301(yyyymmdd)\"\n"
   ]
  },
  {
   "cell_type": "code",
   "execution_count": 117,
   "metadata": {},
   "outputs": [
    {
     "name": "stdout",
     "output_type": "stream",
     "text": [
      "b'{\"errorMessage\":{\"status\":200,\"code\":\"INFO-000\",\"message\":\"\\xec\\xa0\\x95\\xec\\x83\\x81 \\xec\\xb2\\x98\\xeb\\xa6\\xac\\xeb\\x90\\x98\\xec\\x97\\x88\\xec\\x8a\\xb5\\xeb\\x8b\\x88\\xeb\\x8b\\xa4.\",\"link\":\"\",\"developerMessage\":\"\",\"total\":7},\"realtimeArrivalList\":[{\"beginRow\":null,\"endRow\":null,\"curPage\":null,\"pageRow\":null,\"totalCount\":7,\"rowNum\":1,\"selectedCount\":7,\"subwayId\":\"1001\",\"subwayNm\":null,\"updnLine\":\"\\xec\\x83\\x81\\xed\\x96\\x89\",\"trainLineNm\":\"\\xea\\xb4\\x91\\xec\\x9a\\xb4\\xeb\\x8c\\x80\\xed\\x96\\x89 - \\xec\\x84\\xb8\\xeb\\xa5\\x98\\xeb\\xb0\\xa9\\xeb\\xa9\\xb4\",\"subwayHeading\":null,\"statnFid\":\"1001080158\",\"statnTid\":\"1001080156\",\"statnId\":\"1001080157\",\"statnNm\":\"\\xeb\\xb3\\x91\\xec\\xa0\\x90\",\"trainCo\":null,\"ordkey\":\"01000\\xea\\xb4\\x91\\xec\\x9a\\xb4\\xeb\\x8c\\x800\",\"subwayList\":\"1001\",\"statnList\":\"1001080157\",\"btrainSttus\":null,\"barvlDt\":\"0\",\"btrainNo\":\"0476\",\"bstatnId\":\"171\",\"bstatnNm\":\"\\xea\\xb4\\x91\\xec\\x9a\\xb4\\xeb\\x8c\\x80\",\"recptnDt\":\"2023-05-16 17:12:45\",\"arvlMsg2\":\"\\xeb\\xb3\\x91\\xec\\xa0\\x90 \\xeb\\x8f\\x84\\xec\\xb0\\xa9\",\"arvlMsg3\":\"\\xeb\\xb3\\x91\\xec\\xa0\\x90\",\"arvlCd\":\"1\"},{\"beginRow\":null,\"endRow\":null,\"curPage\":null,\"pageRow\":null,\"totalCount\":7,\"rowNum\":2,\"selectedCount\":7,\"subwayId\":\"1001\",\"subwayNm\":null,\"updnLine\":\"\\xec\\x83\\x81\\xed\\x96\\x89\",\"trainLineNm\":\"\\xec\\xb2\\xad\\xeb\\x9f\\x89\\xeb\\xa6\\xac\\xed\\x96\\x89 - \\xec\\x84\\xb8\\xeb\\xa5\\x98\\xeb\\xb0\\xa9\\xeb\\xa9\\xb4 (\\xea\\xb8\\x89\\xed\\x96\\x89)\",\"subwayHeading\":null,\"statnFid\":\"1001080158\",\"statnTid\":\"1001080156\",\"statnId\":\"1001080157\",\"statnNm\":\"\\xeb\\xb3\\x91\\xec\\xa0\\x90\",\"trainCo\":null,\"ordkey\":\"01008\\xec\\xb2\\xad\\xeb\\x9f\\x89\\xeb\\xa6\\xac1\",\"subwayList\":\"1001\",\"statnList\":\"1001080157\",\"btrainSttus\":\"\\xea\\xb8\\x89\\xed\\x96\\x89\",\"barvlDt\":\"0\",\"btrainNo\":\"1940\",\"bstatnId\":\"249\",\"bstatnNm\":\"\\xec\\xb2\\xad\\xeb\\x9f\\x89\\xeb\\xa6\\xac (\\xea\\xb8\\x89\\xed\\x96\\x89)\",\"recptnDt\":\"2023-05-16 17:12:39\",\"arvlMsg2\":\"[8]\\xeb\\xb2\\x88\\xec\\xa7\\xb8 \\xec\\xa0\\x84\\xec\\x97\\xad (\\xed\\x8f\\x89\\xed\\x83\\x9d)\",\"arvlMsg3\":\"\\xed\\x8f\\x89\\xed\\x83\\x9d\",\"arvlCd\":\"99\"},{\"beginRow\":null,\"endRow\":null,\"curPage\":null,\"pageRow\":null,\"totalCount\":7,\"rowNum\":3,\"selectedCount\":7,\"subwayId\":\"1001\",\"subwayNm\":null,\"updnLine\":\"\\xec\\x83\\x81\\xed\\x96\\x89\",\"trainLineNm\":\"\\xea\\xb4\\x91\\xec\\x9a\\xb4\\xeb\\x8c\\x80\\xed\\x96\\x89 - \\xec\\x84\\xb8\\xeb\\xa5\\x98\\xeb\\xb0\\xa9\\xeb\\xa9\\xb4\",\"subwayHeading\":null,\"statnFid\":\"1001080158\",\"statnTid\":\"1001080156\",\"statnId\":\"1001080157\",\"statnNm\":\"\\xeb\\xb3\\x91\\xec\\xa0\\x90\",\"trainCo\":null,\"ordkey\":\"02005\\xea\\xb4\\x91\\xec\\x9a\\xb4\\xeb\\x8c\\x800\",\"subwayList\":\"1001\",\"statnList\":\"1001080157\",\"btrainSttus\":null,\"barvlDt\":\"0\",\"btrainNo\":\"0672\",\"bstatnId\":\"171\",\"bstatnNm\":\"\\xea\\xb4\\x91\\xec\\x9a\\xb4\\xeb\\x8c\\x80\",\"recptnDt\":\"2023-05-16 17:12:45\",\"arvlMsg2\":\"[5]\\xeb\\xb2\\x88\\xec\\xa7\\xb8 \\xec\\xa0\\x84\\xec\\x97\\xad (\\xec\\x86\\xa1\\xed\\x83\\x84)\",\"arvlMsg3\":\"\\xec\\x86\\xa1\\xed\\x83\\x84\",\"arvlCd\":\"99\"},{\"beginRow\":null,\"endRow\":null,\"curPage\":null,\"pageRow\":null,\"totalCount\":7,\"rowNum\":4,\"selectedCount\":7,\"subwayId\":\"1001\",\"subwayNm\":null,\"updnLine\":\"\\xed\\x95\\x98\\xed\\x96\\x89\",\"trainLineNm\":\"\\xec\\x84\\x9c\\xeb\\x8f\\x99\\xed\\x83\\x84\\xed\\x96\\x89 - \\xec\\x84\\xb8\\xeb\\xa7\\x88\\xeb\\xb0\\xa9\\xeb\\xa9\\xb4\",\"subwayHeading\":null,\"statnFid\":\"1001080156\",\"statnTid\":\"1001080158\",\"statnId\":\"1001080157\",\"statnNm\":\"\\xeb\\xb3\\x91\\xec\\xa0\\x90\",\"trainCo\":null,\"ordkey\":\"11001\\xec\\x84\\x9c\\xeb\\x8f\\x99\\xed\\x83\\x840\",\"subwayList\":\"1001\",\"statnList\":\"1001080157\",\"btrainSttus\":null,\"barvlDt\":\"0\",\"btrainNo\":\"0469\",\"bstatnId\":\"67\",\"bstatnNm\":\"\\xec\\x84\\x9c\\xeb\\x8f\\x99\\xed\\x83\\x84\",\"recptnDt\":\"2023-05-16 17:13:32\",\"arvlMsg2\":\"\\xec\\xa0\\x84\\xec\\x97\\xad \\xeb\\x8f\\x84\\xec\\xb0\\xa9\",\"arvlMsg3\":\"\\xec\\x84\\xb8\\xeb\\xa5\\x98\",\"arvlCd\":\"5\"},{\"beginRow\":null,\"endRow\":null,\"curPage\":null,\"pageRow\":null,\"totalCount\":7,\"rowNum\":5,\"selectedCount\":7,\"subwayId\":\"1001\",\"subwayNm\":null,\"updnLine\":\"\\xed\\x95\\x98\\xed\\x96\\x89\",\"trainLineNm\":\"\\xec\\xb2\\x9c\\xec\\x95\\x88\\xed\\x96\\x89 - \\xec\\x84\\xb8\\xeb\\xa7\\x88\\xeb\\xb0\\xa9\\xeb\\xa9\\xb4 (\\xea\\xb8\\x89\\xed\\x96\\x89)\",\"subwayHeading\":null,\"statnFid\":\"1001080156\",\"statnTid\":\"1001080158\",\"statnId\":\"1001080157\",\"statnNm\":\"\\xeb\\xb3\\x91\\xec\\xa0\\x90\",\"trainCo\":null,\"ordkey\":\"11002\\xec\\xb2\\x9c\\xec\\x95\\x881\",\"subwayList\":\"1001\",\"statnList\":\"1001080157\",\"btrainSttus\":\"\\xea\\xb8\\x89\\xed\\x96\\x89\",\"barvlDt\":\"0\",\"btrainNo\":\"1937\",\"bstatnId\":\"65\",\"bstatnNm\":\"\\xec\\xb2\\x9c\\xec\\x95\\x88 (\\xea\\xb8\\x89\\xed\\x96\\x89)\",\"recptnDt\":\"2023-05-16 17:15:31\",\"arvlMsg2\":\"[2]\\xeb\\xb2\\x88\\xec\\xa7\\xb8 \\xec\\xa0\\x84\\xec\\x97\\xad (\\xec\\x88\\x98\\xec\\x9b\\x90)\",\"arvlMsg3\":\"\\xec\\x88\\x98\\xec\\x9b\\x90\",\"arvlCd\":\"99\"},{\"beginRow\":null,\"endRow\":null,\"curPage\":null,\"pageRow\":null,\"totalCount\":7,\"rowNum\":6,\"selectedCount\":7,\"subwayId\":\"1001\",\"subwayNm\":null,\"updnLine\":\"\\xed\\x95\\x98\\xed\\x96\\x89\",\"trainLineNm\":\"\\xec\\xb2\\x9c\\xec\\x95\\x88\\xed\\x96\\x89 - \\xec\\x84\\xb8\\xeb\\xa7\\x88\\xeb\\xb0\\xa9\\xeb\\xa9\\xb4\",\"subwayHeading\":null,\"statnFid\":\"1001080156\",\"statnTid\":\"1001080158\",\"statnId\":\"1001080157\",\"statnNm\":\"\\xeb\\xb3\\x91\\xec\\xa0\\x90\",\"trainCo\":null,\"ordkey\":\"12004\\xec\\xb2\\x9c\\xec\\x95\\x880\",\"subwayList\":\"1001\",\"statnList\":\"1001080157\",\"btrainSttus\":null,\"barvlDt\":\"0\",\"btrainNo\":\"0669\",\"bstatnId\":\"67\",\"bstatnNm\":\"\\xec\\xb2\\x9c\\xec\\x95\\x88\",\"recptnDt\":\"2023-05-16 17:13:32\",\"arvlMsg2\":\"[4]\\xeb\\xb2\\x88\\xec\\xa7\\xb8 \\xec\\xa0\\x84\\xec\\x97\\xad (\\xec\\x84\\xb1\\xea\\xb7\\xa0\\xea\\xb4\\x80\\xeb\\x8c\\x80)\",\"arvlMsg3\":\"\\xec\\x84\\xb1\\xea\\xb7\\xa0\\xea\\xb4\\x80\\xeb\\x8c\\x80\",\"arvlCd\":\"99\"},{\"beginRow\":null,\"endRow\":null,\"curPage\":null,\"pageRow\":null,\"totalCount\":7,\"rowNum\":7,\"selectedCount\":7,\"subwayId\":\"1001\",\"subwayNm\":null,\"updnLine\":\"\\xed\\x95\\x98\\xed\\x96\\x89\",\"trainLineNm\":\"\\xec\\x8b\\xa0\\xec\\xb0\\xbd\\xed\\x96\\x89 - \\xec\\x84\\xb8\\xeb\\xa7\\x88\\xeb\\xb0\\xa9\\xeb\\xa9\\xb4 (\\xea\\xb8\\x89\\xed\\x96\\x89)\",\"subwayHeading\":null,\"statnFid\":\"1001080156\",\"statnTid\":\"1001080158\",\"statnId\":\"1001080157\",\"statnNm\":\"\\xeb\\xb3\\x91\\xec\\xa0\\x90\",\"trainCo\":null,\"ordkey\":\"12015\\xec\\x8b\\xa0\\xec\\xb0\\xbd1\",\"subwayList\":\"1001\",\"statnList\":\"1001080157\",\"btrainSttus\":\"\\xea\\xb8\\x89\\xed\\x96\\x89\",\"barvlDt\":\"0\",\"btrainNo\":\"1939\",\"bstatnId\":\"65\",\"bstatnNm\":\"\\xec\\x8b\\xa0\\xec\\xb0\\xbd (\\xea\\xb8\\x89\\xed\\x96\\x89)\",\"recptnDt\":\"2023-05-16 17:15:31\",\"arvlMsg2\":\"[15]\\xeb\\xb2\\x88\\xec\\xa7\\xb8 \\xec\\xa0\\x84\\xec\\x97\\xad (\\xea\\xb0\\x80\\xec\\x82\\xb0\\xeb\\x94\\x94\\xec\\xa7\\x80\\xed\\x84\\xb8\\xeb\\x8b\\xa8\\xec\\xa7\\x80)\",\"arvlMsg3\":\"\\xea\\xb0\\x80\\xec\\x82\\xb0\\xeb\\x94\\x94\\xec\\xa7\\x80\\xed\\x84\\xb8\\xeb\\x8b\\xa8\\xec\\xa7\\x80\",\"arvlCd\":\"99\"}]}'\n"
     ]
    }
   ],
   "source": [
    "base_url = \"http://swopenAPI.seoul.go.kr/api/subway/\"\n",
    "params1 = f\"{info_key}/json/realtimeStationArrival/0/8/\"\n",
    "# params2 = f\"{date}\"\n",
    "params2 = quote('병점')\n",
    "url = f\"{base_url}{params1}{params2}\"\n",
    "response = requests.get(url)\n",
    "print(response.content)\n"
   ]
  },
  {
   "cell_type": "code",
   "execution_count": 118,
   "metadata": {},
   "outputs": [
    {
     "data": {
      "text/plain": [
       "200"
      ]
     },
     "execution_count": 118,
     "metadata": {},
     "output_type": "execute_result"
    }
   ],
   "source": [
    "response.status_code"
   ]
  },
  {
   "cell_type": "code",
   "execution_count": 119,
   "metadata": {},
   "outputs": [
    {
     "data": {
      "text/plain": [
       "{'errorMessage': {'status': 200,\n",
       "  'code': 'INFO-000',\n",
       "  'message': '정상 처리되었습니다.',\n",
       "  'link': '',\n",
       "  'developerMessage': '',\n",
       "  'total': 7},\n",
       " 'realtimeArrivalList': [{'beginRow': None,\n",
       "   'endRow': None,\n",
       "   'curPage': None,\n",
       "   'pageRow': None,\n",
       "   'totalCount': 7,\n",
       "   'rowNum': 1,\n",
       "   'selectedCount': 7,\n",
       "   'subwayId': '1001',\n",
       "   'subwayNm': None,\n",
       "   'updnLine': '상행',\n",
       "   'trainLineNm': '광운대행 - 세류방면',\n",
       "   'subwayHeading': None,\n",
       "   'statnFid': '1001080158',\n",
       "   'statnTid': '1001080156',\n",
       "   'statnId': '1001080157',\n",
       "   'statnNm': '병점',\n",
       "   'trainCo': None,\n",
       "   'ordkey': '01000광운대0',\n",
       "   'subwayList': '1001',\n",
       "   'statnList': '1001080157',\n",
       "   'btrainSttus': None,\n",
       "   'barvlDt': '0',\n",
       "   'btrainNo': '0476',\n",
       "   'bstatnId': '171',\n",
       "   'bstatnNm': '광운대',\n",
       "   'recptnDt': '2023-05-16 17:12:45',\n",
       "   'arvlMsg2': '병점 도착',\n",
       "   'arvlMsg3': '병점',\n",
       "   'arvlCd': '1'},\n",
       "  {'beginRow': None,\n",
       "   'endRow': None,\n",
       "   'curPage': None,\n",
       "   'pageRow': None,\n",
       "   'totalCount': 7,\n",
       "   'rowNum': 2,\n",
       "   'selectedCount': 7,\n",
       "   'subwayId': '1001',\n",
       "   'subwayNm': None,\n",
       "   'updnLine': '상행',\n",
       "   'trainLineNm': '청량리행 - 세류방면 (급행)',\n",
       "   'subwayHeading': None,\n",
       "   'statnFid': '1001080158',\n",
       "   'statnTid': '1001080156',\n",
       "   'statnId': '1001080157',\n",
       "   'statnNm': '병점',\n",
       "   'trainCo': None,\n",
       "   'ordkey': '01008청량리1',\n",
       "   'subwayList': '1001',\n",
       "   'statnList': '1001080157',\n",
       "   'btrainSttus': '급행',\n",
       "   'barvlDt': '0',\n",
       "   'btrainNo': '1940',\n",
       "   'bstatnId': '249',\n",
       "   'bstatnNm': '청량리 (급행)',\n",
       "   'recptnDt': '2023-05-16 17:12:39',\n",
       "   'arvlMsg2': '[8]번째 전역 (평택)',\n",
       "   'arvlMsg3': '평택',\n",
       "   'arvlCd': '99'},\n",
       "  {'beginRow': None,\n",
       "   'endRow': None,\n",
       "   'curPage': None,\n",
       "   'pageRow': None,\n",
       "   'totalCount': 7,\n",
       "   'rowNum': 3,\n",
       "   'selectedCount': 7,\n",
       "   'subwayId': '1001',\n",
       "   'subwayNm': None,\n",
       "   'updnLine': '상행',\n",
       "   'trainLineNm': '광운대행 - 세류방면',\n",
       "   'subwayHeading': None,\n",
       "   'statnFid': '1001080158',\n",
       "   'statnTid': '1001080156',\n",
       "   'statnId': '1001080157',\n",
       "   'statnNm': '병점',\n",
       "   'trainCo': None,\n",
       "   'ordkey': '02005광운대0',\n",
       "   'subwayList': '1001',\n",
       "   'statnList': '1001080157',\n",
       "   'btrainSttus': None,\n",
       "   'barvlDt': '0',\n",
       "   'btrainNo': '0672',\n",
       "   'bstatnId': '171',\n",
       "   'bstatnNm': '광운대',\n",
       "   'recptnDt': '2023-05-16 17:12:45',\n",
       "   'arvlMsg2': '[5]번째 전역 (송탄)',\n",
       "   'arvlMsg3': '송탄',\n",
       "   'arvlCd': '99'},\n",
       "  {'beginRow': None,\n",
       "   'endRow': None,\n",
       "   'curPage': None,\n",
       "   'pageRow': None,\n",
       "   'totalCount': 7,\n",
       "   'rowNum': 4,\n",
       "   'selectedCount': 7,\n",
       "   'subwayId': '1001',\n",
       "   'subwayNm': None,\n",
       "   'updnLine': '하행',\n",
       "   'trainLineNm': '서동탄행 - 세마방면',\n",
       "   'subwayHeading': None,\n",
       "   'statnFid': '1001080156',\n",
       "   'statnTid': '1001080158',\n",
       "   'statnId': '1001080157',\n",
       "   'statnNm': '병점',\n",
       "   'trainCo': None,\n",
       "   'ordkey': '11001서동탄0',\n",
       "   'subwayList': '1001',\n",
       "   'statnList': '1001080157',\n",
       "   'btrainSttus': None,\n",
       "   'barvlDt': '0',\n",
       "   'btrainNo': '0469',\n",
       "   'bstatnId': '67',\n",
       "   'bstatnNm': '서동탄',\n",
       "   'recptnDt': '2023-05-16 17:13:32',\n",
       "   'arvlMsg2': '전역 도착',\n",
       "   'arvlMsg3': '세류',\n",
       "   'arvlCd': '5'},\n",
       "  {'beginRow': None,\n",
       "   'endRow': None,\n",
       "   'curPage': None,\n",
       "   'pageRow': None,\n",
       "   'totalCount': 7,\n",
       "   'rowNum': 5,\n",
       "   'selectedCount': 7,\n",
       "   'subwayId': '1001',\n",
       "   'subwayNm': None,\n",
       "   'updnLine': '하행',\n",
       "   'trainLineNm': '천안행 - 세마방면 (급행)',\n",
       "   'subwayHeading': None,\n",
       "   'statnFid': '1001080156',\n",
       "   'statnTid': '1001080158',\n",
       "   'statnId': '1001080157',\n",
       "   'statnNm': '병점',\n",
       "   'trainCo': None,\n",
       "   'ordkey': '11002천안1',\n",
       "   'subwayList': '1001',\n",
       "   'statnList': '1001080157',\n",
       "   'btrainSttus': '급행',\n",
       "   'barvlDt': '0',\n",
       "   'btrainNo': '1937',\n",
       "   'bstatnId': '65',\n",
       "   'bstatnNm': '천안 (급행)',\n",
       "   'recptnDt': '2023-05-16 17:15:31',\n",
       "   'arvlMsg2': '[2]번째 전역 (수원)',\n",
       "   'arvlMsg3': '수원',\n",
       "   'arvlCd': '99'},\n",
       "  {'beginRow': None,\n",
       "   'endRow': None,\n",
       "   'curPage': None,\n",
       "   'pageRow': None,\n",
       "   'totalCount': 7,\n",
       "   'rowNum': 6,\n",
       "   'selectedCount': 7,\n",
       "   'subwayId': '1001',\n",
       "   'subwayNm': None,\n",
       "   'updnLine': '하행',\n",
       "   'trainLineNm': '천안행 - 세마방면',\n",
       "   'subwayHeading': None,\n",
       "   'statnFid': '1001080156',\n",
       "   'statnTid': '1001080158',\n",
       "   'statnId': '1001080157',\n",
       "   'statnNm': '병점',\n",
       "   'trainCo': None,\n",
       "   'ordkey': '12004천안0',\n",
       "   'subwayList': '1001',\n",
       "   'statnList': '1001080157',\n",
       "   'btrainSttus': None,\n",
       "   'barvlDt': '0',\n",
       "   'btrainNo': '0669',\n",
       "   'bstatnId': '67',\n",
       "   'bstatnNm': '천안',\n",
       "   'recptnDt': '2023-05-16 17:13:32',\n",
       "   'arvlMsg2': '[4]번째 전역 (성균관대)',\n",
       "   'arvlMsg3': '성균관대',\n",
       "   'arvlCd': '99'},\n",
       "  {'beginRow': None,\n",
       "   'endRow': None,\n",
       "   'curPage': None,\n",
       "   'pageRow': None,\n",
       "   'totalCount': 7,\n",
       "   'rowNum': 7,\n",
       "   'selectedCount': 7,\n",
       "   'subwayId': '1001',\n",
       "   'subwayNm': None,\n",
       "   'updnLine': '하행',\n",
       "   'trainLineNm': '신창행 - 세마방면 (급행)',\n",
       "   'subwayHeading': None,\n",
       "   'statnFid': '1001080156',\n",
       "   'statnTid': '1001080158',\n",
       "   'statnId': '1001080157',\n",
       "   'statnNm': '병점',\n",
       "   'trainCo': None,\n",
       "   'ordkey': '12015신창1',\n",
       "   'subwayList': '1001',\n",
       "   'statnList': '1001080157',\n",
       "   'btrainSttus': '급행',\n",
       "   'barvlDt': '0',\n",
       "   'btrainNo': '1939',\n",
       "   'bstatnId': '65',\n",
       "   'bstatnNm': '신창 (급행)',\n",
       "   'recptnDt': '2023-05-16 17:15:31',\n",
       "   'arvlMsg2': '[15]번째 전역 (가산디지털단지)',\n",
       "   'arvlMsg3': '가산디지털단지',\n",
       "   'arvlCd': '99'}]}"
      ]
     },
     "execution_count": 119,
     "metadata": {},
     "output_type": "execute_result"
    }
   ],
   "source": [
    "res = json.loads(response.text)\n",
    "res"
   ]
  },
  {
   "cell_type": "code",
   "execution_count": 120,
   "metadata": {},
   "outputs": [
    {
     "data": {
      "text/plain": [
       "{'beginRow': None,\n",
       " 'endRow': None,\n",
       " 'curPage': None,\n",
       " 'pageRow': None,\n",
       " 'totalCount': 7,\n",
       " 'rowNum': 1,\n",
       " 'selectedCount': 7,\n",
       " 'subwayId': '1001',\n",
       " 'subwayNm': None,\n",
       " 'updnLine': '상행',\n",
       " 'trainLineNm': '광운대행 - 세류방면',\n",
       " 'subwayHeading': None,\n",
       " 'statnFid': '1001080158',\n",
       " 'statnTid': '1001080156',\n",
       " 'statnId': '1001080157',\n",
       " 'statnNm': '병점',\n",
       " 'trainCo': None,\n",
       " 'ordkey': '01000광운대0',\n",
       " 'subwayList': '1001',\n",
       " 'statnList': '1001080157',\n",
       " 'btrainSttus': None,\n",
       " 'barvlDt': '0',\n",
       " 'btrainNo': '0476',\n",
       " 'bstatnId': '171',\n",
       " 'bstatnNm': '광운대',\n",
       " 'recptnDt': '2023-05-16 17:12:45',\n",
       " 'arvlMsg2': '병점 도착',\n",
       " 'arvlMsg3': '병점',\n",
       " 'arvlCd': '1'}"
      ]
     },
     "execution_count": 120,
     "metadata": {},
     "output_type": "execute_result"
    }
   ],
   "source": [
    "res['realtimeArrivalList'][0]"
   ]
  },
  {
   "cell_type": "code",
   "execution_count": 121,
   "metadata": {},
   "outputs": [],
   "source": [
    "df = pd.DataFrame(res['realtimeArrivalList'])\n",
    "df = df[['updnLine','trainLineNm','statnNm','btrainSttus','bstatnNm','arvlMsg2','arvlMsg3','barvlDt','arvlCd']]\n",
    "df.btrainSttus.fillna('일반',inplace=True)"
   ]
  },
  {
   "cell_type": "code",
   "execution_count": 122,
   "metadata": {},
   "outputs": [
    {
     "data": {
      "text/html": [
       "<div>\n",
       "<style scoped>\n",
       "    .dataframe tbody tr th:only-of-type {\n",
       "        vertical-align: middle;\n",
       "    }\n",
       "\n",
       "    .dataframe tbody tr th {\n",
       "        vertical-align: top;\n",
       "    }\n",
       "\n",
       "    .dataframe thead th {\n",
       "        text-align: right;\n",
       "    }\n",
       "</style>\n",
       "<table border=\"1\" class=\"dataframe\">\n",
       "  <thead>\n",
       "    <tr style=\"text-align: right;\">\n",
       "      <th></th>\n",
       "      <th>updnLine</th>\n",
       "      <th>trainLineNm</th>\n",
       "      <th>statnNm</th>\n",
       "      <th>btrainSttus</th>\n",
       "      <th>bstatnNm</th>\n",
       "      <th>arvlMsg2</th>\n",
       "      <th>arvlMsg3</th>\n",
       "      <th>barvlDt</th>\n",
       "      <th>arvlCd</th>\n",
       "    </tr>\n",
       "  </thead>\n",
       "  <tbody>\n",
       "    <tr>\n",
       "      <th>0</th>\n",
       "      <td>상행</td>\n",
       "      <td>광운대행 - 세류방면</td>\n",
       "      <td>병점</td>\n",
       "      <td>일반</td>\n",
       "      <td>광운대</td>\n",
       "      <td>병점 도착</td>\n",
       "      <td>병점</td>\n",
       "      <td>0</td>\n",
       "      <td>1</td>\n",
       "    </tr>\n",
       "    <tr>\n",
       "      <th>1</th>\n",
       "      <td>상행</td>\n",
       "      <td>청량리행 - 세류방면 (급행)</td>\n",
       "      <td>병점</td>\n",
       "      <td>급행</td>\n",
       "      <td>청량리 (급행)</td>\n",
       "      <td>[8]번째 전역 (평택)</td>\n",
       "      <td>평택</td>\n",
       "      <td>0</td>\n",
       "      <td>99</td>\n",
       "    </tr>\n",
       "    <tr>\n",
       "      <th>2</th>\n",
       "      <td>상행</td>\n",
       "      <td>광운대행 - 세류방면</td>\n",
       "      <td>병점</td>\n",
       "      <td>일반</td>\n",
       "      <td>광운대</td>\n",
       "      <td>[5]번째 전역 (송탄)</td>\n",
       "      <td>송탄</td>\n",
       "      <td>0</td>\n",
       "      <td>99</td>\n",
       "    </tr>\n",
       "    <tr>\n",
       "      <th>3</th>\n",
       "      <td>하행</td>\n",
       "      <td>서동탄행 - 세마방면</td>\n",
       "      <td>병점</td>\n",
       "      <td>일반</td>\n",
       "      <td>서동탄</td>\n",
       "      <td>전역 도착</td>\n",
       "      <td>세류</td>\n",
       "      <td>0</td>\n",
       "      <td>5</td>\n",
       "    </tr>\n",
       "    <tr>\n",
       "      <th>4</th>\n",
       "      <td>하행</td>\n",
       "      <td>천안행 - 세마방면 (급행)</td>\n",
       "      <td>병점</td>\n",
       "      <td>급행</td>\n",
       "      <td>천안 (급행)</td>\n",
       "      <td>[2]번째 전역 (수원)</td>\n",
       "      <td>수원</td>\n",
       "      <td>0</td>\n",
       "      <td>99</td>\n",
       "    </tr>\n",
       "    <tr>\n",
       "      <th>5</th>\n",
       "      <td>하행</td>\n",
       "      <td>천안행 - 세마방면</td>\n",
       "      <td>병점</td>\n",
       "      <td>일반</td>\n",
       "      <td>천안</td>\n",
       "      <td>[4]번째 전역 (성균관대)</td>\n",
       "      <td>성균관대</td>\n",
       "      <td>0</td>\n",
       "      <td>99</td>\n",
       "    </tr>\n",
       "    <tr>\n",
       "      <th>6</th>\n",
       "      <td>하행</td>\n",
       "      <td>신창행 - 세마방면 (급행)</td>\n",
       "      <td>병점</td>\n",
       "      <td>급행</td>\n",
       "      <td>신창 (급행)</td>\n",
       "      <td>[15]번째 전역 (가산디지털단지)</td>\n",
       "      <td>가산디지털단지</td>\n",
       "      <td>0</td>\n",
       "      <td>99</td>\n",
       "    </tr>\n",
       "  </tbody>\n",
       "</table>\n",
       "</div>"
      ],
      "text/plain": [
       "  updnLine       trainLineNm statnNm btrainSttus  bstatnNm   \n",
       "0       상행       광운대행 - 세류방면      병점          일반       광운대  \\\n",
       "1       상행  청량리행 - 세류방면 (급행)      병점          급행  청량리 (급행)   \n",
       "2       상행       광운대행 - 세류방면      병점          일반       광운대   \n",
       "3       하행       서동탄행 - 세마방면      병점          일반       서동탄   \n",
       "4       하행   천안행 - 세마방면 (급행)      병점          급행   천안 (급행)   \n",
       "5       하행        천안행 - 세마방면      병점          일반        천안   \n",
       "6       하행   신창행 - 세마방면 (급행)      병점          급행   신창 (급행)   \n",
       "\n",
       "              arvlMsg2 arvlMsg3 barvlDt arvlCd  \n",
       "0                병점 도착       병점       0      1  \n",
       "1        [8]번째 전역 (평택)       평택       0     99  \n",
       "2        [5]번째 전역 (송탄)       송탄       0     99  \n",
       "3                전역 도착       세류       0      5  \n",
       "4        [2]번째 전역 (수원)       수원       0     99  \n",
       "5      [4]번째 전역 (성균관대)     성균관대       0     99  \n",
       "6  [15]번째 전역 (가산디지털단지)  가산디지털단지       0     99  "
      ]
     },
     "execution_count": 122,
     "metadata": {},
     "output_type": "execute_result"
    }
   ],
   "source": [
    "df"
   ]
  },
  {
   "cell_type": "code",
   "execution_count": 123,
   "metadata": {},
   "outputs": [
    {
     "data": {
      "text/plain": [
       "updnLine       0\n",
       "trainLineNm    0\n",
       "statnNm        0\n",
       "btrainSttus    0\n",
       "bstatnNm       0\n",
       "arvlMsg2       0\n",
       "arvlMsg3       0\n",
       "barvlDt        0\n",
       "arvlCd         0\n",
       "dtype: int64"
      ]
     },
     "execution_count": 123,
     "metadata": {},
     "output_type": "execute_result"
    }
   ],
   "source": [
    "df.isna().sum()"
   ]
  },
  {
   "cell_type": "code",
   "execution_count": 124,
   "metadata": {},
   "outputs": [
    {
     "data": {
      "text/html": [
       "<div>\n",
       "<style scoped>\n",
       "    .dataframe tbody tr th:only-of-type {\n",
       "        vertical-align: middle;\n",
       "    }\n",
       "\n",
       "    .dataframe tbody tr th {\n",
       "        vertical-align: top;\n",
       "    }\n",
       "\n",
       "    .dataframe thead th {\n",
       "        text-align: right;\n",
       "    }\n",
       "</style>\n",
       "<table border=\"1\" class=\"dataframe\">\n",
       "  <thead>\n",
       "    <tr style=\"text-align: right;\">\n",
       "      <th></th>\n",
       "      <th>updnLine</th>\n",
       "      <th>trainLineNm</th>\n",
       "      <th>statnNm</th>\n",
       "      <th>btrainSttus</th>\n",
       "      <th>bstatnNm</th>\n",
       "      <th>arvlMsg2</th>\n",
       "      <th>arvlMsg3</th>\n",
       "      <th>barvlDt</th>\n",
       "      <th>arvlCd</th>\n",
       "    </tr>\n",
       "  </thead>\n",
       "  <tbody>\n",
       "    <tr>\n",
       "      <th>0</th>\n",
       "      <td>상행</td>\n",
       "      <td>광운대행 - 세류방면</td>\n",
       "      <td>병점</td>\n",
       "      <td>일반</td>\n",
       "      <td>광운대</td>\n",
       "      <td>병점 도착</td>\n",
       "      <td>병점</td>\n",
       "      <td>0</td>\n",
       "      <td>1</td>\n",
       "    </tr>\n",
       "    <tr>\n",
       "      <th>1</th>\n",
       "      <td>상행</td>\n",
       "      <td>청량리행 - 세류방면 (급행)</td>\n",
       "      <td>병점</td>\n",
       "      <td>급행</td>\n",
       "      <td>청량리 (급행)</td>\n",
       "      <td>[8]번째 전역 (평택)</td>\n",
       "      <td>평택</td>\n",
       "      <td>0</td>\n",
       "      <td>99</td>\n",
       "    </tr>\n",
       "    <tr>\n",
       "      <th>2</th>\n",
       "      <td>상행</td>\n",
       "      <td>광운대행 - 세류방면</td>\n",
       "      <td>병점</td>\n",
       "      <td>일반</td>\n",
       "      <td>광운대</td>\n",
       "      <td>[5]번째 전역 (송탄)</td>\n",
       "      <td>송탄</td>\n",
       "      <td>0</td>\n",
       "      <td>99</td>\n",
       "    </tr>\n",
       "  </tbody>\n",
       "</table>\n",
       "</div>"
      ],
      "text/plain": [
       "  updnLine       trainLineNm statnNm btrainSttus  bstatnNm       arvlMsg2   \n",
       "0       상행       광운대행 - 세류방면      병점          일반       광운대          병점 도착  \\\n",
       "1       상행  청량리행 - 세류방면 (급행)      병점          급행  청량리 (급행)  [8]번째 전역 (평택)   \n",
       "2       상행       광운대행 - 세류방면      병점          일반       광운대  [5]번째 전역 (송탄)   \n",
       "\n",
       "  arvlMsg3 barvlDt arvlCd  \n",
       "0       병점       0      1  \n",
       "1       평택       0     99  \n",
       "2       송탄       0     99  "
      ]
     },
     "execution_count": 124,
     "metadata": {},
     "output_type": "execute_result"
    }
   ],
   "source": [
    "df1 = df[df.updnLine == '상행']\n",
    "df1"
   ]
  },
  {
   "cell_type": "code",
   "execution_count": 125,
   "metadata": {},
   "outputs": [
    {
     "data": {
      "text/html": [
       "<div>\n",
       "<style scoped>\n",
       "    .dataframe tbody tr th:only-of-type {\n",
       "        vertical-align: middle;\n",
       "    }\n",
       "\n",
       "    .dataframe tbody tr th {\n",
       "        vertical-align: top;\n",
       "    }\n",
       "\n",
       "    .dataframe thead th {\n",
       "        text-align: right;\n",
       "    }\n",
       "</style>\n",
       "<table border=\"1\" class=\"dataframe\">\n",
       "  <thead>\n",
       "    <tr style=\"text-align: right;\">\n",
       "      <th></th>\n",
       "      <th>updnLine</th>\n",
       "      <th>trainLineNm</th>\n",
       "      <th>statnNm</th>\n",
       "      <th>btrainSttus</th>\n",
       "      <th>bstatnNm</th>\n",
       "      <th>arvlMsg2</th>\n",
       "      <th>arvlMsg3</th>\n",
       "      <th>barvlDt</th>\n",
       "      <th>arvlCd</th>\n",
       "    </tr>\n",
       "  </thead>\n",
       "  <tbody>\n",
       "    <tr>\n",
       "      <th>3</th>\n",
       "      <td>하행</td>\n",
       "      <td>서동탄행 - 세마방면</td>\n",
       "      <td>병점</td>\n",
       "      <td>일반</td>\n",
       "      <td>서동탄</td>\n",
       "      <td>전역 도착</td>\n",
       "      <td>세류</td>\n",
       "      <td>0</td>\n",
       "      <td>5</td>\n",
       "    </tr>\n",
       "    <tr>\n",
       "      <th>4</th>\n",
       "      <td>하행</td>\n",
       "      <td>천안행 - 세마방면 (급행)</td>\n",
       "      <td>병점</td>\n",
       "      <td>급행</td>\n",
       "      <td>천안 (급행)</td>\n",
       "      <td>[2]번째 전역 (수원)</td>\n",
       "      <td>수원</td>\n",
       "      <td>0</td>\n",
       "      <td>99</td>\n",
       "    </tr>\n",
       "    <tr>\n",
       "      <th>5</th>\n",
       "      <td>하행</td>\n",
       "      <td>천안행 - 세마방면</td>\n",
       "      <td>병점</td>\n",
       "      <td>일반</td>\n",
       "      <td>천안</td>\n",
       "      <td>[4]번째 전역 (성균관대)</td>\n",
       "      <td>성균관대</td>\n",
       "      <td>0</td>\n",
       "      <td>99</td>\n",
       "    </tr>\n",
       "    <tr>\n",
       "      <th>6</th>\n",
       "      <td>하행</td>\n",
       "      <td>신창행 - 세마방면 (급행)</td>\n",
       "      <td>병점</td>\n",
       "      <td>급행</td>\n",
       "      <td>신창 (급행)</td>\n",
       "      <td>[15]번째 전역 (가산디지털단지)</td>\n",
       "      <td>가산디지털단지</td>\n",
       "      <td>0</td>\n",
       "      <td>99</td>\n",
       "    </tr>\n",
       "  </tbody>\n",
       "</table>\n",
       "</div>"
      ],
      "text/plain": [
       "  updnLine      trainLineNm statnNm btrainSttus bstatnNm             arvlMsg2   \n",
       "3       하행      서동탄행 - 세마방면      병점          일반      서동탄                전역 도착  \\\n",
       "4       하행  천안행 - 세마방면 (급행)      병점          급행  천안 (급행)        [2]번째 전역 (수원)   \n",
       "5       하행       천안행 - 세마방면      병점          일반       천안      [4]번째 전역 (성균관대)   \n",
       "6       하행  신창행 - 세마방면 (급행)      병점          급행  신창 (급행)  [15]번째 전역 (가산디지털단지)   \n",
       "\n",
       "  arvlMsg3 barvlDt arvlCd  \n",
       "3       세류       0      5  \n",
       "4       수원       0     99  \n",
       "5     성균관대       0     99  \n",
       "6  가산디지털단지       0     99  "
      ]
     },
     "execution_count": 125,
     "metadata": {},
     "output_type": "execute_result"
    }
   ],
   "source": [
    "df2 = df[df.updnLine == '하행']\n",
    "df2"
   ]
  },
  {
   "cell_type": "code",
   "execution_count": 126,
   "metadata": {},
   "outputs": [
    {
     "data": {
      "text/plain": [
       "'수원'"
      ]
     },
     "execution_count": 126,
     "metadata": {},
     "output_type": "execute_result"
    }
   ],
   "source": [
    "temp = input()\n",
    "temp = temp[:-1] if temp[-1] =='역' else temp\n",
    "temp"
   ]
  },
  {
   "cell_type": "code",
   "execution_count": 143,
   "metadata": {},
   "outputs": [],
   "source": [
    "target = input('역명 입력')\n",
    "target = target[:-1] if target[-1] == '역' else target"
   ]
  },
  {
   "cell_type": "code",
   "execution_count": 144,
   "metadata": {},
   "outputs": [
    {
     "name": "stdout",
     "output_type": "stream",
     "text": [
      "b'{\"errorMessage\":{\"status\":200,\"code\":\"INFO-000\",\"message\":\"\\xec\\xa0\\x95\\xec\\x83\\x81 \\xec\\xb2\\x98\\xeb\\xa6\\xac\\xeb\\x90\\x98\\xec\\x97\\x88\\xec\\x8a\\xb5\\xeb\\x8b\\x88\\xeb\\x8b\\xa4.\",\"link\":\"\",\"developerMessage\":\"\",\"total\":7},\"realtimeArrivalList\":[{\"beginRow\":null,\"endRow\":null,\"curPage\":null,\"pageRow\":null,\"totalCount\":7,\"rowNum\":1,\"selectedCount\":7,\"subwayId\":\"1001\",\"subwayNm\":null,\"updnLine\":\"\\xec\\x83\\x81\\xed\\x96\\x89\",\"trainLineNm\":\"\\xea\\xb4\\x91\\xec\\x9a\\xb4\\xeb\\x8c\\x80\\xed\\x96\\x89 - \\xec\\x84\\xb8\\xeb\\xa5\\x98\\xeb\\xb0\\xa9\\xeb\\xa9\\xb4\",\"subwayHeading\":null,\"statnFid\":\"1001080158\",\"statnTid\":\"1001080156\",\"statnId\":\"1001080157\",\"statnNm\":\"\\xeb\\xb3\\x91\\xec\\xa0\\x90\",\"trainCo\":null,\"ordkey\":\"01000\\xea\\xb4\\x91\\xec\\x9a\\xb4\\xeb\\x8c\\x800\",\"subwayList\":\"1001\",\"statnList\":\"1001080157\",\"btrainSttus\":null,\"barvlDt\":\"0\",\"btrainNo\":\"0476\",\"bstatnId\":\"171\",\"bstatnNm\":\"\\xea\\xb4\\x91\\xec\\x9a\\xb4\\xeb\\x8c\\x80\",\"recptnDt\":\"2023-05-16 17:12:45\",\"arvlMsg2\":\"\\xeb\\xb3\\x91\\xec\\xa0\\x90 \\xeb\\x8f\\x84\\xec\\xb0\\xa9\",\"arvlMsg3\":\"\\xeb\\xb3\\x91\\xec\\xa0\\x90\",\"arvlCd\":\"1\"},{\"beginRow\":null,\"endRow\":null,\"curPage\":null,\"pageRow\":null,\"totalCount\":7,\"rowNum\":2,\"selectedCount\":7,\"subwayId\":\"1001\",\"subwayNm\":null,\"updnLine\":\"\\xec\\x83\\x81\\xed\\x96\\x89\",\"trainLineNm\":\"\\xec\\xb2\\xad\\xeb\\x9f\\x89\\xeb\\xa6\\xac\\xed\\x96\\x89 - \\xec\\x84\\xb8\\xeb\\xa5\\x98\\xeb\\xb0\\xa9\\xeb\\xa9\\xb4 (\\xea\\xb8\\x89\\xed\\x96\\x89)\",\"subwayHeading\":null,\"statnFid\":\"1001080158\",\"statnTid\":\"1001080156\",\"statnId\":\"1001080157\",\"statnNm\":\"\\xeb\\xb3\\x91\\xec\\xa0\\x90\",\"trainCo\":null,\"ordkey\":\"01008\\xec\\xb2\\xad\\xeb\\x9f\\x89\\xeb\\xa6\\xac1\",\"subwayList\":\"1001\",\"statnList\":\"1001080157\",\"btrainSttus\":\"\\xea\\xb8\\x89\\xed\\x96\\x89\",\"barvlDt\":\"0\",\"btrainNo\":\"1940\",\"bstatnId\":\"249\",\"bstatnNm\":\"\\xec\\xb2\\xad\\xeb\\x9f\\x89\\xeb\\xa6\\xac (\\xea\\xb8\\x89\\xed\\x96\\x89)\",\"recptnDt\":\"2023-05-16 17:12:39\",\"arvlMsg2\":\"[8]\\xeb\\xb2\\x88\\xec\\xa7\\xb8 \\xec\\xa0\\x84\\xec\\x97\\xad (\\xed\\x8f\\x89\\xed\\x83\\x9d)\",\"arvlMsg3\":\"\\xed\\x8f\\x89\\xed\\x83\\x9d\",\"arvlCd\":\"99\"},{\"beginRow\":null,\"endRow\":null,\"curPage\":null,\"pageRow\":null,\"totalCount\":7,\"rowNum\":3,\"selectedCount\":7,\"subwayId\":\"1001\",\"subwayNm\":null,\"updnLine\":\"\\xec\\x83\\x81\\xed\\x96\\x89\",\"trainLineNm\":\"\\xea\\xb4\\x91\\xec\\x9a\\xb4\\xeb\\x8c\\x80\\xed\\x96\\x89 - \\xec\\x84\\xb8\\xeb\\xa5\\x98\\xeb\\xb0\\xa9\\xeb\\xa9\\xb4\",\"subwayHeading\":null,\"statnFid\":\"1001080158\",\"statnTid\":\"1001080156\",\"statnId\":\"1001080157\",\"statnNm\":\"\\xeb\\xb3\\x91\\xec\\xa0\\x90\",\"trainCo\":null,\"ordkey\":\"02005\\xea\\xb4\\x91\\xec\\x9a\\xb4\\xeb\\x8c\\x800\",\"subwayList\":\"1001\",\"statnList\":\"1001080157\",\"btrainSttus\":null,\"barvlDt\":\"0\",\"btrainNo\":\"0672\",\"bstatnId\":\"171\",\"bstatnNm\":\"\\xea\\xb4\\x91\\xec\\x9a\\xb4\\xeb\\x8c\\x80\",\"recptnDt\":\"2023-05-16 17:12:45\",\"arvlMsg2\":\"[5]\\xeb\\xb2\\x88\\xec\\xa7\\xb8 \\xec\\xa0\\x84\\xec\\x97\\xad (\\xec\\x86\\xa1\\xed\\x83\\x84)\",\"arvlMsg3\":\"\\xec\\x86\\xa1\\xed\\x83\\x84\",\"arvlCd\":\"99\"},{\"beginRow\":null,\"endRow\":null,\"curPage\":null,\"pageRow\":null,\"totalCount\":7,\"rowNum\":4,\"selectedCount\":7,\"subwayId\":\"1001\",\"subwayNm\":null,\"updnLine\":\"\\xed\\x95\\x98\\xed\\x96\\x89\",\"trainLineNm\":\"\\xec\\x84\\x9c\\xeb\\x8f\\x99\\xed\\x83\\x84\\xed\\x96\\x89 - \\xec\\x84\\xb8\\xeb\\xa7\\x88\\xeb\\xb0\\xa9\\xeb\\xa9\\xb4\",\"subwayHeading\":null,\"statnFid\":\"1001080156\",\"statnTid\":\"1001080158\",\"statnId\":\"1001080157\",\"statnNm\":\"\\xeb\\xb3\\x91\\xec\\xa0\\x90\",\"trainCo\":null,\"ordkey\":\"11001\\xec\\x84\\x9c\\xeb\\x8f\\x99\\xed\\x83\\x840\",\"subwayList\":\"1001\",\"statnList\":\"1001080157\",\"btrainSttus\":null,\"barvlDt\":\"0\",\"btrainNo\":\"0469\",\"bstatnId\":\"67\",\"bstatnNm\":\"\\xec\\x84\\x9c\\xeb\\x8f\\x99\\xed\\x83\\x84\",\"recptnDt\":\"2023-05-16 17:13:32\",\"arvlMsg2\":\"\\xec\\xa0\\x84\\xec\\x97\\xad \\xeb\\x8f\\x84\\xec\\xb0\\xa9\",\"arvlMsg3\":\"\\xec\\x84\\xb8\\xeb\\xa5\\x98\",\"arvlCd\":\"5\"},{\"beginRow\":null,\"endRow\":null,\"curPage\":null,\"pageRow\":null,\"totalCount\":7,\"rowNum\":5,\"selectedCount\":7,\"subwayId\":\"1001\",\"subwayNm\":null,\"updnLine\":\"\\xed\\x95\\x98\\xed\\x96\\x89\",\"trainLineNm\":\"\\xec\\xb2\\x9c\\xec\\x95\\x88\\xed\\x96\\x89 - \\xec\\x84\\xb8\\xeb\\xa7\\x88\\xeb\\xb0\\xa9\\xeb\\xa9\\xb4 (\\xea\\xb8\\x89\\xed\\x96\\x89)\",\"subwayHeading\":null,\"statnFid\":\"1001080156\",\"statnTid\":\"1001080158\",\"statnId\":\"1001080157\",\"statnNm\":\"\\xeb\\xb3\\x91\\xec\\xa0\\x90\",\"trainCo\":null,\"ordkey\":\"11002\\xec\\xb2\\x9c\\xec\\x95\\x881\",\"subwayList\":\"1001\",\"statnList\":\"1001080157\",\"btrainSttus\":\"\\xea\\xb8\\x89\\xed\\x96\\x89\",\"barvlDt\":\"0\",\"btrainNo\":\"1937\",\"bstatnId\":\"65\",\"bstatnNm\":\"\\xec\\xb2\\x9c\\xec\\x95\\x88 (\\xea\\xb8\\x89\\xed\\x96\\x89)\",\"recptnDt\":\"2023-05-16 17:15:31\",\"arvlMsg2\":\"[2]\\xeb\\xb2\\x88\\xec\\xa7\\xb8 \\xec\\xa0\\x84\\xec\\x97\\xad (\\xec\\x88\\x98\\xec\\x9b\\x90)\",\"arvlMsg3\":\"\\xec\\x88\\x98\\xec\\x9b\\x90\",\"arvlCd\":\"99\"},{\"beginRow\":null,\"endRow\":null,\"curPage\":null,\"pageRow\":null,\"totalCount\":7,\"rowNum\":6,\"selectedCount\":7,\"subwayId\":\"1001\",\"subwayNm\":null,\"updnLine\":\"\\xed\\x95\\x98\\xed\\x96\\x89\",\"trainLineNm\":\"\\xec\\xb2\\x9c\\xec\\x95\\x88\\xed\\x96\\x89 - \\xec\\x84\\xb8\\xeb\\xa7\\x88\\xeb\\xb0\\xa9\\xeb\\xa9\\xb4\",\"subwayHeading\":null,\"statnFid\":\"1001080156\",\"statnTid\":\"1001080158\",\"statnId\":\"1001080157\",\"statnNm\":\"\\xeb\\xb3\\x91\\xec\\xa0\\x90\",\"trainCo\":null,\"ordkey\":\"12004\\xec\\xb2\\x9c\\xec\\x95\\x880\",\"subwayList\":\"1001\",\"statnList\":\"1001080157\",\"btrainSttus\":null,\"barvlDt\":\"0\",\"btrainNo\":\"0669\",\"bstatnId\":\"67\",\"bstatnNm\":\"\\xec\\xb2\\x9c\\xec\\x95\\x88\",\"recptnDt\":\"2023-05-16 17:13:32\",\"arvlMsg2\":\"[4]\\xeb\\xb2\\x88\\xec\\xa7\\xb8 \\xec\\xa0\\x84\\xec\\x97\\xad (\\xec\\x84\\xb1\\xea\\xb7\\xa0\\xea\\xb4\\x80\\xeb\\x8c\\x80)\",\"arvlMsg3\":\"\\xec\\x84\\xb1\\xea\\xb7\\xa0\\xea\\xb4\\x80\\xeb\\x8c\\x80\",\"arvlCd\":\"99\"},{\"beginRow\":null,\"endRow\":null,\"curPage\":null,\"pageRow\":null,\"totalCount\":7,\"rowNum\":7,\"selectedCount\":7,\"subwayId\":\"1001\",\"subwayNm\":null,\"updnLine\":\"\\xed\\x95\\x98\\xed\\x96\\x89\",\"trainLineNm\":\"\\xec\\x8b\\xa0\\xec\\xb0\\xbd\\xed\\x96\\x89 - \\xec\\x84\\xb8\\xeb\\xa7\\x88\\xeb\\xb0\\xa9\\xeb\\xa9\\xb4 (\\xea\\xb8\\x89\\xed\\x96\\x89)\",\"subwayHeading\":null,\"statnFid\":\"1001080156\",\"statnTid\":\"1001080158\",\"statnId\":\"1001080157\",\"statnNm\":\"\\xeb\\xb3\\x91\\xec\\xa0\\x90\",\"trainCo\":null,\"ordkey\":\"12015\\xec\\x8b\\xa0\\xec\\xb0\\xbd1\",\"subwayList\":\"1001\",\"statnList\":\"1001080157\",\"btrainSttus\":\"\\xea\\xb8\\x89\\xed\\x96\\x89\",\"barvlDt\":\"0\",\"btrainNo\":\"1939\",\"bstatnId\":\"65\",\"bstatnNm\":\"\\xec\\x8b\\xa0\\xec\\xb0\\xbd (\\xea\\xb8\\x89\\xed\\x96\\x89)\",\"recptnDt\":\"2023-05-16 17:15:31\",\"arvlMsg2\":\"[15]\\xeb\\xb2\\x88\\xec\\xa7\\xb8 \\xec\\xa0\\x84\\xec\\x97\\xad (\\xea\\xb0\\x80\\xec\\x82\\xb0\\xeb\\x94\\x94\\xec\\xa7\\x80\\xed\\x84\\xb8\\xeb\\x8b\\xa8\\xec\\xa7\\x80)\",\"arvlMsg3\":\"\\xea\\xb0\\x80\\xec\\x82\\xb0\\xeb\\x94\\x94\\xec\\xa7\\x80\\xed\\x84\\xb8\\xeb\\x8b\\xa8\\xec\\xa7\\x80\",\"arvlCd\":\"99\"}]}'\n"
     ]
    }
   ],
   "source": [
    "base_url = \"http://swopenAPI.seoul.go.kr/api/subway/\"\n",
    "params1 = f\"{info_key}/json/realtimeStationArrival/0/8/\"\n",
    "params2 = quote(target)\n",
    "url = f\"{base_url}{params1}{params2}\"\n",
    "response = requests.get(url)\n",
    "print(response.content)"
   ]
  },
  {
   "cell_type": "code",
   "execution_count": 145,
   "metadata": {},
   "outputs": [],
   "source": [
    "df = pd.DataFrame(res['realtimeArrivalList'])\n",
    "df = df[['updnLine','trainLineNm','statnNm','bstatnNm','arvlMsg2','arvlMsg3','barvlDt','arvlCd']]"
   ]
  },
  {
   "cell_type": "code",
   "execution_count": 146,
   "metadata": {},
   "outputs": [
    {
     "data": {
      "text/html": [
       "<div>\n",
       "<style scoped>\n",
       "    .dataframe tbody tr th:only-of-type {\n",
       "        vertical-align: middle;\n",
       "    }\n",
       "\n",
       "    .dataframe tbody tr th {\n",
       "        vertical-align: top;\n",
       "    }\n",
       "\n",
       "    .dataframe thead th {\n",
       "        text-align: right;\n",
       "    }\n",
       "</style>\n",
       "<table border=\"1\" class=\"dataframe\">\n",
       "  <thead>\n",
       "    <tr style=\"text-align: right;\">\n",
       "      <th></th>\n",
       "      <th>updnLine</th>\n",
       "      <th>trainLineNm</th>\n",
       "      <th>statnNm</th>\n",
       "      <th>bstatnNm</th>\n",
       "      <th>arvlMsg2</th>\n",
       "      <th>arvlMsg3</th>\n",
       "      <th>barvlDt</th>\n",
       "      <th>arvlCd</th>\n",
       "    </tr>\n",
       "  </thead>\n",
       "  <tbody>\n",
       "    <tr>\n",
       "      <th>0</th>\n",
       "      <td>상행</td>\n",
       "      <td>광운대행 - 세류방면</td>\n",
       "      <td>병점</td>\n",
       "      <td>광운대</td>\n",
       "      <td>병점 도착</td>\n",
       "      <td>병점</td>\n",
       "      <td>0</td>\n",
       "      <td>1</td>\n",
       "    </tr>\n",
       "    <tr>\n",
       "      <th>1</th>\n",
       "      <td>상행</td>\n",
       "      <td>청량리행 - 세류방면 (급행)</td>\n",
       "      <td>병점</td>\n",
       "      <td>청량리 (급행)</td>\n",
       "      <td>[8]번째 전역 (평택)</td>\n",
       "      <td>평택</td>\n",
       "      <td>0</td>\n",
       "      <td>99</td>\n",
       "    </tr>\n",
       "    <tr>\n",
       "      <th>2</th>\n",
       "      <td>상행</td>\n",
       "      <td>광운대행 - 세류방면</td>\n",
       "      <td>병점</td>\n",
       "      <td>광운대</td>\n",
       "      <td>[5]번째 전역 (송탄)</td>\n",
       "      <td>송탄</td>\n",
       "      <td>0</td>\n",
       "      <td>99</td>\n",
       "    </tr>\n",
       "    <tr>\n",
       "      <th>3</th>\n",
       "      <td>하행</td>\n",
       "      <td>서동탄행 - 세마방면</td>\n",
       "      <td>병점</td>\n",
       "      <td>서동탄</td>\n",
       "      <td>전역 도착</td>\n",
       "      <td>세류</td>\n",
       "      <td>0</td>\n",
       "      <td>5</td>\n",
       "    </tr>\n",
       "    <tr>\n",
       "      <th>4</th>\n",
       "      <td>하행</td>\n",
       "      <td>천안행 - 세마방면 (급행)</td>\n",
       "      <td>병점</td>\n",
       "      <td>천안 (급행)</td>\n",
       "      <td>[2]번째 전역 (수원)</td>\n",
       "      <td>수원</td>\n",
       "      <td>0</td>\n",
       "      <td>99</td>\n",
       "    </tr>\n",
       "    <tr>\n",
       "      <th>5</th>\n",
       "      <td>하행</td>\n",
       "      <td>천안행 - 세마방면</td>\n",
       "      <td>병점</td>\n",
       "      <td>천안</td>\n",
       "      <td>[4]번째 전역 (성균관대)</td>\n",
       "      <td>성균관대</td>\n",
       "      <td>0</td>\n",
       "      <td>99</td>\n",
       "    </tr>\n",
       "    <tr>\n",
       "      <th>6</th>\n",
       "      <td>하행</td>\n",
       "      <td>신창행 - 세마방면 (급행)</td>\n",
       "      <td>병점</td>\n",
       "      <td>신창 (급행)</td>\n",
       "      <td>[15]번째 전역 (가산디지털단지)</td>\n",
       "      <td>가산디지털단지</td>\n",
       "      <td>0</td>\n",
       "      <td>99</td>\n",
       "    </tr>\n",
       "  </tbody>\n",
       "</table>\n",
       "</div>"
      ],
      "text/plain": [
       "  updnLine       trainLineNm statnNm  bstatnNm             arvlMsg2 arvlMsg3   \n",
       "0       상행       광운대행 - 세류방면      병점       광운대                병점 도착       병점  \\\n",
       "1       상행  청량리행 - 세류방면 (급행)      병점  청량리 (급행)        [8]번째 전역 (평택)       평택   \n",
       "2       상행       광운대행 - 세류방면      병점       광운대        [5]번째 전역 (송탄)       송탄   \n",
       "3       하행       서동탄행 - 세마방면      병점       서동탄                전역 도착       세류   \n",
       "4       하행   천안행 - 세마방면 (급행)      병점   천안 (급행)        [2]번째 전역 (수원)       수원   \n",
       "5       하행        천안행 - 세마방면      병점        천안      [4]번째 전역 (성균관대)     성균관대   \n",
       "6       하행   신창행 - 세마방면 (급행)      병점   신창 (급행)  [15]번째 전역 (가산디지털단지)  가산디지털단지   \n",
       "\n",
       "  barvlDt arvlCd  \n",
       "0       0      1  \n",
       "1       0     99  \n",
       "2       0     99  \n",
       "3       0      5  \n",
       "4       0     99  \n",
       "5       0     99  \n",
       "6       0     99  "
      ]
     },
     "execution_count": 146,
     "metadata": {},
     "output_type": "execute_result"
    }
   ],
   "source": [
    "df"
   ]
  },
  {
   "cell_type": "code",
   "execution_count": 131,
   "metadata": {},
   "outputs": [],
   "source": [
    "# 상행 하행 따로 보여줌\n",
    "# folium marker로 지하철역 찝기(전,후 다른 마커)\n"
   ]
  },
  {
   "cell_type": "code",
   "execution_count": 147,
   "metadata": {},
   "outputs": [
    {
     "data": {
      "text/html": [
       "<div>\n",
       "<style scoped>\n",
       "    .dataframe tbody tr th:only-of-type {\n",
       "        vertical-align: middle;\n",
       "    }\n",
       "\n",
       "    .dataframe tbody tr th {\n",
       "        vertical-align: top;\n",
       "    }\n",
       "\n",
       "    .dataframe thead th {\n",
       "        text-align: right;\n",
       "    }\n",
       "</style>\n",
       "<table border=\"1\" class=\"dataframe\">\n",
       "  <thead>\n",
       "    <tr style=\"text-align: right;\">\n",
       "      <th></th>\n",
       "      <th>역명</th>\n",
       "      <th>도로명주소</th>\n",
       "    </tr>\n",
       "  </thead>\n",
       "  <tbody>\n",
       "    <tr>\n",
       "      <th>0</th>\n",
       "      <td>가능</td>\n",
       "      <td>경기도 의정부시 평화로 633</td>\n",
       "    </tr>\n",
       "    <tr>\n",
       "      <th>1</th>\n",
       "      <td>가산디지털단지</td>\n",
       "      <td>서울특별시 금천구 벚꽃로 309</td>\n",
       "    </tr>\n",
       "    <tr>\n",
       "      <th>2</th>\n",
       "      <td>간석</td>\n",
       "      <td>인천광역시 남동구 석정로 522-14</td>\n",
       "    </tr>\n",
       "    <tr>\n",
       "      <th>3</th>\n",
       "      <td>개봉</td>\n",
       "      <td>서울특별시 구로구 경인로40길 47</td>\n",
       "    </tr>\n",
       "    <tr>\n",
       "      <th>4</th>\n",
       "      <td>관악</td>\n",
       "      <td>경기도 안양시 만안구 경수대로1273번길 46</td>\n",
       "    </tr>\n",
       "  </tbody>\n",
       "</table>\n",
       "</div>"
      ],
      "text/plain": [
       "        역명                      도로명주소\n",
       "0       가능           경기도 의정부시 평화로 633\n",
       "1  가산디지털단지          서울특별시 금천구 벚꽃로 309\n",
       "2       간석       인천광역시 남동구 석정로 522-14\n",
       "3       개봉        서울특별시 구로구 경인로40길 47\n",
       "4       관악  경기도 안양시 만안구 경수대로1273번길 46"
      ]
     },
     "execution_count": 147,
     "metadata": {},
     "output_type": "execute_result"
    }
   ],
   "source": [
    "# 처음에 한번 실행될 부분\n",
    "df_st = pd.read_csv('data/St_addr_20221122.csv',encoding='euc-kr')\n",
    "df_st = df_st[['역명','도로명주소']]\n",
    "df_st.head()"
   ]
  },
  {
   "cell_type": "code",
   "execution_count": 148,
   "metadata": {},
   "outputs": [
    {
     "data": {
      "text/plain": [
       "35    경기도 화성시 떡전골로 97\n",
       "Name: 도로명주소, dtype: object"
      ]
     },
     "execution_count": 148,
     "metadata": {},
     "output_type": "execute_result"
    }
   ],
   "source": [
    "temp = df_st[df_st.역명 == target].도로명주소\n",
    "temp"
   ]
  },
  {
   "cell_type": "code",
   "execution_count": 149,
   "metadata": {},
   "outputs": [
    {
     "data": {
      "text/plain": [
       "'경기도 화성시 떡전골로 97'"
      ]
     },
     "execution_count": 149,
     "metadata": {},
     "output_type": "execute_result"
    }
   ],
   "source": [
    "str_addr = df_st[df_st.역명 == target].도로명주소.values[-1]\n",
    "str_addr.strip()\n"
   ]
  },
  {
   "cell_type": "code",
   "execution_count": 150,
   "metadata": {},
   "outputs": [
    {
     "data": {
      "text/html": [
       "<div>\n",
       "<style scoped>\n",
       "    .dataframe tbody tr th:only-of-type {\n",
       "        vertical-align: middle;\n",
       "    }\n",
       "\n",
       "    .dataframe tbody tr th {\n",
       "        vertical-align: top;\n",
       "    }\n",
       "\n",
       "    .dataframe thead th {\n",
       "        text-align: right;\n",
       "    }\n",
       "</style>\n",
       "<table border=\"1\" class=\"dataframe\">\n",
       "  <thead>\n",
       "    <tr style=\"text-align: right;\">\n",
       "      <th></th>\n",
       "      <th>updnLine</th>\n",
       "      <th>trainLineNm</th>\n",
       "      <th>statnNm</th>\n",
       "      <th>bstatnNm</th>\n",
       "      <th>arvlMsg2</th>\n",
       "      <th>arvlMsg3</th>\n",
       "      <th>barvlDt</th>\n",
       "      <th>arvlCd</th>\n",
       "    </tr>\n",
       "  </thead>\n",
       "  <tbody>\n",
       "    <tr>\n",
       "      <th>0</th>\n",
       "      <td>상행</td>\n",
       "      <td>광운대행 - 세류방면</td>\n",
       "      <td>병점</td>\n",
       "      <td>광운대</td>\n",
       "      <td>병점 도착</td>\n",
       "      <td>병점</td>\n",
       "      <td>0</td>\n",
       "      <td>1</td>\n",
       "    </tr>\n",
       "    <tr>\n",
       "      <th>1</th>\n",
       "      <td>상행</td>\n",
       "      <td>청량리행 - 세류방면 (급행)</td>\n",
       "      <td>병점</td>\n",
       "      <td>청량리 (급행)</td>\n",
       "      <td>[8]번째 전역 (평택)</td>\n",
       "      <td>평택</td>\n",
       "      <td>0</td>\n",
       "      <td>99</td>\n",
       "    </tr>\n",
       "    <tr>\n",
       "      <th>2</th>\n",
       "      <td>상행</td>\n",
       "      <td>광운대행 - 세류방면</td>\n",
       "      <td>병점</td>\n",
       "      <td>광운대</td>\n",
       "      <td>[5]번째 전역 (송탄)</td>\n",
       "      <td>송탄</td>\n",
       "      <td>0</td>\n",
       "      <td>99</td>\n",
       "    </tr>\n",
       "  </tbody>\n",
       "</table>\n",
       "</div>"
      ],
      "text/plain": [
       "  updnLine       trainLineNm statnNm  bstatnNm       arvlMsg2 arvlMsg3   \n",
       "0       상행       광운대행 - 세류방면      병점       광운대          병점 도착       병점  \\\n",
       "1       상행  청량리행 - 세류방면 (급행)      병점  청량리 (급행)  [8]번째 전역 (평택)       평택   \n",
       "2       상행       광운대행 - 세류방면      병점       광운대  [5]번째 전역 (송탄)       송탄   \n",
       "\n",
       "  barvlDt arvlCd  \n",
       "0       0      1  \n",
       "1       0     99  \n",
       "2       0     99  "
      ]
     },
     "execution_count": 150,
     "metadata": {},
     "output_type": "execute_result"
    }
   ],
   "source": [
    "df1 = df[df.updnLine == '상행']\n",
    "df1 = df1.reset_index(drop=True)\n",
    "df1"
   ]
  },
  {
   "cell_type": "code",
   "execution_count": 151,
   "metadata": {},
   "outputs": [
    {
     "data": {
      "text/html": [
       "<div>\n",
       "<style scoped>\n",
       "    .dataframe tbody tr th:only-of-type {\n",
       "        vertical-align: middle;\n",
       "    }\n",
       "\n",
       "    .dataframe tbody tr th {\n",
       "        vertical-align: top;\n",
       "    }\n",
       "\n",
       "    .dataframe thead th {\n",
       "        text-align: right;\n",
       "    }\n",
       "</style>\n",
       "<table border=\"1\" class=\"dataframe\">\n",
       "  <thead>\n",
       "    <tr style=\"text-align: right;\">\n",
       "      <th></th>\n",
       "      <th>updnLine</th>\n",
       "      <th>trainLineNm</th>\n",
       "      <th>statnNm</th>\n",
       "      <th>bstatnNm</th>\n",
       "      <th>arvlMsg2</th>\n",
       "      <th>arvlMsg3</th>\n",
       "      <th>barvlDt</th>\n",
       "      <th>arvlCd</th>\n",
       "    </tr>\n",
       "  </thead>\n",
       "  <tbody>\n",
       "    <tr>\n",
       "      <th>0</th>\n",
       "      <td>하행</td>\n",
       "      <td>서동탄행 - 세마방면</td>\n",
       "      <td>병점</td>\n",
       "      <td>서동탄</td>\n",
       "      <td>전역 도착</td>\n",
       "      <td>세류</td>\n",
       "      <td>0</td>\n",
       "      <td>5</td>\n",
       "    </tr>\n",
       "    <tr>\n",
       "      <th>1</th>\n",
       "      <td>하행</td>\n",
       "      <td>천안행 - 세마방면 (급행)</td>\n",
       "      <td>병점</td>\n",
       "      <td>천안 (급행)</td>\n",
       "      <td>[2]번째 전역 (수원)</td>\n",
       "      <td>수원</td>\n",
       "      <td>0</td>\n",
       "      <td>99</td>\n",
       "    </tr>\n",
       "    <tr>\n",
       "      <th>2</th>\n",
       "      <td>하행</td>\n",
       "      <td>천안행 - 세마방면</td>\n",
       "      <td>병점</td>\n",
       "      <td>천안</td>\n",
       "      <td>[4]번째 전역 (성균관대)</td>\n",
       "      <td>성균관대</td>\n",
       "      <td>0</td>\n",
       "      <td>99</td>\n",
       "    </tr>\n",
       "    <tr>\n",
       "      <th>3</th>\n",
       "      <td>하행</td>\n",
       "      <td>신창행 - 세마방면 (급행)</td>\n",
       "      <td>병점</td>\n",
       "      <td>신창 (급행)</td>\n",
       "      <td>[15]번째 전역 (가산디지털단지)</td>\n",
       "      <td>가산디지털단지</td>\n",
       "      <td>0</td>\n",
       "      <td>99</td>\n",
       "    </tr>\n",
       "  </tbody>\n",
       "</table>\n",
       "</div>"
      ],
      "text/plain": [
       "  updnLine      trainLineNm statnNm bstatnNm             arvlMsg2 arvlMsg3   \n",
       "0       하행      서동탄행 - 세마방면      병점      서동탄                전역 도착       세류  \\\n",
       "1       하행  천안행 - 세마방면 (급행)      병점  천안 (급행)        [2]번째 전역 (수원)       수원   \n",
       "2       하행       천안행 - 세마방면      병점       천안      [4]번째 전역 (성균관대)     성균관대   \n",
       "3       하행  신창행 - 세마방면 (급행)      병점  신창 (급행)  [15]번째 전역 (가산디지털단지)  가산디지털단지   \n",
       "\n",
       "  barvlDt arvlCd  \n",
       "0       0      5  \n",
       "1       0     99  \n",
       "2       0     99  \n",
       "3       0     99  "
      ]
     },
     "execution_count": 151,
     "metadata": {},
     "output_type": "execute_result"
    }
   ],
   "source": [
    "df2 = df[df.updnLine == '하행']\n",
    "df2 = df2.reset_index(drop=True)\n",
    "df2"
   ]
  },
  {
   "cell_type": "code",
   "execution_count": 152,
   "metadata": {},
   "outputs": [
    {
     "data": {
      "text/plain": [
       "'평택'"
      ]
     },
     "execution_count": 152,
     "metadata": {},
     "output_type": "execute_result"
    }
   ],
   "source": [
    "df1.arvlMsg3[1].strip()"
   ]
  },
  {
   "cell_type": "code",
   "execution_count": 165,
   "metadata": {},
   "outputs": [
    {
     "data": {
      "text/plain": [
       "array(['병점', '평택', '송탄'], dtype=object)"
      ]
     },
     "execution_count": 165,
     "metadata": {},
     "output_type": "execute_result"
    }
   ],
   "source": [
    "bstn_up_list = df1.arvlMsg3.values\n",
    "bstn_up_list"
   ]
  },
  {
   "cell_type": "code",
   "execution_count": 166,
   "metadata": {},
   "outputs": [
    {
     "data": {
      "text/plain": [
       "array(['세류', '수원', '성균관대', '가산디지털단지'], dtype=object)"
      ]
     },
     "execution_count": 166,
     "metadata": {},
     "output_type": "execute_result"
    }
   ],
   "source": [
    "bstn_dn_list = df2.arvlMsg3.values\n",
    "bstn_dn_list"
   ]
  },
  {
   "cell_type": "code",
   "execution_count": 163,
   "metadata": {},
   "outputs": [
    {
     "name": "stdout",
     "output_type": "stream",
     "text": [
      "병점\n",
      "평택\n",
      "송탄\n"
     ]
    }
   ],
   "source": [
    "# 함수로 쓸때 return bst\n",
    "# for i,bst in enumerate(bstn_up_list):\n",
    "#     try:\n",
    "#         bst = df1.arvlMsg3[i].strip()\n",
    "#         print(bst)\n",
    "#     except:\n",
    "#         bst = None"
   ]
  },
  {
   "cell_type": "code",
   "execution_count": 162,
   "metadata": {},
   "outputs": [
    {
     "name": "stdout",
     "output_type": "stream",
     "text": [
      "세류\n",
      "수원\n",
      "성균관대\n",
      "가산디지털단지\n"
     ]
    }
   ],
   "source": [
    "# for i,bst in enumerate(bstn_dn_list):\n",
    "#     try:\n",
    "#         bst = df2.arvlMsg3[i].strip()\n",
    "#         print(bst)\n",
    "#     except:\n",
    "#         bst = None"
   ]
  },
  {
   "cell_type": "code",
   "execution_count": 168,
   "metadata": {},
   "outputs": [
    {
     "name": "stdout",
     "output_type": "stream",
     "text": [
      "병점\t병점 도착\n",
      "평택\t[8]번째 전역 (평택)\n",
      "송탄\t[5]번째 전역 (송탄)\n"
     ]
    }
   ],
   "source": [
    "# 함수로 만들어서 쓸땐 변수자리에 return\n",
    "for i in df1.index:\n",
    "    try:\n",
    "        bst = df1.arvlMsg3[i].strip()\n",
    "        msg = df1.arvlMsg2[i].strip()\n",
    "        print(f'{bst}\\t{msg}')\n",
    "    except:\n",
    "        bst = None"
   ]
  },
  {
   "cell_type": "code",
   "execution_count": 169,
   "metadata": {},
   "outputs": [
    {
     "name": "stdout",
     "output_type": "stream",
     "text": [
      "세류\t전역 도착\n",
      "수원\t[2]번째 전역 (수원)\n",
      "성균관대\t[4]번째 전역 (성균관대)\n",
      "가산디지털단지\t[15]번째 전역 (가산디지털단지)\n"
     ]
    }
   ],
   "source": [
    "for i in df2.index:\n",
    "    try:\n",
    "        bst = df2.arvlMsg3[i].strip()\n",
    "        msg = df2.arvlMsg2[i].strip()\n",
    "        print(f'{bst}\\t{msg}')\n",
    "    except:\n",
    "        bst = None"
   ]
  },
  {
   "cell_type": "code",
   "execution_count": 142,
   "metadata": {},
   "outputs": [],
   "source": [
    "# bst_up_addr_list = bstn_up_list\n",
    "# for bst in bstn_up_list:\n",
    "#     print(bst.values)\n",
    "# str_addr = df_st[df_st.역명 == target].도로명주소.values[-1]\n",
    "# str_addr.strip()"
   ]
  },
  {
   "cell_type": "code",
   "execution_count": null,
   "metadata": {},
   "outputs": [],
   "source": []
  }
 ],
 "metadata": {
  "kernelspec": {
   "display_name": "base",
   "language": "python",
   "name": "python3"
  },
  "language_info": {
   "codemirror_mode": {
    "name": "ipython",
    "version": 3
   },
   "file_extension": ".py",
   "mimetype": "text/x-python",
   "name": "python",
   "nbconvert_exporter": "python",
   "pygments_lexer": "ipython3",
   "version": "3.10.10"
  },
  "orig_nbformat": 4
 },
 "nbformat": 4,
 "nbformat_minor": 2
}
