{
 "cells": [
  {
   "cell_type": "code",
   "execution_count": 1,
   "metadata": {},
   "outputs": [],
   "source": [
    "import requests,json,datetime\n",
    "from urllib.parse import quote \n",
    "import pandas as pd\n",
    "import numpy as np"
   ]
  },
  {
   "cell_type": "code",
   "execution_count": 2,
   "metadata": {},
   "outputs": [],
   "source": [
    "with open('data/sub_arr_info_key.txt') as f:\n",
    "    info_key = f.read()"
   ]
  },
  {
   "cell_type": "code",
   "execution_count": 3,
   "metadata": {},
   "outputs": [
    {
     "data": {
      "text/plain": [
       "30"
      ]
     },
     "execution_count": 3,
     "metadata": {},
     "output_type": "execute_result"
    }
   ],
   "source": [
    "len(info_key)"
   ]
  },
  {
   "cell_type": "code",
   "execution_count": 4,
   "metadata": {},
   "outputs": [],
   "source": [
    "# now = datetime.datetime.now()\n",
    "# date = now.strftime('%Y%m%d')\n",
    "# date"
   ]
  },
  {
   "cell_type": "code",
   "execution_count": 5,
   "metadata": {},
   "outputs": [],
   "source": [
    "# url = \"http://openapi.seoul.go.kr:8088/인증키/json/realtimeStationArrival/0/5/20220301(yyyymmdd)\"\n"
   ]
  },
  {
   "cell_type": "code",
   "execution_count": 12,
   "metadata": {},
   "outputs": [
    {
     "name": "stdout",
     "output_type": "stream",
     "text": [
      "b'{\"errorMessage\":{\"status\":200,\"code\":\"INFO-000\",\"message\":\"\\xec\\xa0\\x95\\xec\\x83\\x81 \\xec\\xb2\\x98\\xeb\\xa6\\xac\\xeb\\x90\\x98\\xec\\x97\\x88\\xec\\x8a\\xb5\\xeb\\x8b\\x88\\xeb\\x8b\\xa4.\",\"link\":\"\",\"developerMessage\":\"\",\"total\":7},\"realtimeArrivalList\":[{\"beginRow\":null,\"endRow\":null,\"curPage\":null,\"pageRow\":null,\"totalCount\":7,\"rowNum\":1,\"selectedCount\":5,\"subwayId\":\"1001\",\"subwayNm\":null,\"updnLine\":\"\\xec\\x83\\x81\\xed\\x96\\x89\",\"trainLineNm\":\"\\xea\\xb4\\x91\\xec\\x9a\\xb4\\xeb\\x8c\\x80\\xed\\x96\\x89 - \\xec\\x84\\xb8\\xeb\\xa5\\x98\\xeb\\xb0\\xa9\\xeb\\xa9\\xb4\",\"subwayHeading\":null,\"statnFid\":\"1001080158\",\"statnTid\":\"1001080156\",\"statnId\":\"1001080157\",\"statnNm\":\"\\xeb\\xb3\\x91\\xec\\xa0\\x90\",\"trainCo\":null,\"ordkey\":\"01002\\xea\\xb4\\x91\\xec\\x9a\\xb4\\xeb\\x8c\\x800\",\"subwayList\":\"1001\",\"statnList\":\"1001080157\",\"btrainSttus\":null,\"barvlDt\":\"0\",\"btrainNo\":\"0672\",\"bstatnId\":\"171\",\"bstatnNm\":\"\\xea\\xb4\\x91\\xec\\x9a\\xb4\\xeb\\x8c\\x80\",\"recptnDt\":\"2023-05-11 17:23:22\",\"arvlMsg2\":\"[2]\\xeb\\xb2\\x88\\xec\\xa7\\xb8 \\xec\\xa0\\x84\\xec\\x97\\xad (\\xec\\x98\\xa4\\xec\\x82\\xb0\\xeb\\x8c\\x80)\",\"arvlMsg3\":\"\\xec\\x98\\xa4\\xec\\x82\\xb0\\xeb\\x8c\\x80\",\"arvlCd\":\"99\"},{\"beginRow\":null,\"endRow\":null,\"curPage\":null,\"pageRow\":null,\"totalCount\":7,\"rowNum\":2,\"selectedCount\":5,\"subwayId\":\"1001\",\"subwayNm\":null,\"updnLine\":\"\\xec\\x83\\x81\\xed\\x96\\x89\",\"trainLineNm\":\"\\xec\\xb2\\xad\\xeb\\x9f\\x89\\xeb\\xa6\\xac\\xed\\x96\\x89 - \\xec\\x84\\xb8\\xeb\\xa5\\x98\\xeb\\xb0\\xa9\\xeb\\xa9\\xb4 (\\xea\\xb8\\x89\\xed\\x96\\x89)\",\"subwayHeading\":null,\"statnFid\":\"1001080158\",\"statnTid\":\"1001080156\",\"statnId\":\"1001080157\",\"statnNm\":\"\\xeb\\xb3\\x91\\xec\\xa0\\x90\",\"trainCo\":null,\"ordkey\":\"01006\\xec\\xb2\\xad\\xeb\\x9f\\x89\\xeb\\xa6\\xac1\",\"subwayList\":\"1001\",\"statnList\":\"1001080157\",\"btrainSttus\":\"\\xea\\xb8\\x89\\xed\\x96\\x89\",\"barvlDt\":\"0\",\"btrainNo\":\"1940\",\"bstatnId\":\"249\",\"bstatnNm\":\"\\xec\\xb2\\xad\\xeb\\x9f\\x89\\xeb\\xa6\\xac (\\xea\\xb8\\x89\\xed\\x96\\x89)\",\"recptnDt\":\"2023-05-11 17:20:17\",\"arvlMsg2\":\"[6]\\xeb\\xb2\\x88\\xec\\xa7\\xb8 \\xec\\xa0\\x84\\xec\\x97\\xad (\\xec\\x84\\x9c\\xec\\xa0\\x95\\xeb\\xa6\\xac)\",\"arvlMsg3\":\"\\xec\\x84\\x9c\\xec\\xa0\\x95\\xeb\\xa6\\xac\",\"arvlCd\":\"99\"},{\"beginRow\":null,\"endRow\":null,\"curPage\":null,\"pageRow\":null,\"totalCount\":7,\"rowNum\":3,\"selectedCount\":5,\"subwayId\":\"1001\",\"subwayNm\":null,\"updnLine\":\"\\xec\\x83\\x81\\xed\\x96\\x89\",\"trainLineNm\":\"\\xea\\xb4\\x91\\xec\\x9a\\xb4\\xeb\\x8c\\x80\\xed\\x96\\x89 - \\xec\\x84\\xb8\\xeb\\xa5\\x98\\xeb\\xb0\\xa9\\xeb\\xa9\\xb4\",\"subwayHeading\":null,\"statnFid\":\"1001080158\",\"statnTid\":\"1001080156\",\"statnId\":\"1001080157\",\"statnNm\":\"\\xeb\\xb3\\x91\\xec\\xa0\\x90\",\"trainCo\":null,\"ordkey\":\"02008\\xea\\xb4\\x91\\xec\\x9a\\xb4\\xeb\\x8c\\x800\",\"subwayList\":\"1001\",\"statnList\":\"1001080157\",\"btrainSttus\":null,\"barvlDt\":\"0\",\"btrainNo\":\"0674\",\"bstatnId\":\"171\",\"bstatnNm\":\"\\xea\\xb4\\x91\\xec\\x9a\\xb4\\xeb\\x8c\\x80\",\"recptnDt\":\"2023-05-11 17:23:22\",\"arvlMsg2\":\"[8]\\xeb\\xb2\\x88\\xec\\xa7\\xb8 \\xec\\xa0\\x84\\xec\\x97\\xad (\\xed\\x8f\\x89\\xed\\x83\\x9d)\",\"arvlMsg3\":\"\\xed\\x8f\\x89\\xed\\x83\\x9d\",\"arvlCd\":\"99\"},{\"beginRow\":null,\"endRow\":null,\"curPage\":null,\"pageRow\":null,\"totalCount\":7,\"rowNum\":4,\"selectedCount\":5,\"subwayId\":\"1001\",\"subwayNm\":null,\"updnLine\":\"\\xed\\x95\\x98\\xed\\x96\\x89\",\"trainLineNm\":\"\\xec\\xb2\\x9c\\xec\\x95\\x88\\xed\\x96\\x89 - \\xec\\x84\\xb8\\xeb\\xa7\\x88\\xeb\\xb0\\xa9\\xeb\\xa9\\xb4\",\"subwayHeading\":null,\"statnFid\":\"1001080156\",\"statnTid\":\"1001080158\",\"statnId\":\"1001080157\",\"statnNm\":\"\\xeb\\xb3\\x91\\xec\\xa0\\x90\",\"trainCo\":null,\"ordkey\":\"11000\\xec\\xb2\\x9c\\xec\\x95\\x880\",\"subwayList\":\"1001\",\"statnList\":\"1001080157\",\"btrainSttus\":null,\"barvlDt\":\"0\",\"btrainNo\":\"0669\",\"bstatnId\":\"65\",\"bstatnNm\":\"\\xec\\xb2\\x9c\\xec\\x95\\x88\",\"recptnDt\":\"2023-05-11 17:23:42\",\"arvlMsg2\":\"\\xeb\\xb3\\x91\\xec\\xa0\\x90 \\xeb\\x8f\\x84\\xec\\xb0\\xa9\",\"arvlMsg3\":\"\\xeb\\xb3\\x91\\xec\\xa0\\x90\",\"arvlCd\":\"1\"},{\"beginRow\":null,\"endRow\":null,\"curPage\":null,\"pageRow\":null,\"totalCount\":7,\"rowNum\":5,\"selectedCount\":5,\"subwayId\":\"1001\",\"subwayNm\":null,\"updnLine\":\"\\xed\\x95\\x98\\xed\\x96\\x89\",\"trainLineNm\":\"\\xec\\xb2\\x9c\\xec\\x95\\x88\\xed\\x96\\x89 - \\xec\\x84\\xb8\\xeb\\xa7\\x88\\xeb\\xb0\\xa9\\xeb\\xa9\\xb4 (\\xea\\xb8\\x89\\xed\\x96\\x89)\",\"subwayHeading\":null,\"statnFid\":\"1001080156\",\"statnTid\":\"1001080158\",\"statnId\":\"1001080157\",\"statnNm\":\"\\xeb\\xb3\\x91\\xec\\xa0\\x90\",\"trainCo\":null,\"ordkey\":\"11000\\xec\\xb2\\x9c\\xec\\x95\\x881\",\"subwayList\":\"1001\",\"statnList\":\"1001080157\",\"btrainSttus\":\"\\xea\\xb8\\x89\\xed\\x96\\x89\",\"barvlDt\":\"0\",\"btrainNo\":\"1937\",\"bstatnId\":\"65\",\"bstatnNm\":\"\\xec\\xb2\\x9c\\xec\\x95\\x88 (\\xea\\xb8\\x89\\xed\\x96\\x89)\",\"recptnDt\":\"2023-05-11 17:18:35\",\"arvlMsg2\":\"\\xeb\\xb3\\x91\\xec\\xa0\\x90 \\xeb\\x8f\\x84\\xec\\xb0\\xa9\",\"arvlMsg3\":\"\\xeb\\xb3\\x91\\xec\\xa0\\x90\",\"arvlCd\":\"1\"}]}'\n"
     ]
    }
   ],
   "source": [
    "base_url = \"http://swopenAPI.seoul.go.kr/api/subway/\"\n",
    "params1 = f\"{info_key}/json/realtimeStationArrival/0/6/\"\n",
    "# params2 = f\"{date}\"\n",
    "params2 = quote('병점')\n",
    "url = f\"{base_url}{params1}{params2}\"\n",
    "response = requests.get(url)\n",
    "print(response.content)\n"
   ]
  },
  {
   "cell_type": "code",
   "execution_count": 13,
   "metadata": {},
   "outputs": [
    {
     "data": {
      "text/plain": [
       "200"
      ]
     },
     "execution_count": 13,
     "metadata": {},
     "output_type": "execute_result"
    }
   ],
   "source": [
    "response.status_code"
   ]
  },
  {
   "cell_type": "code",
   "execution_count": 14,
   "metadata": {},
   "outputs": [
    {
     "data": {
      "text/plain": [
       "{'errorMessage': {'status': 200,\n",
       "  'code': 'INFO-000',\n",
       "  'message': '정상 처리되었습니다.',\n",
       "  'link': '',\n",
       "  'developerMessage': '',\n",
       "  'total': 7},\n",
       " 'realtimeArrivalList': [{'beginRow': None,\n",
       "   'endRow': None,\n",
       "   'curPage': None,\n",
       "   'pageRow': None,\n",
       "   'totalCount': 7,\n",
       "   'rowNum': 1,\n",
       "   'selectedCount': 5,\n",
       "   'subwayId': '1001',\n",
       "   'subwayNm': None,\n",
       "   'updnLine': '상행',\n",
       "   'trainLineNm': '광운대행 - 세류방면',\n",
       "   'subwayHeading': None,\n",
       "   'statnFid': '1001080158',\n",
       "   'statnTid': '1001080156',\n",
       "   'statnId': '1001080157',\n",
       "   'statnNm': '병점',\n",
       "   'trainCo': None,\n",
       "   'ordkey': '01002광운대0',\n",
       "   'subwayList': '1001',\n",
       "   'statnList': '1001080157',\n",
       "   'btrainSttus': None,\n",
       "   'barvlDt': '0',\n",
       "   'btrainNo': '0672',\n",
       "   'bstatnId': '171',\n",
       "   'bstatnNm': '광운대',\n",
       "   'recptnDt': '2023-05-11 17:23:22',\n",
       "   'arvlMsg2': '[2]번째 전역 (오산대)',\n",
       "   'arvlMsg3': '오산대',\n",
       "   'arvlCd': '99'},\n",
       "  {'beginRow': None,\n",
       "   'endRow': None,\n",
       "   'curPage': None,\n",
       "   'pageRow': None,\n",
       "   'totalCount': 7,\n",
       "   'rowNum': 2,\n",
       "   'selectedCount': 5,\n",
       "   'subwayId': '1001',\n",
       "   'subwayNm': None,\n",
       "   'updnLine': '상행',\n",
       "   'trainLineNm': '청량리행 - 세류방면 (급행)',\n",
       "   'subwayHeading': None,\n",
       "   'statnFid': '1001080158',\n",
       "   'statnTid': '1001080156',\n",
       "   'statnId': '1001080157',\n",
       "   'statnNm': '병점',\n",
       "   'trainCo': None,\n",
       "   'ordkey': '01006청량리1',\n",
       "   'subwayList': '1001',\n",
       "   'statnList': '1001080157',\n",
       "   'btrainSttus': '급행',\n",
       "   'barvlDt': '0',\n",
       "   'btrainNo': '1940',\n",
       "   'bstatnId': '249',\n",
       "   'bstatnNm': '청량리 (급행)',\n",
       "   'recptnDt': '2023-05-11 17:20:17',\n",
       "   'arvlMsg2': '[6]번째 전역 (서정리)',\n",
       "   'arvlMsg3': '서정리',\n",
       "   'arvlCd': '99'},\n",
       "  {'beginRow': None,\n",
       "   'endRow': None,\n",
       "   'curPage': None,\n",
       "   'pageRow': None,\n",
       "   'totalCount': 7,\n",
       "   'rowNum': 3,\n",
       "   'selectedCount': 5,\n",
       "   'subwayId': '1001',\n",
       "   'subwayNm': None,\n",
       "   'updnLine': '상행',\n",
       "   'trainLineNm': '광운대행 - 세류방면',\n",
       "   'subwayHeading': None,\n",
       "   'statnFid': '1001080158',\n",
       "   'statnTid': '1001080156',\n",
       "   'statnId': '1001080157',\n",
       "   'statnNm': '병점',\n",
       "   'trainCo': None,\n",
       "   'ordkey': '02008광운대0',\n",
       "   'subwayList': '1001',\n",
       "   'statnList': '1001080157',\n",
       "   'btrainSttus': None,\n",
       "   'barvlDt': '0',\n",
       "   'btrainNo': '0674',\n",
       "   'bstatnId': '171',\n",
       "   'bstatnNm': '광운대',\n",
       "   'recptnDt': '2023-05-11 17:23:22',\n",
       "   'arvlMsg2': '[8]번째 전역 (평택)',\n",
       "   'arvlMsg3': '평택',\n",
       "   'arvlCd': '99'},\n",
       "  {'beginRow': None,\n",
       "   'endRow': None,\n",
       "   'curPage': None,\n",
       "   'pageRow': None,\n",
       "   'totalCount': 7,\n",
       "   'rowNum': 4,\n",
       "   'selectedCount': 5,\n",
       "   'subwayId': '1001',\n",
       "   'subwayNm': None,\n",
       "   'updnLine': '하행',\n",
       "   'trainLineNm': '천안행 - 세마방면',\n",
       "   'subwayHeading': None,\n",
       "   'statnFid': '1001080156',\n",
       "   'statnTid': '1001080158',\n",
       "   'statnId': '1001080157',\n",
       "   'statnNm': '병점',\n",
       "   'trainCo': None,\n",
       "   'ordkey': '11000천안0',\n",
       "   'subwayList': '1001',\n",
       "   'statnList': '1001080157',\n",
       "   'btrainSttus': None,\n",
       "   'barvlDt': '0',\n",
       "   'btrainNo': '0669',\n",
       "   'bstatnId': '65',\n",
       "   'bstatnNm': '천안',\n",
       "   'recptnDt': '2023-05-11 17:23:42',\n",
       "   'arvlMsg2': '병점 도착',\n",
       "   'arvlMsg3': '병점',\n",
       "   'arvlCd': '1'},\n",
       "  {'beginRow': None,\n",
       "   'endRow': None,\n",
       "   'curPage': None,\n",
       "   'pageRow': None,\n",
       "   'totalCount': 7,\n",
       "   'rowNum': 5,\n",
       "   'selectedCount': 5,\n",
       "   'subwayId': '1001',\n",
       "   'subwayNm': None,\n",
       "   'updnLine': '하행',\n",
       "   'trainLineNm': '천안행 - 세마방면 (급행)',\n",
       "   'subwayHeading': None,\n",
       "   'statnFid': '1001080156',\n",
       "   'statnTid': '1001080158',\n",
       "   'statnId': '1001080157',\n",
       "   'statnNm': '병점',\n",
       "   'trainCo': None,\n",
       "   'ordkey': '11000천안1',\n",
       "   'subwayList': '1001',\n",
       "   'statnList': '1001080157',\n",
       "   'btrainSttus': '급행',\n",
       "   'barvlDt': '0',\n",
       "   'btrainNo': '1937',\n",
       "   'bstatnId': '65',\n",
       "   'bstatnNm': '천안 (급행)',\n",
       "   'recptnDt': '2023-05-11 17:18:35',\n",
       "   'arvlMsg2': '병점 도착',\n",
       "   'arvlMsg3': '병점',\n",
       "   'arvlCd': '1'}]}"
      ]
     },
     "execution_count": 14,
     "metadata": {},
     "output_type": "execute_result"
    }
   ],
   "source": [
    "res = json.loads(response.text)\n",
    "res"
   ]
  },
  {
   "cell_type": "code",
   "execution_count": 15,
   "metadata": {},
   "outputs": [
    {
     "data": {
      "text/plain": [
       "{'beginRow': None,\n",
       " 'endRow': None,\n",
       " 'curPage': None,\n",
       " 'pageRow': None,\n",
       " 'totalCount': 7,\n",
       " 'rowNum': 1,\n",
       " 'selectedCount': 5,\n",
       " 'subwayId': '1001',\n",
       " 'subwayNm': None,\n",
       " 'updnLine': '상행',\n",
       " 'trainLineNm': '광운대행 - 세류방면',\n",
       " 'subwayHeading': None,\n",
       " 'statnFid': '1001080158',\n",
       " 'statnTid': '1001080156',\n",
       " 'statnId': '1001080157',\n",
       " 'statnNm': '병점',\n",
       " 'trainCo': None,\n",
       " 'ordkey': '01002광운대0',\n",
       " 'subwayList': '1001',\n",
       " 'statnList': '1001080157',\n",
       " 'btrainSttus': None,\n",
       " 'barvlDt': '0',\n",
       " 'btrainNo': '0672',\n",
       " 'bstatnId': '171',\n",
       " 'bstatnNm': '광운대',\n",
       " 'recptnDt': '2023-05-11 17:23:22',\n",
       " 'arvlMsg2': '[2]번째 전역 (오산대)',\n",
       " 'arvlMsg3': '오산대',\n",
       " 'arvlCd': '99'}"
      ]
     },
     "execution_count": 15,
     "metadata": {},
     "output_type": "execute_result"
    }
   ],
   "source": [
    "res['realtimeArrivalList'][0]"
   ]
  },
  {
   "cell_type": "code",
   "execution_count": 19,
   "metadata": {},
   "outputs": [],
   "source": [
    "df = pd.DataFrame(res['realtimeArrivalList'])\n",
    "df = df[['updnLine','trainLineNm','statnNm','btrainSttus','bstatnNm','arvlMsg2','arvlMsg3','barvlDt','arvlCd']]\n",
    "df.btrainSttus.fillna('일반',inplace=True)"
   ]
  },
  {
   "cell_type": "code",
   "execution_count": 20,
   "metadata": {},
   "outputs": [
    {
     "data": {
      "text/html": [
       "<div>\n",
       "<style scoped>\n",
       "    .dataframe tbody tr th:only-of-type {\n",
       "        vertical-align: middle;\n",
       "    }\n",
       "\n",
       "    .dataframe tbody tr th {\n",
       "        vertical-align: top;\n",
       "    }\n",
       "\n",
       "    .dataframe thead th {\n",
       "        text-align: right;\n",
       "    }\n",
       "</style>\n",
       "<table border=\"1\" class=\"dataframe\">\n",
       "  <thead>\n",
       "    <tr style=\"text-align: right;\">\n",
       "      <th></th>\n",
       "      <th>subwayId</th>\n",
       "      <th>updnLine</th>\n",
       "      <th>trainLineNm</th>\n",
       "      <th>statnNm</th>\n",
       "      <th>ordkey</th>\n",
       "      <th>btrainSttus</th>\n",
       "      <th>bstatnNm</th>\n",
       "      <th>arvlMsg2</th>\n",
       "      <th>arvlMsg3</th>\n",
       "      <th>barvlDt</th>\n",
       "      <th>arvlCd</th>\n",
       "    </tr>\n",
       "  </thead>\n",
       "  <tbody>\n",
       "    <tr>\n",
       "      <th>0</th>\n",
       "      <td>1001</td>\n",
       "      <td>상행</td>\n",
       "      <td>광운대행 - 세류방면</td>\n",
       "      <td>병점</td>\n",
       "      <td>01002광운대0</td>\n",
       "      <td>일반</td>\n",
       "      <td>광운대</td>\n",
       "      <td>[2]번째 전역 (오산대)</td>\n",
       "      <td>오산대</td>\n",
       "      <td>0</td>\n",
       "      <td>99</td>\n",
       "    </tr>\n",
       "    <tr>\n",
       "      <th>1</th>\n",
       "      <td>1001</td>\n",
       "      <td>상행</td>\n",
       "      <td>청량리행 - 세류방면 (급행)</td>\n",
       "      <td>병점</td>\n",
       "      <td>01006청량리1</td>\n",
       "      <td>급행</td>\n",
       "      <td>청량리 (급행)</td>\n",
       "      <td>[6]번째 전역 (서정리)</td>\n",
       "      <td>서정리</td>\n",
       "      <td>0</td>\n",
       "      <td>99</td>\n",
       "    </tr>\n",
       "    <tr>\n",
       "      <th>2</th>\n",
       "      <td>1001</td>\n",
       "      <td>상행</td>\n",
       "      <td>광운대행 - 세류방면</td>\n",
       "      <td>병점</td>\n",
       "      <td>02008광운대0</td>\n",
       "      <td>일반</td>\n",
       "      <td>광운대</td>\n",
       "      <td>[8]번째 전역 (평택)</td>\n",
       "      <td>평택</td>\n",
       "      <td>0</td>\n",
       "      <td>99</td>\n",
       "    </tr>\n",
       "    <tr>\n",
       "      <th>3</th>\n",
       "      <td>1001</td>\n",
       "      <td>하행</td>\n",
       "      <td>천안행 - 세마방면</td>\n",
       "      <td>병점</td>\n",
       "      <td>11000천안0</td>\n",
       "      <td>일반</td>\n",
       "      <td>천안</td>\n",
       "      <td>병점 도착</td>\n",
       "      <td>병점</td>\n",
       "      <td>0</td>\n",
       "      <td>1</td>\n",
       "    </tr>\n",
       "    <tr>\n",
       "      <th>4</th>\n",
       "      <td>1001</td>\n",
       "      <td>하행</td>\n",
       "      <td>천안행 - 세마방면 (급행)</td>\n",
       "      <td>병점</td>\n",
       "      <td>11000천안1</td>\n",
       "      <td>급행</td>\n",
       "      <td>천안 (급행)</td>\n",
       "      <td>병점 도착</td>\n",
       "      <td>병점</td>\n",
       "      <td>0</td>\n",
       "      <td>1</td>\n",
       "    </tr>\n",
       "  </tbody>\n",
       "</table>\n",
       "</div>"
      ],
      "text/plain": [
       "  subwayId updnLine       trainLineNm statnNm     ordkey btrainSttus   \n",
       "0     1001       상행       광운대행 - 세류방면      병점  01002광운대0          일반  \\\n",
       "1     1001       상행  청량리행 - 세류방면 (급행)      병점  01006청량리1          급행   \n",
       "2     1001       상행       광운대행 - 세류방면      병점  02008광운대0          일반   \n",
       "3     1001       하행        천안행 - 세마방면      병점   11000천안0          일반   \n",
       "4     1001       하행   천안행 - 세마방면 (급행)      병점   11000천안1          급행   \n",
       "\n",
       "   bstatnNm        arvlMsg2 arvlMsg3 barvlDt arvlCd  \n",
       "0       광운대  [2]번째 전역 (오산대)      오산대       0     99  \n",
       "1  청량리 (급행)  [6]번째 전역 (서정리)      서정리       0     99  \n",
       "2       광운대   [8]번째 전역 (평택)       평택       0     99  \n",
       "3        천안           병점 도착       병점       0      1  \n",
       "4   천안 (급행)           병점 도착       병점       0      1  "
      ]
     },
     "execution_count": 20,
     "metadata": {},
     "output_type": "execute_result"
    }
   ],
   "source": [
    "df"
   ]
  },
  {
   "cell_type": "code",
   "execution_count": 21,
   "metadata": {},
   "outputs": [
    {
     "data": {
      "text/plain": [
       "subwayId       0\n",
       "updnLine       0\n",
       "trainLineNm    0\n",
       "statnNm        0\n",
       "ordkey         0\n",
       "btrainSttus    0\n",
       "bstatnNm       0\n",
       "arvlMsg2       0\n",
       "arvlMsg3       0\n",
       "barvlDt        0\n",
       "arvlCd         0\n",
       "dtype: int64"
      ]
     },
     "execution_count": 21,
     "metadata": {},
     "output_type": "execute_result"
    }
   ],
   "source": [
    "df.isna().sum()"
   ]
  },
  {
   "cell_type": "code",
   "execution_count": null,
   "metadata": {},
   "outputs": [],
   "source": []
  }
 ],
 "metadata": {
  "kernelspec": {
   "display_name": "base",
   "language": "python",
   "name": "python3"
  },
  "language_info": {
   "codemirror_mode": {
    "name": "ipython",
    "version": 3
   },
   "file_extension": ".py",
   "mimetype": "text/x-python",
   "name": "python",
   "nbconvert_exporter": "python",
   "pygments_lexer": "ipython3",
   "version": "3.10.10"
  },
  "orig_nbformat": 4
 },
 "nbformat": 4,
 "nbformat_minor": 2
}
