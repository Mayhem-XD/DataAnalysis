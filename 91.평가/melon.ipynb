{
 "cells": [
  {
   "cell_type": "code",
   "execution_count": 1,
   "metadata": {},
   "outputs": [],
   "source": [
    "import requests\n",
    "from urllib.parse import quote\n",
    "import pandas as pd\n",
    "from bs4 import BeautifulSoup"
   ]
  },
  {
   "cell_type": "code",
   "execution_count": 2,
   "metadata": {},
   "outputs": [],
   "source": [
    "url = 'https://www.melon.com/chart/'\n",
    "header = {'User-Agent':'Mozilla/5.0 (Windows NT 10.0; Win64; x64) AppleWebKit/537.36 (KHTML, like Gecko) Chrome/112.0.0.0 Safari/537.36'}\n",
    "result = requests.get(url, headers=header)\n",
    "soup = BeautifulSoup(result.text,'html.parser')"
   ]
  },
  {
   "cell_type": "code",
   "execution_count": 5,
   "metadata": {},
   "outputs": [
    {
     "data": {
      "text/plain": [
       "100"
      ]
     },
     "execution_count": 5,
     "metadata": {},
     "output_type": "execute_result"
    }
   ],
   "source": [
    "trs = soup.select('tbody > tr')\n",
    "len(trs)"
   ]
  },
  {
   "cell_type": "code",
   "execution_count": 32,
   "metadata": {},
   "outputs": [
    {
     "data": {
      "text/plain": [
       "27"
      ]
     },
     "execution_count": 32,
     "metadata": {},
     "output_type": "execute_result"
    }
   ],
   "source": [
    "tr = trs[50]\n",
    "len(tr)"
   ]
  },
  {
   "cell_type": "code",
   "execution_count": 33,
   "metadata": {},
   "outputs": [
    {
     "data": {
      "text/plain": [
       "'51'"
      ]
     },
     "execution_count": 33,
     "metadata": {},
     "output_type": "execute_result"
    }
   ],
   "source": [
    "# 1. 순위, 제목, 아티스트, 앨범, 앨범이미지 필드를\n",
    "# tr.select_one('.number').get_text().split('\\n')[0]\n",
    "rank = tr.select_one('#lst100 > td > div > span.rank').get_text()\n",
    "rank"
   ]
  },
  {
   "cell_type": "code",
   "execution_count": null,
   "metadata": {},
   "outputs": [],
   "source": [
    "#lst100 > td:nth-child(2) > div > span.rank\n",
    "#lst50 > td:nth-child(2) > div > span.rank"
   ]
  },
  {
   "cell_type": "code",
   "execution_count": 15,
   "metadata": {},
   "outputs": [
    {
     "data": {
      "text/plain": [
       "'I AM'"
      ]
     },
     "execution_count": 15,
     "metadata": {},
     "output_type": "execute_result"
    }
   ],
   "source": [
    "title = tr.select_one('.ellipsis.rank01 > span > a').get_text()\n",
    "title"
   ]
  },
  {
   "cell_type": "code",
   "execution_count": 17,
   "metadata": {},
   "outputs": [
    {
     "data": {
      "text/plain": [
       "'03'"
      ]
     },
     "execution_count": 17,
     "metadata": {},
     "output_type": "execute_result"
    }
   ],
   "source": [
    "test = 3\n",
    "f'{test:02d}'"
   ]
  },
  {
   "cell_type": "code",
   "execution_count": 19,
   "metadata": {},
   "outputs": [
    {
     "data": {
      "text/plain": [
       "'IVE (아이브)'"
      ]
     },
     "execution_count": 19,
     "metadata": {},
     "output_type": "execute_result"
    }
   ],
   "source": [
    "artist = tr.select_one('.ellipsis.rank02 > a').get_text()\n",
    "artist"
   ]
  },
  {
   "cell_type": "code",
   "execution_count": 20,
   "metadata": {},
   "outputs": [
    {
     "data": {
      "text/plain": [
       "\"I've IVE\""
      ]
     },
     "execution_count": 20,
     "metadata": {},
     "output_type": "execute_result"
    }
   ],
   "source": [
    "album = tr.select_one('.ellipsis.rank03 > a').get_text()\n",
    "album"
   ]
  },
  {
   "cell_type": "code",
   "execution_count": 21,
   "metadata": {},
   "outputs": [
    {
     "data": {
      "text/plain": [
       "'https://cdnimg.melon.co.kr/cm2/album/images/112/11/297/11211297_20230410151046_500.jpg/melon/resize/120/quality/80/optimize'"
      ]
     },
     "execution_count": 21,
     "metadata": {},
     "output_type": "execute_result"
    }
   ],
   "source": [
    "album_image = tr.select_one('#lst50 > td > div > a > img')['src']\n",
    "album_image"
   ]
  },
  {
   "cell_type": "code",
   "execution_count": 37,
   "metadata": {},
   "outputs": [
    {
     "data": {
      "text/html": [
       "<div>\n",
       "<style scoped>\n",
       "    .dataframe tbody tr th:only-of-type {\n",
       "        vertical-align: middle;\n",
       "    }\n",
       "\n",
       "    .dataframe tbody tr th {\n",
       "        vertical-align: top;\n",
       "    }\n",
       "\n",
       "    .dataframe thead th {\n",
       "        text-align: right;\n",
       "    }\n",
       "</style>\n",
       "<table border=\"1\" class=\"dataframe\">\n",
       "  <thead>\n",
       "    <tr style=\"text-align: right;\">\n",
       "      <th></th>\n",
       "      <th>rank</th>\n",
       "      <th>img</th>\n",
       "      <th>title</th>\n",
       "      <th>artist</th>\n",
       "      <th>album</th>\n",
       "    </tr>\n",
       "  </thead>\n",
       "  <tbody>\n",
       "    <tr>\n",
       "      <th>45</th>\n",
       "      <td>46</td>\n",
       "      <td>https://cdnimg.melon.co.kr/cm2/album/images/11...</td>\n",
       "      <td>Love Me Like This</td>\n",
       "      <td>NMIXX</td>\n",
       "      <td>expérgo</td>\n",
       "    </tr>\n",
       "    <tr>\n",
       "      <th>46</th>\n",
       "      <td>47</td>\n",
       "      <td>https://cdnimg.melon.co.kr/cm2/album/images/10...</td>\n",
       "      <td>연애편지</td>\n",
       "      <td>임영웅</td>\n",
       "      <td>IM HERO</td>\n",
       "    </tr>\n",
       "    <tr>\n",
       "      <th>47</th>\n",
       "      <td>48</td>\n",
       "      <td>https://cdnimg.melon.co.kr/cm2/album/images/10...</td>\n",
       "      <td>Dynamite</td>\n",
       "      <td>방탄소년단</td>\n",
       "      <td>Dynamite (DayTime Version)</td>\n",
       "    </tr>\n",
       "    <tr>\n",
       "      <th>48</th>\n",
       "      <td>49</td>\n",
       "      <td>https://cdnimg.melon.co.kr/cm2/album/images/11...</td>\n",
       "      <td>The Planet</td>\n",
       "      <td>방탄소년단</td>\n",
       "      <td>The Planet</td>\n",
       "    </tr>\n",
       "    <tr>\n",
       "      <th>49</th>\n",
       "      <td>50</td>\n",
       "      <td>https://cdnimg.melon.co.kr/cm2/album/images/10...</td>\n",
       "      <td>사랑인가 봐</td>\n",
       "      <td>멜로망스</td>\n",
       "      <td>사랑인가 봐 (사내맞선 OST 스페셜 트랙)</td>\n",
       "    </tr>\n",
       "    <tr>\n",
       "      <th>50</th>\n",
       "      <td>51</td>\n",
       "      <td>https://cdnimg.melon.co.kr/cm2/album/images/10...</td>\n",
       "      <td>보금자리</td>\n",
       "      <td>임영웅</td>\n",
       "      <td>IM HERO</td>\n",
       "    </tr>\n",
       "    <tr>\n",
       "      <th>51</th>\n",
       "      <td>52</td>\n",
       "      <td>https://cdnimg.melon.co.kr/cm/album/images/100...</td>\n",
       "      <td>봄날</td>\n",
       "      <td>방탄소년단</td>\n",
       "      <td>YOU NEVER WALK ALONE</td>\n",
       "    </tr>\n",
       "    <tr>\n",
       "      <th>52</th>\n",
       "      <td>53</td>\n",
       "      <td>https://cdnimg.melon.co.kr/cm2/album/images/11...</td>\n",
       "      <td>사랑하지 않아서 그랬어</td>\n",
       "      <td>임한별</td>\n",
       "      <td>사랑하지 않아서 그랬어</td>\n",
       "    </tr>\n",
       "    <tr>\n",
       "      <th>53</th>\n",
       "      <td>54</td>\n",
       "      <td>https://cdnimg.melon.co.kr/cm/album/images/022...</td>\n",
       "      <td>너의 모든 순간</td>\n",
       "      <td>성시경</td>\n",
       "      <td>별에서 온 그대 OST Part.7</td>\n",
       "    </tr>\n",
       "    <tr>\n",
       "      <th>54</th>\n",
       "      <td>55</td>\n",
       "      <td>https://cdnimg.melon.co.kr/cm2/album/images/11...</td>\n",
       "      <td>먼지</td>\n",
       "      <td>세븐틴 (SEVENTEEN)</td>\n",
       "      <td>SEVENTEEN 10th Mini Album ‘FML'</td>\n",
       "    </tr>\n",
       "    <tr>\n",
       "      <th>55</th>\n",
       "      <td>56</td>\n",
       "      <td>https://cdnimg.melon.co.kr/cm2/album/images/11...</td>\n",
       "      <td>사랑하기 싫어</td>\n",
       "      <td>지아</td>\n",
       "      <td>사랑하기 싫어</td>\n",
       "    </tr>\n",
       "    <tr>\n",
       "      <th>56</th>\n",
       "      <td>57</td>\n",
       "      <td>https://cdnimg.melon.co.kr/cm2/album/images/10...</td>\n",
       "      <td>Butter</td>\n",
       "      <td>방탄소년단</td>\n",
       "      <td>Butter</td>\n",
       "    </tr>\n",
       "    <tr>\n",
       "      <th>57</th>\n",
       "      <td>58</td>\n",
       "      <td>https://cdnimg.melon.co.kr/cm2/album/images/11...</td>\n",
       "      <td>건물 사이에 피어난 장미 (Rose Blossom)</td>\n",
       "      <td>H1-KEY (하이키)</td>\n",
       "      <td>H1-KEY 1st Mini Album [Rose Blossom]</td>\n",
       "    </tr>\n",
       "    <tr>\n",
       "      <th>58</th>\n",
       "      <td>59</td>\n",
       "      <td>https://cdnimg.melon.co.kr/cm2/album/images/11...</td>\n",
       "      <td>Candy</td>\n",
       "      <td>NCT DREAM</td>\n",
       "      <td>Candy - Winter Special Mini Album</td>\n",
       "    </tr>\n",
       "    <tr>\n",
       "      <th>59</th>\n",
       "      <td>60</td>\n",
       "      <td>https://cdnimg.melon.co.kr/cm2/album/images/10...</td>\n",
       "      <td>해요 (2022)</td>\n",
       "      <td>#안녕</td>\n",
       "      <td>해요 (2022)</td>\n",
       "    </tr>\n",
       "  </tbody>\n",
       "</table>\n",
       "</div>"
      ],
      "text/plain": [
       "   rank                                                img   \n",
       "45   46  https://cdnimg.melon.co.kr/cm2/album/images/11...  \\\n",
       "46   47  https://cdnimg.melon.co.kr/cm2/album/images/10...   \n",
       "47   48  https://cdnimg.melon.co.kr/cm2/album/images/10...   \n",
       "48   49  https://cdnimg.melon.co.kr/cm2/album/images/11...   \n",
       "49   50  https://cdnimg.melon.co.kr/cm2/album/images/10...   \n",
       "50   51  https://cdnimg.melon.co.kr/cm2/album/images/10...   \n",
       "51   52  https://cdnimg.melon.co.kr/cm/album/images/100...   \n",
       "52   53  https://cdnimg.melon.co.kr/cm2/album/images/11...   \n",
       "53   54  https://cdnimg.melon.co.kr/cm/album/images/022...   \n",
       "54   55  https://cdnimg.melon.co.kr/cm2/album/images/11...   \n",
       "55   56  https://cdnimg.melon.co.kr/cm2/album/images/11...   \n",
       "56   57  https://cdnimg.melon.co.kr/cm2/album/images/10...   \n",
       "57   58  https://cdnimg.melon.co.kr/cm2/album/images/11...   \n",
       "58   59  https://cdnimg.melon.co.kr/cm2/album/images/11...   \n",
       "59   60  https://cdnimg.melon.co.kr/cm2/album/images/10...   \n",
       "\n",
       "                           title           artist   \n",
       "45             Love Me Like This            NMIXX  \\\n",
       "46                          연애편지              임영웅   \n",
       "47                      Dynamite            방탄소년단   \n",
       "48                    The Planet            방탄소년단   \n",
       "49                        사랑인가 봐             멜로망스   \n",
       "50                          보금자리              임영웅   \n",
       "51                            봄날            방탄소년단   \n",
       "52                  사랑하지 않아서 그랬어              임한별   \n",
       "53                      너의 모든 순간              성시경   \n",
       "54                            먼지  세븐틴 (SEVENTEEN)   \n",
       "55                       사랑하기 싫어               지아   \n",
       "56                        Butter            방탄소년단   \n",
       "57  건물 사이에 피어난 장미 (Rose Blossom)     H1-KEY (하이키)   \n",
       "58                         Candy        NCT DREAM   \n",
       "59                     해요 (2022)              #안녕   \n",
       "\n",
       "                                   album  \n",
       "45                               expérgo  \n",
       "46                               IM HERO  \n",
       "47            Dynamite (DayTime Version)  \n",
       "48                            The Planet  \n",
       "49              사랑인가 봐 (사내맞선 OST 스페셜 트랙)  \n",
       "50                               IM HERO  \n",
       "51                  YOU NEVER WALK ALONE  \n",
       "52                          사랑하지 않아서 그랬어  \n",
       "53                   별에서 온 그대 OST Part.7  \n",
       "54       SEVENTEEN 10th Mini Album ‘FML'  \n",
       "55                               사랑하기 싫어  \n",
       "56                                Butter  \n",
       "57  H1-KEY 1st Mini Album [Rose Blossom]  \n",
       "58     Candy - Winter Special Mini Album  \n",
       "59                             해요 (2022)  "
      ]
     },
     "execution_count": 37,
     "metadata": {},
     "output_type": "execute_result"
    }
   ],
   "source": [
    "lines = []\n",
    "for tr in trs:\n",
    "    try:\n",
    "        rank = tr.select_one('#lst50 > td > div > span.rank').get_text()\n",
    "        img = tr.select_one('#lst50 > td > div > a > img')['src']\n",
    "    except:\n",
    "        rank = tr.select_one('#lst100 > td > div > span.rank').get_text()\n",
    "        img = tr.select_one('#lst100 > td > div > a > img')['src']\n",
    "    title = tr.select_one('.ellipsis.rank01 > span > a').get_text().strip()\n",
    "    artist = tr.select_one('.ellipsis.rank02 > a').get_text().strip()\n",
    "    album = tr.select_one('.ellipsis.rank03 > a').get_text().strip()\n",
    "    lines.append({'rank':rank,'img':img,'title':title,'artist':artist,'album':album})\n",
    "df = pd.DataFrame(lines)\n",
    "df.head(60).tail(15)"
   ]
  },
  {
   "cell_type": "code",
   "execution_count": 40,
   "metadata": {},
   "outputs": [
    {
     "name": "stdout",
     "output_type": "stream",
     "text": [
      "230512\n"
     ]
    }
   ],
   "source": [
    "from datetime import datetime\n",
    "now = datetime.now()\n",
    "f_date = now.strftime('%y%m%d')\n",
    "print(f_date)"
   ]
  },
  {
   "cell_type": "code",
   "execution_count": 42,
   "metadata": {},
   "outputs": [],
   "source": [
    "df.to_csv(f'{f_date}.csv',index=False)\n"
   ]
  },
  {
   "cell_type": "code",
   "execution_count": null,
   "metadata": {},
   "outputs": [],
   "source": []
  }
 ],
 "metadata": {
  "kernelspec": {
   "display_name": "base",
   "language": "python",
   "name": "python3"
  },
  "language_info": {
   "codemirror_mode": {
    "name": "ipython",
    "version": 3
   },
   "file_extension": ".py",
   "mimetype": "text/x-python",
   "name": "python",
   "nbconvert_exporter": "python",
   "pygments_lexer": "ipython3",
   "version": "3.10.10"
  },
  "orig_nbformat": 4
 },
 "nbformat": 4,
 "nbformat_minor": 2
}
