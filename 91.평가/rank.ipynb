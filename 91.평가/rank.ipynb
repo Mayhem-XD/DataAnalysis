{
 "cells": [
  {
   "cell_type": "code",
   "execution_count": 17,
   "metadata": {},
   "outputs": [],
   "source": [
    "import requests, time, re\n",
    "from urllib.parse import quote\n",
    "import pandas as pd\n",
    "from bs4 import BeautifulSoup"
   ]
  },
  {
   "cell_type": "code",
   "execution_count": 18,
   "metadata": {},
   "outputs": [],
   "source": [
    "url= 'https://youtube-rank.com/board/bbs/board.php?bo_table=youtube&page=1'\n",
    "header = {'User-Agent':'Mozilla/5.0 (Windows NT 10.0; Win64; x64) AppleWebKit/537.36 (KHTML, like Gecko) Chrome/112.0.0.0 Safari/537.36'}\n",
    "result = requests.get(url, headers=header)\n",
    "soup = BeautifulSoup(result.text,'html.parser')"
   ]
  },
  {
   "cell_type": "code",
   "execution_count": 19,
   "metadata": {},
   "outputs": [
    {
     "data": {
      "text/plain": [
       "100"
      ]
     },
     "execution_count": 19,
     "metadata": {},
     "output_type": "execute_result"
    }
   ],
   "source": [
    "lis = soup.select('form > table > tbody > tr')\n",
    "len(lis)"
   ]
  },
  {
   "cell_type": "code",
   "execution_count": 20,
   "metadata": {},
   "outputs": [
    {
     "data": {
      "text/html": [
       "<div>\n",
       "<style scoped>\n",
       "    .dataframe tbody tr th:only-of-type {\n",
       "        vertical-align: middle;\n",
       "    }\n",
       "\n",
       "    .dataframe tbody tr th {\n",
       "        vertical-align: top;\n",
       "    }\n",
       "\n",
       "    .dataframe thead th {\n",
       "        text-align: right;\n",
       "    }\n",
       "</style>\n",
       "<table border=\"1\" class=\"dataframe\">\n",
       "  <thead>\n",
       "    <tr style=\"text-align: right;\">\n",
       "      <th></th>\n",
       "      <th>순위</th>\n",
       "      <th>카테고리</th>\n",
       "      <th>채널명</th>\n",
       "      <th>구독자수(만명)</th>\n",
       "      <th>조회수(만회)</th>\n",
       "      <th>비디오수</th>\n",
       "    </tr>\n",
       "  </thead>\n",
       "  <tbody>\n",
       "    <tr>\n",
       "      <th>0</th>\n",
       "      <td>1</td>\n",
       "      <td>[음악/댄스/가수]</td>\n",
       "      <td>BLACKPINK</td>\n",
       "      <td>8800</td>\n",
       "      <td>3095913</td>\n",
       "      <td>514</td>\n",
       "    </tr>\n",
       "    <tr>\n",
       "      <th>1</th>\n",
       "      <td>2</td>\n",
       "      <td>[음악/댄스/가수]</td>\n",
       "      <td>BANGTANTV</td>\n",
       "      <td>7460</td>\n",
       "      <td>2027939</td>\n",
       "      <td>2195</td>\n",
       "    </tr>\n",
       "    <tr>\n",
       "      <th>2</th>\n",
       "      <td>3</td>\n",
       "      <td>[음악/댄스/가수]</td>\n",
       "      <td>HYBE LABELS</td>\n",
       "      <td>7060</td>\n",
       "      <td>2769031</td>\n",
       "      <td>1185</td>\n",
       "    </tr>\n",
       "    <tr>\n",
       "      <th>3</th>\n",
       "      <td>4</td>\n",
       "      <td>[음악/댄스/가수]</td>\n",
       "      <td>SMTOWN</td>\n",
       "      <td>3170</td>\n",
       "      <td>2692858</td>\n",
       "      <td>4121</td>\n",
       "    </tr>\n",
       "    <tr>\n",
       "      <th>4</th>\n",
       "      <td>5</td>\n",
       "      <td>[음악/댄스/가수]</td>\n",
       "      <td>JYP Entertainment</td>\n",
       "      <td>2690</td>\n",
       "      <td>1939523</td>\n",
       "      <td>1678</td>\n",
       "    </tr>\n",
       "  </tbody>\n",
       "</table>\n",
       "</div>"
      ],
      "text/plain": [
       "   순위        카테고리                채널명  구독자수(만명)  조회수(만회)  비디오수\n",
       "0   1  [음악/댄스/가수]          BLACKPINK      8800  3095913   514\n",
       "1   2  [음악/댄스/가수]          BANGTANTV      7460  2027939  2195\n",
       "2   3  [음악/댄스/가수]        HYBE LABELS      7060  2769031  1185\n",
       "3   4  [음악/댄스/가수]             SMTOWN      3170  2692858  4121\n",
       "4   5  [음악/댄스/가수]  JYP Entertainment      2690  1939523  1678"
      ]
     },
     "execution_count": 20,
     "metadata": {},
     "output_type": "execute_result"
    }
   ],
   "source": [
    "lines = []\n",
    "for i in range(1,11):\n",
    "    url_base = 'https://youtube-rank.com/board/bbs/board.php?bo_table=youtube&page='\n",
    "    res = requests.get(url_base+str(i))\n",
    "    soup = BeautifulSoup(res.text)\n",
    "    for li in lis:\n",
    "        rank = int(li.select_one('.rank').get_text().strip())\n",
    "        category = li.select_one('.category').get_text().strip()\n",
    "        channel = li.select_one('form > table > tbody > tr > td > h1 >a').get_text().replace('\\t\\r\\n','').strip()\n",
    "        subscriber_cnt = int(li.select_one('.subscriber_cnt').get_text()[:-1])\n",
    "        view_cnt = li.select_one('.view_cnt').get_text()\n",
    "        view_cnt = int(re.sub('[ㄱ-ㅎㅏ-ㅣ가-힣]','', view_cnt))\n",
    "        video_cnt = li.select_one('.video_cnt').get_text()\n",
    "        video_cnt = int(re.sub('[ㄱ-ㅎㅏ-ㅣ가-힣,]','', video_cnt))\n",
    "        lines.append({'순위':rank,'카테고리':category,'채널명':channel,'구독자수(만명)':subscriber_cnt,\n",
    "                    '조회수(만회)':view_cnt,'비디오수':video_cnt})\n",
    "df = pd.DataFrame(lines)\n",
    "df.head()"
   ]
  },
  {
   "cell_type": "code",
   "execution_count": 21,
   "metadata": {},
   "outputs": [],
   "source": [
    "# 1. 구독자순 기준으로 Top 1000 을 크롤링하여 순위, 카테고리, 채널명, 구독자수, 조회수, 비디오수 필드를 데이터프레임으로 \n",
    "#    만드세요"
   ]
  },
  {
   "cell_type": "code",
   "execution_count": 24,
   "metadata": {},
   "outputs": [
    {
     "data": {
      "text/html": [
       "<div>\n",
       "<style scoped>\n",
       "    .dataframe tbody tr th:only-of-type {\n",
       "        vertical-align: middle;\n",
       "    }\n",
       "\n",
       "    .dataframe tbody tr th {\n",
       "        vertical-align: top;\n",
       "    }\n",
       "\n",
       "    .dataframe thead th {\n",
       "        text-align: right;\n",
       "    }\n",
       "</style>\n",
       "<table border=\"1\" class=\"dataframe\">\n",
       "  <thead>\n",
       "    <tr style=\"text-align: right;\">\n",
       "      <th></th>\n",
       "      <th>순위</th>\n",
       "      <th>카테고리</th>\n",
       "      <th>채널명</th>\n",
       "      <th>구독자수(만명)</th>\n",
       "      <th>조회수(만회)</th>\n",
       "      <th>비디오수</th>\n",
       "    </tr>\n",
       "  </thead>\n",
       "  <tbody>\n",
       "    <tr>\n",
       "      <th>0</th>\n",
       "      <td>1</td>\n",
       "      <td>[음악/댄스/가수]</td>\n",
       "      <td>BLACKPINK</td>\n",
       "      <td>8800</td>\n",
       "      <td>3095913</td>\n",
       "      <td>514</td>\n",
       "    </tr>\n",
       "    <tr>\n",
       "      <th>1</th>\n",
       "      <td>2</td>\n",
       "      <td>[음악/댄스/가수]</td>\n",
       "      <td>BANGTANTV</td>\n",
       "      <td>7460</td>\n",
       "      <td>2027939</td>\n",
       "      <td>2195</td>\n",
       "    </tr>\n",
       "    <tr>\n",
       "      <th>2</th>\n",
       "      <td>3</td>\n",
       "      <td>[음악/댄스/가수]</td>\n",
       "      <td>HYBE LABELS</td>\n",
       "      <td>7060</td>\n",
       "      <td>2769031</td>\n",
       "      <td>1185</td>\n",
       "    </tr>\n",
       "    <tr>\n",
       "      <th>3</th>\n",
       "      <td>4</td>\n",
       "      <td>[음악/댄스/가수]</td>\n",
       "      <td>SMTOWN</td>\n",
       "      <td>3170</td>\n",
       "      <td>2692858</td>\n",
       "      <td>4121</td>\n",
       "    </tr>\n",
       "    <tr>\n",
       "      <th>4</th>\n",
       "      <td>5</td>\n",
       "      <td>[음악/댄스/가수]</td>\n",
       "      <td>JYP Entertainment</td>\n",
       "      <td>2690</td>\n",
       "      <td>1939523</td>\n",
       "      <td>1678</td>\n",
       "    </tr>\n",
       "    <tr>\n",
       "      <th>5</th>\n",
       "      <td>6</td>\n",
       "      <td>[키즈/어린이]</td>\n",
       "      <td>Boram Tube Vlog [보람튜브 브이로그]</td>\n",
       "      <td>2650</td>\n",
       "      <td>1105288</td>\n",
       "      <td>223</td>\n",
       "    </tr>\n",
       "    <tr>\n",
       "      <th>6</th>\n",
       "      <td>7</td>\n",
       "      <td>[음악/댄스/가수]</td>\n",
       "      <td>1MILLION Dance Studio</td>\n",
       "      <td>2600</td>\n",
       "      <td>779986</td>\n",
       "      <td>5385</td>\n",
       "    </tr>\n",
       "    <tr>\n",
       "      <th>7</th>\n",
       "      <td>8</td>\n",
       "      <td>[음악/댄스/가수]</td>\n",
       "      <td>1theK (원더케이)</td>\n",
       "      <td>2450</td>\n",
       "      <td>2370476</td>\n",
       "      <td>18177</td>\n",
       "    </tr>\n",
       "    <tr>\n",
       "      <th>8</th>\n",
       "      <td>9</td>\n",
       "      <td>[미분류]</td>\n",
       "      <td>Alan Becker</td>\n",
       "      <td>2200</td>\n",
       "      <td>510309</td>\n",
       "      <td>152</td>\n",
       "    </tr>\n",
       "    <tr>\n",
       "      <th>9</th>\n",
       "      <td>10</td>\n",
       "      <td>[음악/댄스/가수]</td>\n",
       "      <td>Mnet K-POP</td>\n",
       "      <td>2050</td>\n",
       "      <td>1473307</td>\n",
       "      <td>32240</td>\n",
       "    </tr>\n",
       "    <tr>\n",
       "      <th>10</th>\n",
       "      <td>11</td>\n",
       "      <td>[TV/방송]</td>\n",
       "      <td>KBS WORLD TV</td>\n",
       "      <td>1890</td>\n",
       "      <td>1490974</td>\n",
       "      <td>63147</td>\n",
       "    </tr>\n",
       "    <tr>\n",
       "      <th>11</th>\n",
       "      <td>12</td>\n",
       "      <td>[음악/댄스/가수]</td>\n",
       "      <td>officialpsy</td>\n",
       "      <td>1800</td>\n",
       "      <td>1056043</td>\n",
       "      <td>127</td>\n",
       "    </tr>\n",
       "    <tr>\n",
       "      <th>12</th>\n",
       "      <td>14</td>\n",
       "      <td>[음식/요리/레시피]</td>\n",
       "      <td>Jane ASMR 제인</td>\n",
       "      <td>1760</td>\n",
       "      <td>726156</td>\n",
       "      <td>2116</td>\n",
       "    </tr>\n",
       "    <tr>\n",
       "      <th>13</th>\n",
       "      <td>13</td>\n",
       "      <td>[음악/댄스/가수]</td>\n",
       "      <td>JFlaMusic</td>\n",
       "      <td>1760</td>\n",
       "      <td>378631</td>\n",
       "      <td>317</td>\n",
       "    </tr>\n",
       "    <tr>\n",
       "      <th>14</th>\n",
       "      <td>15</td>\n",
       "      <td>[음악/댄스/가수]</td>\n",
       "      <td>TWICE</td>\n",
       "      <td>1580</td>\n",
       "      <td>486022</td>\n",
       "      <td>1092</td>\n",
       "    </tr>\n",
       "  </tbody>\n",
       "</table>\n",
       "</div>"
      ],
      "text/plain": [
       "    순위         카테고리                          채널명  구독자수(만명)  조회수(만회)   비디오수\n",
       "0    1   [음악/댄스/가수]                    BLACKPINK      8800  3095913    514\n",
       "1    2   [음악/댄스/가수]                    BANGTANTV      7460  2027939   2195\n",
       "2    3   [음악/댄스/가수]                  HYBE LABELS      7060  2769031   1185\n",
       "3    4   [음악/댄스/가수]                       SMTOWN      3170  2692858   4121\n",
       "4    5   [음악/댄스/가수]            JYP Entertainment      2690  1939523   1678\n",
       "5    6     [키즈/어린이]  Boram Tube Vlog [보람튜브 브이로그]      2650  1105288    223\n",
       "6    7   [음악/댄스/가수]        1MILLION Dance Studio      2600   779986   5385\n",
       "7    8   [음악/댄스/가수]                 1theK (원더케이)      2450  2370476  18177\n",
       "8    9        [미분류]                  Alan Becker      2200   510309    152\n",
       "9   10   [음악/댄스/가수]                   Mnet K-POP      2050  1473307  32240\n",
       "10  11      [TV/방송]                 KBS WORLD TV      1890  1490974  63147\n",
       "11  12   [음악/댄스/가수]                  officialpsy      1800  1056043    127\n",
       "12  14  [음식/요리/레시피]                 Jane ASMR 제인      1760   726156   2116\n",
       "13  13   [음악/댄스/가수]                    JFlaMusic      1760   378631    317\n",
       "14  15   [음악/댄스/가수]                        TWICE      1580   486022   1092"
      ]
     },
     "execution_count": 24,
     "metadata": {},
     "output_type": "execute_result"
    }
   ],
   "source": [
    "df1 = df.head(20).sort_values(by='구독자수(만명)',ascending=False).copy()\n",
    "df1.head(15)"
   ]
  },
  {
   "cell_type": "code",
   "execution_count": null,
   "metadata": {},
   "outputs": [],
   "source": [
    "temp = []\n",
    "for \n",
    "    df1"
   ]
  },
  {
   "cell_type": "code",
   "execution_count": 32,
   "metadata": {},
   "outputs": [
    {
     "data": {
      "text/plain": [
       "'[음악/댄스/가수]'"
      ]
     },
     "execution_count": 32,
     "metadata": {},
     "output_type": "execute_result"
    }
   ],
   "source": [
    "aa = df1.values\n",
    "aa[0][1]"
   ]
  },
  {
   "cell_type": "code",
   "execution_count": 25,
   "metadata": {},
   "outputs": [
    {
     "data": {
      "text/html": [
       "<div>\n",
       "<style scoped>\n",
       "    .dataframe tbody tr th:only-of-type {\n",
       "        vertical-align: middle;\n",
       "    }\n",
       "\n",
       "    .dataframe tbody tr th {\n",
       "        vertical-align: top;\n",
       "    }\n",
       "\n",
       "    .dataframe thead th {\n",
       "        text-align: right;\n",
       "    }\n",
       "</style>\n",
       "<table border=\"1\" class=\"dataframe\">\n",
       "  <thead>\n",
       "    <tr style=\"text-align: right;\">\n",
       "      <th></th>\n",
       "      <th>채널명</th>\n",
       "    </tr>\n",
       "    <tr>\n",
       "      <th>카테고리</th>\n",
       "      <th></th>\n",
       "    </tr>\n",
       "  </thead>\n",
       "  <tbody>\n",
       "    <tr>\n",
       "      <th>[음악/댄스/가수]</th>\n",
       "      <td>380</td>\n",
       "    </tr>\n",
       "    <tr>\n",
       "      <th>[키즈/어린이]</th>\n",
       "      <td>230</td>\n",
       "    </tr>\n",
       "    <tr>\n",
       "      <th>[TV/방송]</th>\n",
       "      <td>110</td>\n",
       "    </tr>\n",
       "    <tr>\n",
       "      <th>[음식/요리/레시피]</th>\n",
       "      <td>110</td>\n",
       "    </tr>\n",
       "    <tr>\n",
       "      <th>[미분류]</th>\n",
       "      <td>70</td>\n",
       "    </tr>\n",
       "    <tr>\n",
       "      <th>[뉴스/정치/사회]</th>\n",
       "      <td>30</td>\n",
       "    </tr>\n",
       "    <tr>\n",
       "      <th>[BJ/인물/연예인]</th>\n",
       "      <td>20</td>\n",
       "    </tr>\n",
       "    <tr>\n",
       "      <th>[회사/오피셜]</th>\n",
       "      <td>20</td>\n",
       "    </tr>\n",
       "    <tr>\n",
       "      <th>[애완/반려동물]</th>\n",
       "      <td>10</td>\n",
       "    </tr>\n",
       "    <tr>\n",
       "      <th>[패션/미용]</th>\n",
       "      <td>10</td>\n",
       "    </tr>\n",
       "  </tbody>\n",
       "</table>\n",
       "</div>"
      ],
      "text/plain": [
       "             채널명\n",
       "카테고리            \n",
       "[음악/댄스/가수]   380\n",
       "[키즈/어린이]     230\n",
       "[TV/방송]      110\n",
       "[음식/요리/레시피]  110\n",
       "[미분류]         70\n",
       "[뉴스/정치/사회]    30\n",
       "[BJ/인물/연예인]   20\n",
       "[회사/오피셜]      20\n",
       "[애완/반려동물]     10\n",
       "[패션/미용]       10"
      ]
     },
     "execution_count": 25,
     "metadata": {},
     "output_type": "execute_result"
    }
   ],
   "source": [
    "df2 = df.pivot_table('채널명', '카테고리', aggfunc='count').sort_values('채널명', ascending=False).head(10).copy()\n",
    "df2.head(20)"
   ]
  },
  {
   "cell_type": "code",
   "execution_count": 39,
   "metadata": {},
   "outputs": [
    {
     "data": {
      "text/plain": [
       "Index(['[음악/댄스/가수]', '[키즈/어린이]', '[TV/방송]', '[음식/요리/레시피]', '[미분류]',\n",
       "       '[뉴스/정치/사회]', '[BJ/인물/연예인]', '[회사/오피셜]', '[애완/반려동물]', '[패션/미용]'],\n",
       "      dtype='object', name='카테고리')"
      ]
     },
     "execution_count": 39,
     "metadata": {},
     "output_type": "execute_result"
    }
   ],
   "source": [
    "ds = str(df2.values)\n",
    "dd = df2.index\n",
    "dd"
   ]
  },
  {
   "cell_type": "code",
   "execution_count": 38,
   "metadata": {},
   "outputs": [
    {
     "data": {
      "text/plain": [
       "'[[380]\\n [230]\\n [110]\\n [110]\\n [ 70]\\n [ 30]\\n [ 20]\\n [ 20]\\n [ 10]\\n [ 10]]'"
      ]
     },
     "execution_count": 38,
     "metadata": {},
     "output_type": "execute_result"
    }
   ],
   "source": [
    "ds"
   ]
  },
  {
   "cell_type": "code",
   "execution_count": null,
   "metadata": {},
   "outputs": [],
   "source": []
  }
 ],
 "metadata": {
  "kernelspec": {
   "display_name": "base",
   "language": "python",
   "name": "python3"
  },
  "language_info": {
   "codemirror_mode": {
    "name": "ipython",
    "version": 3
   },
   "file_extension": ".py",
   "mimetype": "text/x-python",
   "name": "python",
   "nbconvert_exporter": "python",
   "pygments_lexer": "ipython3",
   "version": "3.10.10"
  },
  "orig_nbformat": 4
 },
 "nbformat": 4,
 "nbformat_minor": 2
}
